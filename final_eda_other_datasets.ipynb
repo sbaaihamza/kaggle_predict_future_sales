{
 "cells": [
  {
   "cell_type": "code",
   "execution_count": 1,
   "metadata": {
    "collapsed": true
   },
   "outputs": [],
   "source": [
    "import numpy as np\n",
    "import pandas as pd \n",
    "import sklearn\n",
    "import scipy.sparse \n",
    "import lightgbm as lgb\n",
    "import seaborn as sns\n",
    "import pickle\n",
    "\n",
    "from sklearn.linear_model import LinearRegression\n",
    "from sklearn.metrics import mean_squared_error\n",
    "from sklearn.ensemble import RandomForestRegressor\n",
    "\n",
    "# to make this notebook's output stable across runs\n",
    "np.random.seed(42)\n",
    "\n",
    "# To plot pretty figures\n",
    "%matplotlib inline\n",
    "import matplotlib\n",
    "import matplotlib.pyplot as plt\n",
    "plt.rcParams['axes.labelsize'] = 14\n",
    "plt.rcParams['xtick.labelsize'] = 12\n",
    "plt.rcParams['ytick.labelsize'] = 12\n",
    "pd.set_option('display.max_rows', 600)\n",
    "pd.set_option('display.max_columns', 50)\n",
    "sns.set(rc={'figure.figsize':(20, 10)})\n",
    "\n",
    "# Ignore useless warnings (see SciPy issue #5998)\n",
    "import warnings\n",
    "warnings.filterwarnings(action=\"ignore\", module=\"scipy\", message=\"^internal gelsd\")"
   ]
  },
  {
   "cell_type": "code",
   "execution_count": 2,
   "metadata": {},
   "outputs": [
    {
     "name": "stdout",
     "output_type": "stream",
     "text": [
      "numpy 1.14.2\n",
      "pandas 0.23.4\n",
      "sklearn 0.19.1\n",
      "scipy 0.19.1\n",
      "lightgbm 2.1.1\n",
      "seaborn 0.8.0\n"
     ]
    }
   ],
   "source": [
    "for p in [np, pd, sklearn, scipy, lgb, sns]:\n",
    "    print (p.__name__, p.__version__)"
   ]
  },
  {
   "cell_type": "markdown",
   "metadata": {},
   "source": [
    "# load the data"
   ]
  },
  {
   "cell_type": "code",
   "execution_count": 3,
   "metadata": {
    "collapsed": true
   },
   "outputs": [],
   "source": [
    "import os\n",
    "import tarfile\n",
    "from six.moves import urllib\n",
    "PATH = os.path.join(\"journey\", \"data\")\n",
    "def load_data(file):\n",
    "    csv_path = os.path.join(PATH,file)\n",
    "    return pd.read_csv(csv_path)"
   ]
  },
  {
   "cell_type": "code",
   "execution_count": 4,
   "metadata": {},
   "outputs": [
    {
     "name": "stdout",
     "output_type": "stream",
     "text": [
      "[nltk_data] Downloading package stopwords to C:\\Users\\Hamza\n",
      "[nltk_data]     SBAAI\\AppData\\Roaming\\nltk_data...\n",
      "[nltk_data]   Package stopwords is already up-to-date!\n"
     ]
    }
   ],
   "source": [
    "import nltk\n",
    "nltk.download(\"stopwords\")\n",
    "#--------#\n",
    "\n",
    "from nltk.corpus import stopwords\n",
    "from pymystem3 import Mystem\n",
    "from string import punctuation\n",
    "\n",
    "#Create lemmatizer and stopwords list\n",
    "mystem = Mystem() \n",
    "russian_stopwords = stopwords.words(\"russian\")\n",
    "\n",
    "#Preprocess function\n",
    "def preprocess_text(text):\n",
    "    tokens = mystem.lemmatize(text.lower())\n",
    "    tokens = [token for token in tokens if token not in russian_stopwords\\\n",
    "              and token != \" \" \\\n",
    "              and token.strip() not in punctuation]\n",
    "    \n",
    "    text = \" \".join(tokens)\n",
    "    \n",
    "    return text"
   ]
  },
  {
   "cell_type": "code",
   "execution_count": 113,
   "metadata": {
    "collapsed": true
   },
   "outputs": [],
   "source": [
    "sales = load_data('sales_train.csv')\n",
    "shops = load_data('shops.csv')\n",
    "items = load_data('items.csv')\n",
    "item_cats = load_data('item_categories.csv')\n",
    "test = load_data('test.csv')"
   ]
  },
  {
   "cell_type": "code",
   "execution_count": 6,
   "metadata": {},
   "outputs": [
    {
     "data": {
      "text/html": [
       "<div>\n",
       "<style scoped>\n",
       "    .dataframe tbody tr th:only-of-type {\n",
       "        vertical-align: middle;\n",
       "    }\n",
       "\n",
       "    .dataframe tbody tr th {\n",
       "        vertical-align: top;\n",
       "    }\n",
       "\n",
       "    .dataframe thead th {\n",
       "        text-align: right;\n",
       "    }\n",
       "</style>\n",
       "<table border=\"1\" class=\"dataframe\">\n",
       "  <thead>\n",
       "    <tr style=\"text-align: right;\">\n",
       "      <th></th>\n",
       "      <th>date</th>\n",
       "      <th>date_block_num</th>\n",
       "      <th>shop_id</th>\n",
       "      <th>item_id</th>\n",
       "      <th>item_price</th>\n",
       "      <th>item_cnt_day</th>\n",
       "      <th>date_min</th>\n",
       "      <th>date_max</th>\n",
       "      <th>item_time</th>\n",
       "      <th>item_block</th>\n",
       "      <th>item_shop_block</th>\n",
       "      <th>new_cats</th>\n",
       "      <th>item_category_id</th>\n",
       "      <th>item_price_mean_x</th>\n",
       "      <th>item_cnt_day_mean_x</th>\n",
       "      <th>item_cnt_day_mean_y</th>\n",
       "      <th>item_price_mean_y</th>\n",
       "    </tr>\n",
       "  </thead>\n",
       "  <tbody>\n",
       "    <tr>\n",
       "      <th>0</th>\n",
       "      <td>2013-02-01</td>\n",
       "      <td>0</td>\n",
       "      <td>59</td>\n",
       "      <td>22154</td>\n",
       "      <td>999.0</td>\n",
       "      <td>1.0</td>\n",
       "      <td>2013-01-04</td>\n",
       "      <td>2015-12-07</td>\n",
       "      <td>1067.0</td>\n",
       "      <td>33</td>\n",
       "      <td>0</td>\n",
       "      <td>5</td>\n",
       "      <td>37</td>\n",
       "      <td>656.619707</td>\n",
       "      <td>1.122238</td>\n",
       "      <td>1.015202</td>\n",
       "      <td>514.252938</td>\n",
       "    </tr>\n",
       "    <tr>\n",
       "      <th>1</th>\n",
       "      <td>2015-07-21</td>\n",
       "      <td>30</td>\n",
       "      <td>59</td>\n",
       "      <td>21619</td>\n",
       "      <td>499.0</td>\n",
       "      <td>1.0</td>\n",
       "      <td>2013-01-04</td>\n",
       "      <td>2015-12-06</td>\n",
       "      <td>1066.0</td>\n",
       "      <td>33</td>\n",
       "      <td>0</td>\n",
       "      <td>5</td>\n",
       "      <td>37</td>\n",
       "      <td>656.619707</td>\n",
       "      <td>1.122238</td>\n",
       "      <td>1.015202</td>\n",
       "      <td>514.252938</td>\n",
       "    </tr>\n",
       "    <tr>\n",
       "      <th>2</th>\n",
       "      <td>2013-08-01</td>\n",
       "      <td>0</td>\n",
       "      <td>59</td>\n",
       "      <td>21759</td>\n",
       "      <td>499.0</td>\n",
       "      <td>1.0</td>\n",
       "      <td>2013-01-02</td>\n",
       "      <td>2015-11-09</td>\n",
       "      <td>1041.0</td>\n",
       "      <td>33</td>\n",
       "      <td>23</td>\n",
       "      <td>5</td>\n",
       "      <td>37</td>\n",
       "      <td>656.619707</td>\n",
       "      <td>1.122238</td>\n",
       "      <td>1.015202</td>\n",
       "      <td>514.252938</td>\n",
       "    </tr>\n",
       "    <tr>\n",
       "      <th>3</th>\n",
       "      <td>2013-06-28</td>\n",
       "      <td>5</td>\n",
       "      <td>59</td>\n",
       "      <td>21759</td>\n",
       "      <td>499.0</td>\n",
       "      <td>1.0</td>\n",
       "      <td>2013-01-02</td>\n",
       "      <td>2015-11-09</td>\n",
       "      <td>1041.0</td>\n",
       "      <td>33</td>\n",
       "      <td>23</td>\n",
       "      <td>5</td>\n",
       "      <td>37</td>\n",
       "      <td>656.619707</td>\n",
       "      <td>1.122238</td>\n",
       "      <td>1.015202</td>\n",
       "      <td>514.252938</td>\n",
       "    </tr>\n",
       "    <tr>\n",
       "      <th>4</th>\n",
       "      <td>2014-04-11</td>\n",
       "      <td>22</td>\n",
       "      <td>59</td>\n",
       "      <td>21759</td>\n",
       "      <td>199.0</td>\n",
       "      <td>1.0</td>\n",
       "      <td>2013-01-02</td>\n",
       "      <td>2015-11-09</td>\n",
       "      <td>1041.0</td>\n",
       "      <td>33</td>\n",
       "      <td>23</td>\n",
       "      <td>5</td>\n",
       "      <td>37</td>\n",
       "      <td>656.619707</td>\n",
       "      <td>1.122238</td>\n",
       "      <td>1.015202</td>\n",
       "      <td>514.252938</td>\n",
       "    </tr>\n",
       "  </tbody>\n",
       "</table>\n",
       "</div>"
      ],
      "text/plain": [
       "         date  date_block_num  shop_id  item_id  item_price  item_cnt_day  \\\n",
       "0  2013-02-01               0       59    22154       999.0           1.0   \n",
       "1  2015-07-21              30       59    21619       499.0           1.0   \n",
       "2  2013-08-01               0       59    21759       499.0           1.0   \n",
       "3  2013-06-28               5       59    21759       499.0           1.0   \n",
       "4  2014-04-11              22       59    21759       199.0           1.0   \n",
       "\n",
       "     date_min    date_max  item_time  item_block  item_shop_block  new_cats  \\\n",
       "0  2013-01-04  2015-12-07     1067.0          33                0         5   \n",
       "1  2013-01-04  2015-12-06     1066.0          33                0         5   \n",
       "2  2013-01-02  2015-11-09     1041.0          33               23         5   \n",
       "3  2013-01-02  2015-11-09     1041.0          33               23         5   \n",
       "4  2013-01-02  2015-11-09     1041.0          33               23         5   \n",
       "\n",
       "   item_category_id  item_price_mean_x  item_cnt_day_mean_x  \\\n",
       "0                37         656.619707             1.122238   \n",
       "1                37         656.619707             1.122238   \n",
       "2                37         656.619707             1.122238   \n",
       "3                37         656.619707             1.122238   \n",
       "4                37         656.619707             1.122238   \n",
       "\n",
       "   item_cnt_day_mean_y  item_price_mean_y  \n",
       "0             1.015202         514.252938  \n",
       "1             1.015202         514.252938  \n",
       "2             1.015202         514.252938  \n",
       "3             1.015202         514.252938  \n",
       "4             1.015202         514.252938  "
      ]
     },
     "execution_count": 6,
     "metadata": {},
     "output_type": "execute_result"
    }
   ],
   "source": [
    "sales.head()"
   ]
  },
  {
   "cell_type": "code",
   "execution_count": 7,
   "metadata": {},
   "outputs": [
    {
     "data": {
      "text/html": [
       "<div>\n",
       "<style scoped>\n",
       "    .dataframe tbody tr th:only-of-type {\n",
       "        vertical-align: middle;\n",
       "    }\n",
       "\n",
       "    .dataframe tbody tr th {\n",
       "        vertical-align: top;\n",
       "    }\n",
       "\n",
       "    .dataframe thead th {\n",
       "        text-align: right;\n",
       "    }\n",
       "</style>\n",
       "<table border=\"1\" class=\"dataframe\">\n",
       "  <thead>\n",
       "    <tr style=\"text-align: right;\">\n",
       "      <th></th>\n",
       "      <th>shop_name</th>\n",
       "      <th>shop_id</th>\n",
       "    </tr>\n",
       "  </thead>\n",
       "  <tbody>\n",
       "    <tr>\n",
       "      <th>0</th>\n",
       "      <td>!Якутск Орджоникидзе, 56 фран</td>\n",
       "      <td>0</td>\n",
       "    </tr>\n",
       "    <tr>\n",
       "      <th>1</th>\n",
       "      <td>!Якутск ТЦ \"Центральный\" фран</td>\n",
       "      <td>1</td>\n",
       "    </tr>\n",
       "    <tr>\n",
       "      <th>2</th>\n",
       "      <td>Адыгея ТЦ \"Мега\"</td>\n",
       "      <td>2</td>\n",
       "    </tr>\n",
       "    <tr>\n",
       "      <th>3</th>\n",
       "      <td>Балашиха ТРК \"Октябрь-Киномир\"</td>\n",
       "      <td>3</td>\n",
       "    </tr>\n",
       "    <tr>\n",
       "      <th>4</th>\n",
       "      <td>Волжский ТЦ \"Волга Молл\"</td>\n",
       "      <td>4</td>\n",
       "    </tr>\n",
       "  </tbody>\n",
       "</table>\n",
       "</div>"
      ],
      "text/plain": [
       "                        shop_name  shop_id\n",
       "0   !Якутск Орджоникидзе, 56 фран        0\n",
       "1   !Якутск ТЦ \"Центральный\" фран        1\n",
       "2                Адыгея ТЦ \"Мега\"        2\n",
       "3  Балашиха ТРК \"Октябрь-Киномир\"        3\n",
       "4        Волжский ТЦ \"Волга Молл\"        4"
      ]
     },
     "execution_count": 7,
     "metadata": {},
     "output_type": "execute_result"
    }
   ],
   "source": [
    "shops.head()"
   ]
  },
  {
   "cell_type": "code",
   "execution_count": 8,
   "metadata": {},
   "outputs": [
    {
     "data": {
      "text/html": [
       "<div>\n",
       "<style scoped>\n",
       "    .dataframe tbody tr th:only-of-type {\n",
       "        vertical-align: middle;\n",
       "    }\n",
       "\n",
       "    .dataframe tbody tr th {\n",
       "        vertical-align: top;\n",
       "    }\n",
       "\n",
       "    .dataframe thead th {\n",
       "        text-align: right;\n",
       "    }\n",
       "</style>\n",
       "<table border=\"1\" class=\"dataframe\">\n",
       "  <thead>\n",
       "    <tr style=\"text-align: right;\">\n",
       "      <th></th>\n",
       "      <th>item_name</th>\n",
       "      <th>item_id</th>\n",
       "      <th>item_category_id</th>\n",
       "    </tr>\n",
       "  </thead>\n",
       "  <tbody>\n",
       "    <tr>\n",
       "      <th>0</th>\n",
       "      <td>! ВО ВЛАСТИ НАВАЖДЕНИЯ (ПЛАСТ.)         D</td>\n",
       "      <td>0</td>\n",
       "      <td>40</td>\n",
       "    </tr>\n",
       "    <tr>\n",
       "      <th>1</th>\n",
       "      <td>!ABBYY FineReader 12 Professional Edition Full...</td>\n",
       "      <td>1</td>\n",
       "      <td>76</td>\n",
       "    </tr>\n",
       "    <tr>\n",
       "      <th>2</th>\n",
       "      <td>***В ЛУЧАХ СЛАВЫ   (UNV)                    D</td>\n",
       "      <td>2</td>\n",
       "      <td>40</td>\n",
       "    </tr>\n",
       "    <tr>\n",
       "      <th>3</th>\n",
       "      <td>***ГОЛУБАЯ ВОЛНА  (Univ)                      D</td>\n",
       "      <td>3</td>\n",
       "      <td>40</td>\n",
       "    </tr>\n",
       "    <tr>\n",
       "      <th>4</th>\n",
       "      <td>***КОРОБКА (СТЕКЛО)                       D</td>\n",
       "      <td>4</td>\n",
       "      <td>40</td>\n",
       "    </tr>\n",
       "  </tbody>\n",
       "</table>\n",
       "</div>"
      ],
      "text/plain": [
       "                                           item_name  item_id  \\\n",
       "0          ! ВО ВЛАСТИ НАВАЖДЕНИЯ (ПЛАСТ.)         D        0   \n",
       "1  !ABBYY FineReader 12 Professional Edition Full...        1   \n",
       "2      ***В ЛУЧАХ СЛАВЫ   (UNV)                    D        2   \n",
       "3    ***ГОЛУБАЯ ВОЛНА  (Univ)                      D        3   \n",
       "4        ***КОРОБКА (СТЕКЛО)                       D        4   \n",
       "\n",
       "   item_category_id  \n",
       "0                40  \n",
       "1                76  \n",
       "2                40  \n",
       "3                40  \n",
       "4                40  "
      ]
     },
     "execution_count": 8,
     "metadata": {},
     "output_type": "execute_result"
    }
   ],
   "source": [
    "items.head()"
   ]
  },
  {
   "cell_type": "code",
   "execution_count": 9,
   "metadata": {},
   "outputs": [
    {
     "data": {
      "text/html": [
       "<div>\n",
       "<style scoped>\n",
       "    .dataframe tbody tr th:only-of-type {\n",
       "        vertical-align: middle;\n",
       "    }\n",
       "\n",
       "    .dataframe tbody tr th {\n",
       "        vertical-align: top;\n",
       "    }\n",
       "\n",
       "    .dataframe thead th {\n",
       "        text-align: right;\n",
       "    }\n",
       "</style>\n",
       "<table border=\"1\" class=\"dataframe\">\n",
       "  <thead>\n",
       "    <tr style=\"text-align: right;\">\n",
       "      <th></th>\n",
       "      <th>item_category_name</th>\n",
       "      <th>item_category_id</th>\n",
       "    </tr>\n",
       "  </thead>\n",
       "  <tbody>\n",
       "    <tr>\n",
       "      <th>0</th>\n",
       "      <td>PC - Гарнитуры/Наушники</td>\n",
       "      <td>0</td>\n",
       "    </tr>\n",
       "    <tr>\n",
       "      <th>1</th>\n",
       "      <td>Аксессуары - PS2</td>\n",
       "      <td>1</td>\n",
       "    </tr>\n",
       "    <tr>\n",
       "      <th>2</th>\n",
       "      <td>Аксессуары - PS3</td>\n",
       "      <td>2</td>\n",
       "    </tr>\n",
       "    <tr>\n",
       "      <th>3</th>\n",
       "      <td>Аксессуары - PS4</td>\n",
       "      <td>3</td>\n",
       "    </tr>\n",
       "    <tr>\n",
       "      <th>4</th>\n",
       "      <td>Аксессуары - PSP</td>\n",
       "      <td>4</td>\n",
       "    </tr>\n",
       "  </tbody>\n",
       "</table>\n",
       "</div>"
      ],
      "text/plain": [
       "        item_category_name  item_category_id\n",
       "0  PC - Гарнитуры/Наушники                 0\n",
       "1         Аксессуары - PS2                 1\n",
       "2         Аксессуары - PS3                 2\n",
       "3         Аксессуары - PS4                 3\n",
       "4         Аксессуары - PSP                 4"
      ]
     },
     "execution_count": 9,
     "metadata": {},
     "output_type": "execute_result"
    }
   ],
   "source": [
    "item_cats.head()"
   ]
  },
  {
   "cell_type": "code",
   "execution_count": 10,
   "metadata": {},
   "outputs": [
    {
     "name": "stdout",
     "output_type": "stream",
     "text": [
      "sales----------------------------\n",
      "<class 'pandas.core.frame.DataFrame'>\n",
      "RangeIndex: 2935466 entries, 0 to 2935465\n",
      "Data columns (total 17 columns):\n",
      "date                   object\n",
      "date_block_num         int64\n",
      "shop_id                int64\n",
      "item_id                int64\n",
      "item_price             float64\n",
      "item_cnt_day           float64\n",
      "date_min               object\n",
      "date_max               object\n",
      "item_time              float64\n",
      "item_block             int64\n",
      "item_shop_block        int64\n",
      "new_cats               int64\n",
      "item_category_id       int64\n",
      "item_price_mean_x      float64\n",
      "item_cnt_day_mean_x    float64\n",
      "item_cnt_day_mean_y    float64\n",
      "item_price_mean_y      float64\n",
      "dtypes: float64(7), int64(7), object(3)\n",
      "memory usage: 380.7+ MB\n",
      "shops----------------------------\n",
      "<class 'pandas.core.frame.DataFrame'>\n",
      "RangeIndex: 60 entries, 0 to 59\n",
      "Data columns (total 2 columns):\n",
      "shop_name    60 non-null object\n",
      "shop_id      60 non-null int64\n",
      "dtypes: int64(1), object(1)\n",
      "memory usage: 1.0+ KB\n",
      "items----------------------------\n",
      "<class 'pandas.core.frame.DataFrame'>\n",
      "RangeIndex: 22170 entries, 0 to 22169\n",
      "Data columns (total 3 columns):\n",
      "item_name           22170 non-null object\n",
      "item_id             22170 non-null int64\n",
      "item_category_id    22170 non-null int64\n",
      "dtypes: int64(2), object(1)\n",
      "memory usage: 519.7+ KB\n",
      "item_cats----------------------------\n",
      "<class 'pandas.core.frame.DataFrame'>\n",
      "RangeIndex: 84 entries, 0 to 83\n",
      "Data columns (total 2 columns):\n",
      "item_category_name    84 non-null object\n",
      "item_category_id      84 non-null int64\n",
      "dtypes: int64(1), object(1)\n",
      "memory usage: 1.4+ KB\n",
      "test----------------------------\n",
      "<class 'pandas.core.frame.DataFrame'>\n",
      "RangeIndex: 214200 entries, 0 to 214199\n",
      "Data columns (total 3 columns):\n",
      "ID         214200 non-null int64\n",
      "shop_id    214200 non-null int64\n",
      "item_id    214200 non-null int64\n",
      "dtypes: int64(3)\n",
      "memory usage: 4.9 MB\n"
     ]
    }
   ],
   "source": [
    "print(\"sales----------------------------\")\n",
    "sales.info()\n",
    "print(\"shops----------------------------\")\n",
    "shops.info()\n",
    "print(\"items----------------------------\")\n",
    "items.info()\n",
    "print(\"item_cats----------------------------\")\n",
    "item_cats.info()\n",
    "print(\"test----------------------------\")\n",
    "test.info()"
   ]
  },
  {
   "cell_type": "markdown",
   "metadata": {},
   "source": [
    "# item"
   ]
  },
  {
   "cell_type": "code",
   "execution_count": 11,
   "metadata": {},
   "outputs": [
    {
     "data": {
      "text/html": [
       "<div>\n",
       "<style scoped>\n",
       "    .dataframe tbody tr th:only-of-type {\n",
       "        vertical-align: middle;\n",
       "    }\n",
       "\n",
       "    .dataframe tbody tr th {\n",
       "        vertical-align: top;\n",
       "    }\n",
       "\n",
       "    .dataframe thead th {\n",
       "        text-align: right;\n",
       "    }\n",
       "</style>\n",
       "<table border=\"1\" class=\"dataframe\">\n",
       "  <thead>\n",
       "    <tr style=\"text-align: right;\">\n",
       "      <th></th>\n",
       "      <th>item_id</th>\n",
       "      <th>item_category_id</th>\n",
       "    </tr>\n",
       "  </thead>\n",
       "  <tbody>\n",
       "    <tr>\n",
       "      <th>count</th>\n",
       "      <td>22170.00000</td>\n",
       "      <td>22170.000000</td>\n",
       "    </tr>\n",
       "    <tr>\n",
       "      <th>mean</th>\n",
       "      <td>11084.50000</td>\n",
       "      <td>46.290753</td>\n",
       "    </tr>\n",
       "    <tr>\n",
       "      <th>std</th>\n",
       "      <td>6400.07207</td>\n",
       "      <td>15.941486</td>\n",
       "    </tr>\n",
       "    <tr>\n",
       "      <th>min</th>\n",
       "      <td>0.00000</td>\n",
       "      <td>0.000000</td>\n",
       "    </tr>\n",
       "    <tr>\n",
       "      <th>25%</th>\n",
       "      <td>5542.25000</td>\n",
       "      <td>37.000000</td>\n",
       "    </tr>\n",
       "    <tr>\n",
       "      <th>50%</th>\n",
       "      <td>11084.50000</td>\n",
       "      <td>40.000000</td>\n",
       "    </tr>\n",
       "    <tr>\n",
       "      <th>75%</th>\n",
       "      <td>16626.75000</td>\n",
       "      <td>58.000000</td>\n",
       "    </tr>\n",
       "    <tr>\n",
       "      <th>max</th>\n",
       "      <td>22169.00000</td>\n",
       "      <td>83.000000</td>\n",
       "    </tr>\n",
       "  </tbody>\n",
       "</table>\n",
       "</div>"
      ],
      "text/plain": [
       "           item_id  item_category_id\n",
       "count  22170.00000      22170.000000\n",
       "mean   11084.50000         46.290753\n",
       "std     6400.07207         15.941486\n",
       "min        0.00000          0.000000\n",
       "25%     5542.25000         37.000000\n",
       "50%    11084.50000         40.000000\n",
       "75%    16626.75000         58.000000\n",
       "max    22169.00000         83.000000"
      ]
     },
     "execution_count": 11,
     "metadata": {},
     "output_type": "execute_result"
    }
   ],
   "source": [
    "items.describe()"
   ]
  },
  {
   "cell_type": "code",
   "execution_count": 13,
   "metadata": {
    "collapsed": true
   },
   "outputs": [],
   "source": [
    "from sklearn.feature_extraction import text"
   ]
  },
  {
   "cell_type": "code",
   "execution_count": 14,
   "metadata": {
    "collapsed": true
   },
   "outputs": [],
   "source": [
    "from sklearn.feature_extraction.text import CountVectorizer"
   ]
  },
  {
   "cell_type": "code",
   "execution_count": 15,
   "metadata": {
    "collapsed": true
   },
   "outputs": [],
   "source": [
    "bow_converter = CountVectorizer(min_df=100)\n",
    "x = bow_converter.fit_transform(items['item_name'])\n",
    "words = bow_converter.get_feature_names()\n",
    "for i, col in enumerate(words):\n",
    "    items[col] = pd.SparseSeries(x[:, i].toarray().ravel(), fill_value=0)"
   ]
  },
  {
   "cell_type": "markdown",
   "metadata": {},
   "source": [
    "* this dataset has a primary key= (item_id)"
   ]
  },
  {
   "cell_type": "code",
   "execution_count": 16,
   "metadata": {},
   "outputs": [
    {
     "name": "stdout",
     "output_type": "stream",
     "text": [
      "40    5035\n",
      "55    2365\n",
      "37    1780\n",
      "31    1125\n",
      "58     790\n",
      "30     756\n",
      "72     666\n",
      "19     628\n",
      "61     598\n",
      "23     501\n",
      "43     471\n",
      "57     427\n",
      "56     397\n",
      "67     394\n",
      "63     366\n",
      "76     333\n",
      "41     332\n",
      "69     317\n",
      "38     310\n",
      "62     295\n",
      "59     294\n",
      "64     290\n",
      "78     278\n",
      "75     277\n",
      "28     240\n",
      "70     228\n",
      "77     220\n",
      "45     195\n",
      "66     178\n",
      "20     175\n",
      "49     167\n",
      "65     163\n",
      "44     161\n",
      "47     151\n",
      "25     140\n",
      "21     125\n",
      "24     123\n",
      "54      90\n",
      "22      79\n",
      "2       75\n",
      "60      52\n",
      "29      46\n",
      "11      41\n",
      "6       40\n",
      "15      37\n",
      "73      36\n",
      "3       34\n",
      "5       29\n",
      "68      27\n",
      "7       24\n",
      "12      20\n",
      "16      20\n",
      "33      18\n",
      "14      18\n",
      "4       15\n",
      "83      15\n",
      "42      12\n",
      "9       12\n",
      "46      12\n",
      "8        9\n",
      "82       8\n",
      "34       8\n",
      "27       8\n",
      "74       8\n",
      "17       7\n",
      "81       7\n",
      "39       7\n",
      "71       6\n",
      "36       6\n",
      "32       6\n",
      "80       6\n",
      "18       6\n",
      "13       6\n",
      "48       5\n",
      "0        4\n",
      "35       4\n",
      "52       3\n",
      "53       3\n",
      "26       3\n",
      "50       2\n",
      "1        2\n",
      "51       1\n",
      "10       1\n",
      "79       1\n",
      "Name: item_category_id, dtype: int64\n"
     ]
    },
    {
     "name": "stderr",
     "output_type": "stream",
     "text": [
      "C:\\Users\\Hamza SBAAI\\Anaconda3\\lib\\site-packages\\seaborn\\categorical.py:1460: FutureWarning: remove_na is deprecated and is a private function. Do not use.\n",
      "  stat_data = remove_na(group_data)\n"
     ]
    },
    {
     "data": {
      "image/png": "[encoded data removed]",
      "text/plain": [
       "<Figure size 1584x720 with 1 Axes>"
      ]
     },
     "metadata": {},
     "output_type": "display_data"
    }
   ],
   "source": [
    "# item_category_id\n",
    "print(items['item_category_id'].value_counts())\n",
    "plt.figure(figsize=(22,10))\n",
    "sns.countplot(items['item_category_id'])\n",
    "plt.show()"
   ]
  },
  {
   "cell_type": "markdown",
   "metadata": {},
   "source": [
    "# item_cats datasets\n",
    " * this dataset is just obout the name of each item_category_id\n",
    " * so all we can do with this data is to come up with a new feature \n"
   ]
  },
  {
   "cell_type": "code",
   "execution_count": 17,
   "metadata": {
    "collapsed": true
   },
   "outputs": [],
   "source": [
    "l=[preprocess_text(i) for i in item_cats.item_category_name]"
   ]
  },
  {
   "cell_type": "code",
   "execution_count": 18,
   "metadata": {
    "collapsed": true
   },
   "outputs": [],
   "source": [
    "item_cats['cats'] = l"
   ]
  },
  {
   "cell_type": "code",
   "execution_count": 19,
   "metadata": {},
   "outputs": [
    {
     "data": {
      "text/plain": [
       "7"
      ]
     },
     "execution_count": 19,
     "metadata": {},
     "output_type": "execute_result"
    }
   ],
   "source": [
    "bow_converter = CountVectorizer(min_df=8)\n",
    "x = bow_converter.fit_transform(item_cats['cats'])\n",
    "words = bow_converter.get_feature_names()\n",
    "len(words)"
   ]
  },
  {
   "cell_type": "code",
   "execution_count": 20,
   "metadata": {
    "collapsed": true
   },
   "outputs": [],
   "source": [
    "for i, col in enumerate(words):\n",
    "    item_cats[col] = pd.SparseSeries(x[:, i].toarray().ravel(), fill_value=0)"
   ]
  },
  {
   "cell_type": "code",
   "execution_count": 21,
   "metadata": {},
   "outputs": [
    {
     "name": "stdout",
     "output_type": "stream",
     "text": [
      "<class 'pandas.core.frame.DataFrame'>\n",
      "RangeIndex: 84 entries, 0 to 83\n",
      "Data columns (total 10 columns):\n",
      "item_category_name    84 non-null object\n",
      "item_category_id      84 non-null int64\n",
      "cats                  84 non-null object\n",
      "аксессуар             84 non-null int64\n",
      "игра                  84 non-null int64\n",
      "игровой               84 non-null int64\n",
      "книга                 84 non-null int64\n",
      "консоль               84 non-null int64\n",
      "подарок               84 non-null int64\n",
      "цифра                 84 non-null int64\n",
      "dtypes: int64(8), object(2)\n",
      "memory usage: 2.6+ KB\n"
     ]
    }
   ],
   "source": [
    "item_cats.info()"
   ]
  },
  {
   "cell_type": "code",
   "execution_count": 22,
   "metadata": {},
   "outputs": [
    {
     "data": {
      "text/html": [
       "<script>requirejs.config({paths: { 'plotly': ['https://cdn.plot.ly/plotly-latest.min']},});if(!window.Plotly) {{require(['plotly'],function(plotly) {window.Plotly=plotly;});}}</script>"
      ],
      "text/vnd.plotly.v1+html": [
       "<script>requirejs.config({paths: { 'plotly': ['https://cdn.plot.ly/plotly-latest.min']},});if(!window.Plotly) {{require(['plotly'],function(plotly) {window.Plotly=plotly;});}}</script>"
      ]
     },
     "metadata": {},
     "output_type": "display_data"
    },
    {
     "data": {
      "application/vnd.plotly.v1+json": {
       "data": [
        {
         "hoverinfo": "text",
         "marker": {
          "color": "rgba(177, 14, 22, 0.5)",
          "line": {
           "color": "rgb(0,0,0)",
           "width": 1.5
          }
         },
         "type": "bar",
         "x": [
          "аксессуар",
          "игра",
          "игровой",
          "книга",
          "консоль",
          "подарок",
          "цифра"
         ],
         "y": [
          8,
          18,
          8,
          13,
          8,
          12,
          11
         ]
        }
       ],
       "layout": {
        "title": "sub names appearances"
       }
      },
      "text/html": [
       "<div id=\"edd9aff0-8c95-439f-ac49-4cac3eafe890\" style=\"height: 525px; width: 100%;\" class=\"plotly-graph-div\"></div><script type=\"text/javascript\">require([\"plotly\"], function(Plotly) { window.PLOTLYENV=window.PLOTLYENV || {};window.PLOTLYENV.BASE_URL=\"https://plot.ly\";Plotly.newPlot(\"edd9aff0-8c95-439f-ac49-4cac3eafe890\", [{\"type\": \"bar\", \"x\": [\"\\u0430\\u043a\\u0441\\u0435\\u0441\\u0441\\u0443\\u0430\\u0440\", \"\\u0438\\u0433\\u0440\\u0430\", \"\\u0438\\u0433\\u0440\\u043e\\u0432\\u043e\\u0439\", \"\\u043a\\u043d\\u0438\\u0433\\u0430\", \"\\u043a\\u043e\\u043d\\u0441\\u043e\\u043b\\u044c\", \"\\u043f\\u043e\\u0434\\u0430\\u0440\\u043e\\u043a\", \"\\u0446\\u0438\\u0444\\u0440\\u0430\"], \"y\": [8, 18, 8, 13, 8, 12, 11], \"hoverinfo\": \"text\", \"marker\": {\"color\": \"rgba(177, 14, 22, 0.5)\", \"line\": {\"color\": \"rgb(0,0,0)\", \"width\": 1.5}}}], {\"title\": \"sub names appearances\"}, {\"showLink\": true, \"linkText\": \"Export to plot.ly\"})});</script>"
      ],
      "text/vnd.plotly.v1+html": [
       "<div id=\"edd9aff0-8c95-439f-ac49-4cac3eafe890\" style=\"height: 525px; width: 100%;\" class=\"plotly-graph-div\"></div><script type=\"text/javascript\">require([\"plotly\"], function(Plotly) { window.PLOTLYENV=window.PLOTLYENV || {};window.PLOTLYENV.BASE_URL=\"https://plot.ly\";Plotly.newPlot(\"edd9aff0-8c95-439f-ac49-4cac3eafe890\", [{\"type\": \"bar\", \"x\": [\"\\u0430\\u043a\\u0441\\u0435\\u0441\\u0441\\u0443\\u0430\\u0440\", \"\\u0438\\u0433\\u0440\\u0430\", \"\\u0438\\u0433\\u0440\\u043e\\u0432\\u043e\\u0439\", \"\\u043a\\u043d\\u0438\\u0433\\u0430\", \"\\u043a\\u043e\\u043d\\u0441\\u043e\\u043b\\u044c\", \"\\u043f\\u043e\\u0434\\u0430\\u0440\\u043e\\u043a\", \"\\u0446\\u0438\\u0444\\u0440\\u0430\"], \"y\": [8, 18, 8, 13, 8, 12, 11], \"hoverinfo\": \"text\", \"marker\": {\"color\": \"rgba(177, 14, 22, 0.5)\", \"line\": {\"color\": \"rgb(0,0,0)\", \"width\": 1.5}}}], {\"title\": \"sub names appearances\"}, {\"showLink\": true, \"linkText\": \"Export to plot.ly\"})});</script>"
      ]
     },
     "metadata": {},
     "output_type": "display_data"
    }
   ],
   "source": [
    "import plotly.graph_objs as go\n",
    "from plotly.offline import init_notebook_mode, iplot\n",
    "init_notebook_mode(connected=True)\n",
    "\n",
    "data = [go.Bar(\n",
    "            x=item_cats.columns[3:],\n",
    "            y=[item_cats[c].sum() for c in item_cats.columns[3:]],\n",
    "            hoverinfo = 'text',\n",
    "            marker = dict(color = 'rgba(177, 14, 22, 0.5)',\n",
    "                             line=dict(color='rgb(0,0,0)',width=1.5)),\n",
    "    )]\n",
    "\n",
    "layout = dict(\n",
    "    title = 'sub names appearances',\n",
    ")\n",
    "fig = go.Figure(data=data, layout=layout)\n",
    "iplot(fig)"
   ]
  },
  {
   "cell_type": "code",
   "execution_count": 23,
   "metadata": {
    "collapsed": true
   },
   "outputs": [],
   "source": [
    "#item_cats.to_csv('journey/data/new_cats.csv',index=False)"
   ]
  },
  {
   "cell_type": "code",
   "execution_count": 24,
   "metadata": {
    "collapsed": true
   },
   "outputs": [],
   "source": [
    "#item_cats=pd.read_csv('journey/data/new_cats.csv')"
   ]
  },
  {
   "cell_type": "code",
   "execution_count": 25,
   "metadata": {
    "collapsed": true
   },
   "outputs": [],
   "source": [
    "l=item_cats.cats.str.split()"
   ]
  },
  {
   "cell_type": "code",
   "execution_count": 26,
   "metadata": {
    "collapsed": true
   },
   "outputs": [],
   "source": [
    "M=[]\n",
    "for i in l:\n",
    "    M=M+[[j for j in i if len(j)>3]]\n",
    "\n",
    "for i in M:\n",
    "    for j in range(len(i)):\n",
    "        if i[j]=='гарнитур':\n",
    "            i[j]='музыка'\n",
    "        if i[j]==\"билет\":\n",
    "            i[j]='служебный'            \n",
    "\n",
    "l=[i[0] for i in M]\n"
   ]
  },
  {
   "cell_type": "code",
   "execution_count": 27,
   "metadata": {},
   "outputs": [
    {
     "data": {
      "text/plain": [
       "[['музыка', 'наушники'],\n",
       " ['аксессуар'],\n",
       " ['аксессуар'],\n",
       " ['аксессуар'],\n",
       " ['аксессуар'],\n",
       " ['аксессуар', 'psvita'],\n",
       " ['аксессуар', 'xbox'],\n",
       " ['аксессуар', 'xbox'],\n",
       " ['служебный', 'цифра'],\n",
       " ['доставка', 'товар'],\n",
       " ['игровой', 'консоль'],\n",
       " ['игровой', 'консоль'],\n",
       " ['игровой', 'консоль'],\n",
       " ['игровой', 'консоль'],\n",
       " ['игровой', 'консоль', 'psvita'],\n",
       " ['игровой', 'консоль', 'xbox'],\n",
       " ['игровой', 'консоль', 'xbox'],\n",
       " ['игровой', 'консоль', 'прочий'],\n",
       " ['игра'],\n",
       " ['игра'],\n",
       " ['игра'],\n",
       " ['игра'],\n",
       " ['игра', 'psvita'],\n",
       " ['игра', 'xbox'],\n",
       " ['игра', 'xbox'],\n",
       " ['игра', 'аксессуар', 'игра'],\n",
       " ['игра', 'android', 'цифра'],\n",
       " ['игра', 'цифра'],\n",
       " ['игра', 'дополнительный', 'издание'],\n",
       " ['игра', 'коллекционный', 'издание'],\n",
       " ['игра', 'стандартный', 'издание'],\n",
       " ['игра', 'цифра'],\n",
       " ['карта', 'оплата', 'кино', 'музыка', 'игра'],\n",
       " ['карта', 'оплата', 'live'],\n",
       " ['карта', 'оплата', 'live', 'цифра'],\n",
       " ['карта', 'оплата'],\n",
       " ['карта', 'оплата', 'windows', 'цифра'],\n",
       " ['кино'],\n",
       " ['кино'],\n",
       " ['кино'],\n",
       " ['кино'],\n",
       " ['кино', 'коллекционный'],\n",
       " ['книга', 'артбук', 'энциклопедия'],\n",
       " ['книга', 'аудиокнига'],\n",
       " ['книга', 'аудиокнига', 'цифра'],\n",
       " ['книга', 'аудиокнига'],\n",
       " ['книга', 'бизнес', 'литература'],\n",
       " ['книга', 'комикс', 'манга'],\n",
       " ['книга', 'компьютерный', 'литература'],\n",
       " ['книга', 'методический', 'материал'],\n",
       " ['книга', 'открытка'],\n",
       " ['книга', 'познавательный', 'литература'],\n",
       " ['книга', 'путеводитель'],\n",
       " ['книга', 'художественный', 'литература'],\n",
       " ['книга', 'цифра'],\n",
       " ['музыка', 'локальный', 'производство'],\n",
       " ['музыка', 'фирменный', 'производство'],\n",
       " ['музыка'],\n",
       " ['музыка', 'винить'],\n",
       " ['музыка', 'музыкальный', 'видео'],\n",
       " ['музыка', 'подарочный', 'издание'],\n",
       " ['подарок', 'атрибутика'],\n",
       " ['подарок', 'гаджет', 'робот', 'спорт'],\n",
       " ['подарок', 'мягкий', 'игрушка'],\n",
       " ['подарок', 'настольный', 'игра'],\n",
       " ['подарок', 'настольный', 'игра', 'компактный'],\n",
       " ['подарок', 'открытка', 'наклейка'],\n",
       " ['подарок', 'развитие'],\n",
       " ['подарок', 'сертификат', 'услуга'],\n",
       " ['подарок', 'сувенир'],\n",
       " ['подарок', 'сувенир', 'навеска'],\n",
       " ['подарок', 'сумка', 'альбом', 'коврик', 'мышь'],\n",
       " ['подарок', 'фигурка'],\n",
       " ['программа', 'предприятие'],\n",
       " ['программа', 'цифра'],\n",
       " ['программа', 'офис'],\n",
       " ['программа', 'офис', 'цифра'],\n",
       " ['программа', 'обучать'],\n",
       " ['программа', 'обучать', 'цифра'],\n",
       " ['служебный'],\n",
       " ['служебный', 'служебный'],\n",
       " ['чистый', 'носитель', 'шпиль'],\n",
       " ['чистый', 'носитель', 'штучный'],\n",
       " ['элемент', 'питание']]"
      ]
     },
     "execution_count": 27,
     "metadata": {},
     "output_type": "execute_result"
    }
   ],
   "source": [
    "M"
   ]
  },
  {
   "cell_type": "code",
   "execution_count": 28,
   "metadata": {
    "collapsed": true
   },
   "outputs": [],
   "source": [
    "from sklearn.preprocessing import LabelEncoder"
   ]
  },
  {
   "cell_type": "code",
   "execution_count": 29,
   "metadata": {
    "collapsed": true
   },
   "outputs": [],
   "source": [
    "item_cats[\"new_cats\"]= LabelEncoder().fit_transform(l)\n"
   ]
  },
  {
   "cell_type": "code",
   "execution_count": 30,
   "metadata": {
    "collapsed": true
   },
   "outputs": [],
   "source": [
    "#item_cats.to_csv('journey/data/new_cats.csv',index=False)"
   ]
  },
  {
   "cell_type": "markdown",
   "metadata": {},
   "source": [
    "### now lets merge those two datasets \n"
   ]
  },
  {
   "cell_type": "code",
   "execution_count": 31,
   "metadata": {},
   "outputs": [
    {
     "data": {
      "text/html": [
       "<div>\n",
       "<style scoped>\n",
       "    .dataframe tbody tr th:only-of-type {\n",
       "        vertical-align: middle;\n",
       "    }\n",
       "\n",
       "    .dataframe tbody tr th {\n",
       "        vertical-align: top;\n",
       "    }\n",
       "\n",
       "    .dataframe thead th {\n",
       "        text-align: right;\n",
       "    }\n",
       "</style>\n",
       "<table border=\"1\" class=\"dataframe\">\n",
       "  <thead>\n",
       "    <tr style=\"text-align: right;\">\n",
       "      <th></th>\n",
       "      <th>item_id</th>\n",
       "      <th>item_category_id</th>\n",
       "      <th>cats</th>\n",
       "    </tr>\n",
       "  </thead>\n",
       "  <tbody>\n",
       "    <tr>\n",
       "      <th>0</th>\n",
       "      <td>0</td>\n",
       "      <td>40</td>\n",
       "      <td>кино dvd</td>\n",
       "    </tr>\n",
       "    <tr>\n",
       "      <th>1</th>\n",
       "      <td>2</td>\n",
       "      <td>40</td>\n",
       "      <td>кино dvd</td>\n",
       "    </tr>\n",
       "    <tr>\n",
       "      <th>2</th>\n",
       "      <td>3</td>\n",
       "      <td>40</td>\n",
       "      <td>кино dvd</td>\n",
       "    </tr>\n",
       "    <tr>\n",
       "      <th>3</th>\n",
       "      <td>4</td>\n",
       "      <td>40</td>\n",
       "      <td>кино dvd</td>\n",
       "    </tr>\n",
       "    <tr>\n",
       "      <th>4</th>\n",
       "      <td>5</td>\n",
       "      <td>40</td>\n",
       "      <td>кино dvd</td>\n",
       "    </tr>\n",
       "  </tbody>\n",
       "</table>\n",
       "</div>"
      ],
      "text/plain": [
       "   item_id  item_category_id      cats\n",
       "0        0                40  кино dvd\n",
       "1        2                40  кино dvd\n",
       "2        3                40  кино dvd\n",
       "3        4                40  кино dvd\n",
       "4        5                40  кино dvd"
      ]
     },
     "execution_count": 31,
     "metadata": {},
     "output_type": "execute_result"
    }
   ],
   "source": [
    "item_to_cat_df = items.merge(item_cats, how=\"inner\", on=\"item_category_id\")[['item_id',\"item_category_id\",'cats']]\n",
    "item_to_cat_df.head()"
   ]
  },
  {
   "cell_type": "code",
   "execution_count": 32,
   "metadata": {},
   "outputs": [
    {
     "name": "stdout",
     "output_type": "stream",
     "text": [
      "музыка музыкальный видео              1\n",
      "игра xbox 360                         1\n",
      "доставка товар                        1\n",
      "кино коллекционный                    1\n",
      "игровой консоль ps4                   1\n",
      "игра pc дополнительный издание        1\n",
      "игровой консоль прочий                1\n",
      "карта оплата windows цифра            1\n",
      "подарок фигурка                       1\n",
      "игра psp                              1\n",
      "программа обучать цифра               1\n",
      "книга артбук энциклопедия             1\n",
      "игра psvita                           1\n",
      "программа 1с предприятие 8            1\n",
      "игра ps4                              1\n",
      "чистый носитель шпиль                 1\n",
      "игровой консоль ps3                   1\n",
      "кино blu ray 3d                       1\n",
      "элемент питание                       1\n",
      "игра pc коллекционный издание         1\n",
      "игровой консоль ps2                   1\n",
      "кино blu ray                          1\n",
      "книга аудиокнига цифра                1\n",
      "игровой консоль psvita                1\n",
      "аксессуар xbox one                    1\n",
      "подарок настольный игра компактный    1\n",
      "карта оплата live                     1\n",
      "аксессуар ps2                         1\n",
      "подарок атрибутика                    1\n",
      "игровой консоль xbox one              1\n",
      "программа обучать                     1\n",
      "аксессуар xbox 360                    1\n",
      "игра ps3                              1\n",
      "музыка cd фирменный производство      1\n",
      "книга художественный литература       1\n",
      "подарок сертификат услуга             1\n",
      "служебный                             1\n",
      "карта оплата кино музыка игра         1\n",
      "подарок сувенир навеска               1\n",
      "музыка mp3                            1\n",
      "подарок развитие                      1\n",
      "аксессуар psp                         1\n",
      "подарок сувенир                       1\n",
      "аксессуар ps3                         1\n",
      "книга комикс манга                    1\n",
      "карта оплата psn                      1\n",
      "игровой консоль psp                   1\n",
      "книга открытка                        1\n",
      "игра mac цифра                        1\n",
      "книга методический материал 1с        1\n",
      "игра pc цифра                         1\n",
      "книга компьютерный литература         1\n",
      "подарок гаджет робот спорт            1\n",
      "музыка винить                         1\n",
      "игра android цифра                    1\n",
      "билет цифра                           1\n",
      "книга бизнес литература               1\n",
      "программа mac цифра                   1\n",
      "книга познавательный литература       1\n",
      "pc гарнитур наушники                  1\n",
      "книга путеводитель                    1\n",
      "подарок мягкий игрушка                1\n",
      "игра xbox one                         1\n",
      "книга аудиокнига                      1\n",
      "программа дом офис цифра              1\n",
      "музыка cd локальный производство      1\n",
      "чистый носитель штучный               1\n",
      "подарок настольный игра               1\n",
      "игра ps2                              1\n",
      "игра pc стандартный издание           1\n",
      "подарок сумка альбом коврик д мышь    1\n",
      "книга аудиокнига 1с                   1\n",
      "кино dvd                              1\n",
      "кино blu ray 4k                       1\n",
      "игровой консоль xbox 360              1\n",
      "книга цифра                           1\n",
      "карта оплата live цифра               1\n",
      "музыка подарочный издание             1\n",
      "программа дом офис                    1\n",
      "служебный билет                       1\n",
      "игра аксессуар игра                   1\n",
      "подарок открытка наклейка             1\n",
      "аксессуар psvita                      1\n",
      "аксессуар ps4                         1\n",
      "Name: cats, dtype: int64\n"
     ]
    },
    {
     "name": "stderr",
     "output_type": "stream",
     "text": [
      "C:\\Users\\Hamza SBAAI\\Anaconda3\\lib\\site-packages\\seaborn\\categorical.py:1460: FutureWarning:\n",
      "\n",
      "remove_na is deprecated and is a private function. Do not use.\n",
      "\n"
     ]
    },
    {
     "data": {
      "image/png": "[encoded data removed]",
      "text/plain": [
       "<Figure size 1584x720 with 1 Axes>"
      ]
     },
     "metadata": {},
     "output_type": "display_data"
    }
   ],
   "source": [
    "print(item_cats['cats'].value_counts())\n",
    "plt.figure(figsize=(22,10))\n",
    "sns.countplot(item_cats['cats'])\n",
    "plt.show()"
   ]
  },
  {
   "cell_type": "code",
   "execution_count": 33,
   "metadata": {
    "scrolled": false
   },
   "outputs": [
    {
     "data": {
      "text/html": [
       "<script>requirejs.config({paths: { 'plotly': ['https://cdn.plot.ly/plotly-latest.min']},});if(!window.Plotly) {{require(['plotly'],function(plotly) {window.Plotly=plotly;});}}</script>"
      ],
      "text/vnd.plotly.v1+html": [
       "<script>requirejs.config({paths: { 'plotly': ['https://cdn.plot.ly/plotly-latest.min']},});if(!window.Plotly) {{require(['plotly'],function(plotly) {window.Plotly=plotly;});}}</script>"
      ]
     },
     "metadata": {},
     "output_type": "display_data"
    },
    {
     "name": "stdout",
     "output_type": "stream",
     "text": [
      "кино dvd                              5035\n",
      "музыка cd локальный производство      2365\n",
      "кино blu ray                          1780\n",
      "игра pc цифра                         1125\n",
      "музыка винить                          790\n",
      "игра pc стандартный издание            756\n",
      "подарок фигурка                        666\n",
      "игра ps3                               628\n",
      "подарок атрибутика                     598\n",
      "игра xbox 360                          501\n",
      "книга аудиокнига                       471\n",
      "музыка mp3                             427\n",
      "музыка cd фирменный производство       397\n",
      "подарок развитие                       394\n",
      "подарок мягкий игрушка                 366\n",
      "программа дом офис цифра               333\n",
      "кино коллекционный                     332\n",
      "подарок сувенир                        317\n",
      "кино blu ray 3d                        310\n",
      "подарок гаджет робот спорт             295\n",
      "музыка музыкальный видео               294\n",
      "подарок настольный игра                290\n",
      "программа обучать цифра                278\n",
      "программа дом офис                     277\n",
      "игра pc дополнительный издание         240\n",
      "подарок сувенир навеска                228\n",
      "программа обучать                      220\n",
      "книга аудиокнига 1с                    195\n",
      "подарок открытка наклейка              178\n",
      "игра ps4                               175\n",
      "книга методический материал 1с         167\n",
      "подарок настольный игра компактный     163\n",
      "книга аудиокнига цифра                 161\n",
      "книга комикс манга                     151\n",
      "игра аксессуар игра                    140\n",
      "игра psp                               125\n",
      "игра xbox one                          123\n",
      "книга цифра                             90\n",
      "игра psvita                             79\n",
      "аксессуар ps3                           75\n",
      "музыка подарочный издание               52\n",
      "игра pc коллекционный издание           46\n",
      "игровой консоль ps3                     41\n",
      "аксессуар xbox 360                      40\n",
      "игровой консоль xbox 360                37\n",
      "программа 1с предприятие 8              36\n",
      "аксессуар ps4                           34\n",
      "аксессуар psvita                        29\n",
      "подарок сертификат услуга               27\n",
      "аксессуар xbox one                      24\n",
      "игровой консоль ps4                     20\n",
      "игровой консоль xbox one                20\n",
      "карта оплата live                       18\n",
      "игровой консоль psvita                  18\n",
      "аксессуар psp                           15\n",
      "элемент питание                         15\n",
      "доставка товар                          12\n",
      "книга артбук энциклопедия               12\n",
      "книга бизнес литература                 12\n",
      "билет цифра                              9\n",
      "чистый носитель штучный                  8\n",
      "игра mac цифра                           8\n",
      "программа mac цифра                      8\n",
      "карта оплата live цифра                  8\n",
      "кино blu ray 4k                          7\n",
      "чистый носитель шпиль                    7\n",
      "игровой консоль прочий                   7\n",
      "карта оплата windows цифра               6\n",
      "карта оплата кино музыка игра            6\n",
      "подарок сумка альбом коврик д мышь       6\n",
      "игровой консоль psp                      6\n",
      "игра ps2                                 6\n",
      "служебный билет                          6\n",
      "книга компьютерный литература            5\n",
      "pc гарнитур наушники                     4\n",
      "карта оплата psn                         4\n",
      "игра android цифра                       3\n",
      "книга путеводитель                       3\n",
      "книга художественный литература          3\n",
      "книга открытка                           2\n",
      "аксессуар ps2                            2\n",
      "служебный                                1\n",
      "книга познавательный литература          1\n",
      "игровой консоль ps2                      1\n",
      "Name: cats, dtype: int64\n"
     ]
    },
    {
     "data": {
      "application/vnd.plotly.v1+json": {
       "data": [
        {
         "hoverinfo": "text",
         "marker": {
          "color": "rgba(177, 14, 22, 0.5)",
          "line": {
           "color": "rgb(0,0,0)",
           "width": 1.5
          }
         },
         "type": "bar",
         "x": [
          "кино dvd",
          "музыка cd локальный производство",
          "кино blu ray",
          "игра pc цифра",
          "музыка винить",
          "игра pc стандартный издание",
          "подарок фигурка",
          "игра ps3",
          "подарок атрибутика",
          "игра xbox 360",
          "книга аудиокнига",
          "музыка mp3",
          "музыка cd фирменный производство",
          "подарок развитие",
          "подарок мягкий игрушка",
          "программа дом офис цифра",
          "кино коллекционный",
          "подарок сувенир",
          "кино blu ray 3d",
          "подарок гаджет робот спорт",
          "музыка музыкальный видео",
          "подарок настольный игра",
          "программа обучать цифра",
          "программа дом офис",
          "игра pc дополнительный издание",
          "подарок сувенир навеска",
          "программа обучать",
          "книга аудиокнига 1с",
          "подарок открытка наклейка",
          "игра ps4",
          "книга методический материал 1с",
          "подарок настольный игра компактный",
          "книга аудиокнига цифра",
          "книга комикс манга",
          "игра аксессуар игра",
          "игра psp",
          "игра xbox one",
          "книга цифра",
          "игра psvita",
          "аксессуар ps3",
          "музыка подарочный издание",
          "игра pc коллекционный издание",
          "игровой консоль ps3",
          "аксессуар xbox 360",
          "игровой консоль xbox 360",
          "программа 1с предприятие 8",
          "аксессуар ps4",
          "аксессуар psvita",
          "подарок сертификат услуга",
          "аксессуар xbox one",
          "игровой консоль ps4",
          "игровой консоль xbox one",
          "карта оплата live",
          "игровой консоль psvita",
          "аксессуар psp",
          "элемент питание",
          "доставка товар",
          "книга артбук энциклопедия",
          "книга бизнес литература",
          "билет цифра",
          "чистый носитель штучный",
          "игра mac цифра",
          "программа mac цифра",
          "карта оплата live цифра",
          "кино blu ray 4k",
          "чистый носитель шпиль",
          "игровой консоль прочий",
          "карта оплата windows цифра",
          "карта оплата кино музыка игра",
          "подарок сумка альбом коврик д мышь",
          "игровой консоль psp",
          "игра ps2",
          "служебный билет",
          "книга компьютерный литература",
          "pc гарнитур наушники",
          "карта оплата psn",
          "игра android цифра",
          "книга путеводитель",
          "книга художественный литература",
          "книга открытка",
          "аксессуар ps2",
          "служебный",
          "книга познавательный литература",
          "игровой консоль ps2"
         ],
         "y": [
          5035,
          2365,
          1780,
          1125,
          790,
          756,
          666,
          628,
          598,
          501,
          471,
          427,
          397,
          394,
          366,
          333,
          332,
          317,
          310,
          295,
          294,
          290,
          278,
          277,
          240,
          228,
          220,
          195,
          178,
          175,
          167,
          163,
          161,
          151,
          140,
          125,
          123,
          90,
          79,
          75,
          52,
          46,
          41,
          40,
          37,
          36,
          34,
          29,
          27,
          24,
          20,
          20,
          18,
          18,
          15,
          15,
          12,
          12,
          12,
          9,
          8,
          8,
          8,
          8,
          7,
          7,
          7,
          6,
          6,
          6,
          6,
          6,
          6,
          5,
          4,
          4,
          3,
          3,
          3,
          2,
          2,
          1,
          1,
          1
         ]
        }
       ],
       "layout": {
        "title": "categories"
       }
      },
      "text/html": [
       "<div id=\"0d3a202c-2950-4b71-bf2a-897b676411f3\" style=\"height: 525px; width: 100%;\" class=\"plotly-graph-div\"></div><script type=\"text/javascript\">require([\"plotly\"], function(Plotly) { window.PLOTLYENV=window.PLOTLYENV || {};window.PLOTLYENV.BASE_URL=\"https://plot.ly\";Plotly.newPlot(\"0d3a202c-2950-4b71-bf2a-897b676411f3\", [{\"type\": \"bar\", \"x\": [\"\\u043a\\u0438\\u043d\\u043e dvd\", \"\\u043c\\u0443\\u0437\\u044b\\u043a\\u0430 cd \\u043b\\u043e\\u043a\\u0430\\u043b\\u044c\\u043d\\u044b\\u0439 \\u043f\\u0440\\u043e\\u0438\\u0437\\u0432\\u043e\\u0434\\u0441\\u0442\\u0432\\u043e\", \"\\u043a\\u0438\\u043d\\u043e blu ray\", \"\\u0438\\u0433\\u0440\\u0430 pc \\u0446\\u0438\\u0444\\u0440\\u0430\", \"\\u043c\\u0443\\u0437\\u044b\\u043a\\u0430 \\u0432\\u0438\\u043d\\u0438\\u0442\\u044c\", \"\\u0438\\u0433\\u0440\\u0430 pc \\u0441\\u0442\\u0430\\u043d\\u0434\\u0430\\u0440\\u0442\\u043d\\u044b\\u0439 \\u0438\\u0437\\u0434\\u0430\\u043d\\u0438\\u0435\", \"\\u043f\\u043e\\u0434\\u0430\\u0440\\u043e\\u043a \\u0444\\u0438\\u0433\\u0443\\u0440\\u043a\\u0430\", \"\\u0438\\u0433\\u0440\\u0430 ps3\", \"\\u043f\\u043e\\u0434\\u0430\\u0440\\u043e\\u043a \\u0430\\u0442\\u0440\\u0438\\u0431\\u0443\\u0442\\u0438\\u043a\\u0430\", \"\\u0438\\u0433\\u0440\\u0430 xbox 360\", \"\\u043a\\u043d\\u0438\\u0433\\u0430 \\u0430\\u0443\\u0434\\u0438\\u043e\\u043a\\u043d\\u0438\\u0433\\u0430\", \"\\u043c\\u0443\\u0437\\u044b\\u043a\\u0430 mp3\", \"\\u043c\\u0443\\u0437\\u044b\\u043a\\u0430 cd \\u0444\\u0438\\u0440\\u043c\\u0435\\u043d\\u043d\\u044b\\u0439 \\u043f\\u0440\\u043e\\u0438\\u0437\\u0432\\u043e\\u0434\\u0441\\u0442\\u0432\\u043e\", \"\\u043f\\u043e\\u0434\\u0430\\u0440\\u043e\\u043a \\u0440\\u0430\\u0437\\u0432\\u0438\\u0442\\u0438\\u0435\", \"\\u043f\\u043e\\u0434\\u0430\\u0440\\u043e\\u043a \\u043c\\u044f\\u0433\\u043a\\u0438\\u0439 \\u0438\\u0433\\u0440\\u0443\\u0448\\u043a\\u0430\", \"\\u043f\\u0440\\u043e\\u0433\\u0440\\u0430\\u043c\\u043c\\u0430 \\u0434\\u043e\\u043c \\u043e\\u0444\\u0438\\u0441 \\u0446\\u0438\\u0444\\u0440\\u0430\", \"\\u043a\\u0438\\u043d\\u043e \\u043a\\u043e\\u043b\\u043b\\u0435\\u043a\\u0446\\u0438\\u043e\\u043d\\u043d\\u044b\\u0439\", \"\\u043f\\u043e\\u0434\\u0430\\u0440\\u043e\\u043a \\u0441\\u0443\\u0432\\u0435\\u043d\\u0438\\u0440\", \"\\u043a\\u0438\\u043d\\u043e blu ray 3d\", \"\\u043f\\u043e\\u0434\\u0430\\u0440\\u043e\\u043a \\u0433\\u0430\\u0434\\u0436\\u0435\\u0442 \\u0440\\u043e\\u0431\\u043e\\u0442 \\u0441\\u043f\\u043e\\u0440\\u0442\", \"\\u043c\\u0443\\u0437\\u044b\\u043a\\u0430 \\u043c\\u0443\\u0437\\u044b\\u043a\\u0430\\u043b\\u044c\\u043d\\u044b\\u0439 \\u0432\\u0438\\u0434\\u0435\\u043e\", \"\\u043f\\u043e\\u0434\\u0430\\u0440\\u043e\\u043a \\u043d\\u0430\\u0441\\u0442\\u043e\\u043b\\u044c\\u043d\\u044b\\u0439 \\u0438\\u0433\\u0440\\u0430\", \"\\u043f\\u0440\\u043e\\u0433\\u0440\\u0430\\u043c\\u043c\\u0430 \\u043e\\u0431\\u0443\\u0447\\u0430\\u0442\\u044c \\u0446\\u0438\\u0444\\u0440\\u0430\", \"\\u043f\\u0440\\u043e\\u0433\\u0440\\u0430\\u043c\\u043c\\u0430 \\u0434\\u043e\\u043c \\u043e\\u0444\\u0438\\u0441\", \"\\u0438\\u0433\\u0440\\u0430 pc \\u0434\\u043e\\u043f\\u043e\\u043b\\u043d\\u0438\\u0442\\u0435\\u043b\\u044c\\u043d\\u044b\\u0439 \\u0438\\u0437\\u0434\\u0430\\u043d\\u0438\\u0435\", \"\\u043f\\u043e\\u0434\\u0430\\u0440\\u043e\\u043a \\u0441\\u0443\\u0432\\u0435\\u043d\\u0438\\u0440 \\u043d\\u0430\\u0432\\u0435\\u0441\\u043a\\u0430\", \"\\u043f\\u0440\\u043e\\u0433\\u0440\\u0430\\u043c\\u043c\\u0430 \\u043e\\u0431\\u0443\\u0447\\u0430\\u0442\\u044c\", \"\\u043a\\u043d\\u0438\\u0433\\u0430 \\u0430\\u0443\\u0434\\u0438\\u043e\\u043a\\u043d\\u0438\\u0433\\u0430 1\\u0441\", \"\\u043f\\u043e\\u0434\\u0430\\u0440\\u043e\\u043a \\u043e\\u0442\\u043a\\u0440\\u044b\\u0442\\u043a\\u0430 \\u043d\\u0430\\u043a\\u043b\\u0435\\u0439\\u043a\\u0430\", \"\\u0438\\u0433\\u0440\\u0430 ps4\", \"\\u043a\\u043d\\u0438\\u0433\\u0430 \\u043c\\u0435\\u0442\\u043e\\u0434\\u0438\\u0447\\u0435\\u0441\\u043a\\u0438\\u0439 \\u043c\\u0430\\u0442\\u0435\\u0440\\u0438\\u0430\\u043b 1\\u0441\", \"\\u043f\\u043e\\u0434\\u0430\\u0440\\u043e\\u043a \\u043d\\u0430\\u0441\\u0442\\u043e\\u043b\\u044c\\u043d\\u044b\\u0439 \\u0438\\u0433\\u0440\\u0430 \\u043a\\u043e\\u043c\\u043f\\u0430\\u043a\\u0442\\u043d\\u044b\\u0439\", \"\\u043a\\u043d\\u0438\\u0433\\u0430 \\u0430\\u0443\\u0434\\u0438\\u043e\\u043a\\u043d\\u0438\\u0433\\u0430 \\u0446\\u0438\\u0444\\u0440\\u0430\", \"\\u043a\\u043d\\u0438\\u0433\\u0430 \\u043a\\u043e\\u043c\\u0438\\u043a\\u0441 \\u043c\\u0430\\u043d\\u0433\\u0430\", \"\\u0438\\u0433\\u0440\\u0430 \\u0430\\u043a\\u0441\\u0435\\u0441\\u0441\\u0443\\u0430\\u0440 \\u0438\\u0433\\u0440\\u0430\", \"\\u0438\\u0433\\u0440\\u0430 psp\", \"\\u0438\\u0433\\u0440\\u0430 xbox one\", \"\\u043a\\u043d\\u0438\\u0433\\u0430 \\u0446\\u0438\\u0444\\u0440\\u0430\", \"\\u0438\\u0433\\u0440\\u0430 psvita\", \"\\u0430\\u043a\\u0441\\u0435\\u0441\\u0441\\u0443\\u0430\\u0440 ps3\", \"\\u043c\\u0443\\u0437\\u044b\\u043a\\u0430 \\u043f\\u043e\\u0434\\u0430\\u0440\\u043e\\u0447\\u043d\\u044b\\u0439 \\u0438\\u0437\\u0434\\u0430\\u043d\\u0438\\u0435\", \"\\u0438\\u0433\\u0440\\u0430 pc \\u043a\\u043e\\u043b\\u043b\\u0435\\u043a\\u0446\\u0438\\u043e\\u043d\\u043d\\u044b\\u0439 \\u0438\\u0437\\u0434\\u0430\\u043d\\u0438\\u0435\", \"\\u0438\\u0433\\u0440\\u043e\\u0432\\u043e\\u0439 \\u043a\\u043e\\u043d\\u0441\\u043e\\u043b\\u044c ps3\", \"\\u0430\\u043a\\u0441\\u0435\\u0441\\u0441\\u0443\\u0430\\u0440 xbox 360\", \"\\u0438\\u0433\\u0440\\u043e\\u0432\\u043e\\u0439 \\u043a\\u043e\\u043d\\u0441\\u043e\\u043b\\u044c xbox 360\", \"\\u043f\\u0440\\u043e\\u0433\\u0440\\u0430\\u043c\\u043c\\u0430 1\\u0441 \\u043f\\u0440\\u0435\\u0434\\u043f\\u0440\\u0438\\u044f\\u0442\\u0438\\u0435 8\", \"\\u0430\\u043a\\u0441\\u0435\\u0441\\u0441\\u0443\\u0430\\u0440 ps4\", \"\\u0430\\u043a\\u0441\\u0435\\u0441\\u0441\\u0443\\u0430\\u0440 psvita\", \"\\u043f\\u043e\\u0434\\u0430\\u0440\\u043e\\u043a \\u0441\\u0435\\u0440\\u0442\\u0438\\u0444\\u0438\\u043a\\u0430\\u0442 \\u0443\\u0441\\u043b\\u0443\\u0433\\u0430\", \"\\u0430\\u043a\\u0441\\u0435\\u0441\\u0441\\u0443\\u0430\\u0440 xbox one\", \"\\u0438\\u0433\\u0440\\u043e\\u0432\\u043e\\u0439 \\u043a\\u043e\\u043d\\u0441\\u043e\\u043b\\u044c ps4\", \"\\u0438\\u0433\\u0440\\u043e\\u0432\\u043e\\u0439 \\u043a\\u043e\\u043d\\u0441\\u043e\\u043b\\u044c xbox one\", \"\\u043a\\u0430\\u0440\\u0442\\u0430 \\u043e\\u043f\\u043b\\u0430\\u0442\\u0430 live\", \"\\u0438\\u0433\\u0440\\u043e\\u0432\\u043e\\u0439 \\u043a\\u043e\\u043d\\u0441\\u043e\\u043b\\u044c psvita\", \"\\u0430\\u043a\\u0441\\u0435\\u0441\\u0441\\u0443\\u0430\\u0440 psp\", \"\\u044d\\u043b\\u0435\\u043c\\u0435\\u043d\\u0442 \\u043f\\u0438\\u0442\\u0430\\u043d\\u0438\\u0435\", \"\\u0434\\u043e\\u0441\\u0442\\u0430\\u0432\\u043a\\u0430 \\u0442\\u043e\\u0432\\u0430\\u0440\", \"\\u043a\\u043d\\u0438\\u0433\\u0430 \\u0430\\u0440\\u0442\\u0431\\u0443\\u043a \\u044d\\u043d\\u0446\\u0438\\u043a\\u043b\\u043e\\u043f\\u0435\\u0434\\u0438\\u044f\", \"\\u043a\\u043d\\u0438\\u0433\\u0430 \\u0431\\u0438\\u0437\\u043d\\u0435\\u0441 \\u043b\\u0438\\u0442\\u0435\\u0440\\u0430\\u0442\\u0443\\u0440\\u0430\", \"\\u0431\\u0438\\u043b\\u0435\\u0442 \\u0446\\u0438\\u0444\\u0440\\u0430\", \"\\u0447\\u0438\\u0441\\u0442\\u044b\\u0439 \\u043d\\u043e\\u0441\\u0438\\u0442\\u0435\\u043b\\u044c \\u0448\\u0442\\u0443\\u0447\\u043d\\u044b\\u0439\", \"\\u0438\\u0433\\u0440\\u0430 mac \\u0446\\u0438\\u0444\\u0440\\u0430\", \"\\u043f\\u0440\\u043e\\u0433\\u0440\\u0430\\u043c\\u043c\\u0430 mac \\u0446\\u0438\\u0444\\u0440\\u0430\", \"\\u043a\\u0430\\u0440\\u0442\\u0430 \\u043e\\u043f\\u043b\\u0430\\u0442\\u0430 live \\u0446\\u0438\\u0444\\u0440\\u0430\", \"\\u043a\\u0438\\u043d\\u043e blu ray 4k\", \"\\u0447\\u0438\\u0441\\u0442\\u044b\\u0439 \\u043d\\u043e\\u0441\\u0438\\u0442\\u0435\\u043b\\u044c \\u0448\\u043f\\u0438\\u043b\\u044c\", \"\\u0438\\u0433\\u0440\\u043e\\u0432\\u043e\\u0439 \\u043a\\u043e\\u043d\\u0441\\u043e\\u043b\\u044c \\u043f\\u0440\\u043e\\u0447\\u0438\\u0439\", \"\\u043a\\u0430\\u0440\\u0442\\u0430 \\u043e\\u043f\\u043b\\u0430\\u0442\\u0430 windows \\u0446\\u0438\\u0444\\u0440\\u0430\", \"\\u043a\\u0430\\u0440\\u0442\\u0430 \\u043e\\u043f\\u043b\\u0430\\u0442\\u0430 \\u043a\\u0438\\u043d\\u043e \\u043c\\u0443\\u0437\\u044b\\u043a\\u0430 \\u0438\\u0433\\u0440\\u0430\", \"\\u043f\\u043e\\u0434\\u0430\\u0440\\u043e\\u043a \\u0441\\u0443\\u043c\\u043a\\u0430 \\u0430\\u043b\\u044c\\u0431\\u043e\\u043c \\u043a\\u043e\\u0432\\u0440\\u0438\\u043a \\u0434 \\u043c\\u044b\\u0448\\u044c\", \"\\u0438\\u0433\\u0440\\u043e\\u0432\\u043e\\u0439 \\u043a\\u043e\\u043d\\u0441\\u043e\\u043b\\u044c psp\", \"\\u0438\\u0433\\u0440\\u0430 ps2\", \"\\u0441\\u043b\\u0443\\u0436\\u0435\\u0431\\u043d\\u044b\\u0439 \\u0431\\u0438\\u043b\\u0435\\u0442\", \"\\u043a\\u043d\\u0438\\u0433\\u0430 \\u043a\\u043e\\u043c\\u043f\\u044c\\u044e\\u0442\\u0435\\u0440\\u043d\\u044b\\u0439 \\u043b\\u0438\\u0442\\u0435\\u0440\\u0430\\u0442\\u0443\\u0440\\u0430\", \"pc \\u0433\\u0430\\u0440\\u043d\\u0438\\u0442\\u0443\\u0440 \\u043d\\u0430\\u0443\\u0448\\u043d\\u0438\\u043a\\u0438\", \"\\u043a\\u0430\\u0440\\u0442\\u0430 \\u043e\\u043f\\u043b\\u0430\\u0442\\u0430 psn\", \"\\u0438\\u0433\\u0440\\u0430 android \\u0446\\u0438\\u0444\\u0440\\u0430\", \"\\u043a\\u043d\\u0438\\u0433\\u0430 \\u043f\\u0443\\u0442\\u0435\\u0432\\u043e\\u0434\\u0438\\u0442\\u0435\\u043b\\u044c\", \"\\u043a\\u043d\\u0438\\u0433\\u0430 \\u0445\\u0443\\u0434\\u043e\\u0436\\u0435\\u0441\\u0442\\u0432\\u0435\\u043d\\u043d\\u044b\\u0439 \\u043b\\u0438\\u0442\\u0435\\u0440\\u0430\\u0442\\u0443\\u0440\\u0430\", \"\\u043a\\u043d\\u0438\\u0433\\u0430 \\u043e\\u0442\\u043a\\u0440\\u044b\\u0442\\u043a\\u0430\", \"\\u0430\\u043a\\u0441\\u0435\\u0441\\u0441\\u0443\\u0430\\u0440 ps2\", \"\\u0441\\u043b\\u0443\\u0436\\u0435\\u0431\\u043d\\u044b\\u0439\", \"\\u043a\\u043d\\u0438\\u0433\\u0430 \\u043f\\u043e\\u0437\\u043d\\u0430\\u0432\\u0430\\u0442\\u0435\\u043b\\u044c\\u043d\\u044b\\u0439 \\u043b\\u0438\\u0442\\u0435\\u0440\\u0430\\u0442\\u0443\\u0440\\u0430\", \"\\u0438\\u0433\\u0440\\u043e\\u0432\\u043e\\u0439 \\u043a\\u043e\\u043d\\u0441\\u043e\\u043b\\u044c ps2\"], \"y\": [5035, 2365, 1780, 1125, 790, 756, 666, 628, 598, 501, 471, 427, 397, 394, 366, 333, 332, 317, 310, 295, 294, 290, 278, 277, 240, 228, 220, 195, 178, 175, 167, 163, 161, 151, 140, 125, 123, 90, 79, 75, 52, 46, 41, 40, 37, 36, 34, 29, 27, 24, 20, 20, 18, 18, 15, 15, 12, 12, 12, 9, 8, 8, 8, 8, 7, 7, 7, 6, 6, 6, 6, 6, 6, 5, 4, 4, 3, 3, 3, 2, 2, 1, 1, 1], \"hoverinfo\": \"text\", \"marker\": {\"color\": \"rgba(177, 14, 22, 0.5)\", \"line\": {\"color\": \"rgb(0,0,0)\", \"width\": 1.5}}}], {\"title\": \"categories\"}, {\"showLink\": true, \"linkText\": \"Export to plot.ly\"})});</script>"
      ],
      "text/vnd.plotly.v1+html": [
       "<div id=\"0d3a202c-2950-4b71-bf2a-897b676411f3\" style=\"height: 525px; width: 100%;\" class=\"plotly-graph-div\"></div><script type=\"text/javascript\">require([\"plotly\"], function(Plotly) { window.PLOTLYENV=window.PLOTLYENV || {};window.PLOTLYENV.BASE_URL=\"https://plot.ly\";Plotly.newPlot(\"0d3a202c-2950-4b71-bf2a-897b676411f3\", [{\"type\": \"bar\", \"x\": [\"\\u043a\\u0438\\u043d\\u043e dvd\", \"\\u043c\\u0443\\u0437\\u044b\\u043a\\u0430 cd \\u043b\\u043e\\u043a\\u0430\\u043b\\u044c\\u043d\\u044b\\u0439 \\u043f\\u0440\\u043e\\u0438\\u0437\\u0432\\u043e\\u0434\\u0441\\u0442\\u0432\\u043e\", \"\\u043a\\u0438\\u043d\\u043e blu ray\", \"\\u0438\\u0433\\u0440\\u0430 pc \\u0446\\u0438\\u0444\\u0440\\u0430\", \"\\u043c\\u0443\\u0437\\u044b\\u043a\\u0430 \\u0432\\u0438\\u043d\\u0438\\u0442\\u044c\", \"\\u0438\\u0433\\u0440\\u0430 pc \\u0441\\u0442\\u0430\\u043d\\u0434\\u0430\\u0440\\u0442\\u043d\\u044b\\u0439 \\u0438\\u0437\\u0434\\u0430\\u043d\\u0438\\u0435\", \"\\u043f\\u043e\\u0434\\u0430\\u0440\\u043e\\u043a \\u0444\\u0438\\u0433\\u0443\\u0440\\u043a\\u0430\", \"\\u0438\\u0433\\u0440\\u0430 ps3\", \"\\u043f\\u043e\\u0434\\u0430\\u0440\\u043e\\u043a \\u0430\\u0442\\u0440\\u0438\\u0431\\u0443\\u0442\\u0438\\u043a\\u0430\", \"\\u0438\\u0433\\u0440\\u0430 xbox 360\", \"\\u043a\\u043d\\u0438\\u0433\\u0430 \\u0430\\u0443\\u0434\\u0438\\u043e\\u043a\\u043d\\u0438\\u0433\\u0430\", \"\\u043c\\u0443\\u0437\\u044b\\u043a\\u0430 mp3\", \"\\u043c\\u0443\\u0437\\u044b\\u043a\\u0430 cd \\u0444\\u0438\\u0440\\u043c\\u0435\\u043d\\u043d\\u044b\\u0439 \\u043f\\u0440\\u043e\\u0438\\u0437\\u0432\\u043e\\u0434\\u0441\\u0442\\u0432\\u043e\", \"\\u043f\\u043e\\u0434\\u0430\\u0440\\u043e\\u043a \\u0440\\u0430\\u0437\\u0432\\u0438\\u0442\\u0438\\u0435\", \"\\u043f\\u043e\\u0434\\u0430\\u0440\\u043e\\u043a \\u043c\\u044f\\u0433\\u043a\\u0438\\u0439 \\u0438\\u0433\\u0440\\u0443\\u0448\\u043a\\u0430\", \"\\u043f\\u0440\\u043e\\u0433\\u0440\\u0430\\u043c\\u043c\\u0430 \\u0434\\u043e\\u043c \\u043e\\u0444\\u0438\\u0441 \\u0446\\u0438\\u0444\\u0440\\u0430\", \"\\u043a\\u0438\\u043d\\u043e \\u043a\\u043e\\u043b\\u043b\\u0435\\u043a\\u0446\\u0438\\u043e\\u043d\\u043d\\u044b\\u0439\", \"\\u043f\\u043e\\u0434\\u0430\\u0440\\u043e\\u043a \\u0441\\u0443\\u0432\\u0435\\u043d\\u0438\\u0440\", \"\\u043a\\u0438\\u043d\\u043e blu ray 3d\", \"\\u043f\\u043e\\u0434\\u0430\\u0440\\u043e\\u043a \\u0433\\u0430\\u0434\\u0436\\u0435\\u0442 \\u0440\\u043e\\u0431\\u043e\\u0442 \\u0441\\u043f\\u043e\\u0440\\u0442\", \"\\u043c\\u0443\\u0437\\u044b\\u043a\\u0430 \\u043c\\u0443\\u0437\\u044b\\u043a\\u0430\\u043b\\u044c\\u043d\\u044b\\u0439 \\u0432\\u0438\\u0434\\u0435\\u043e\", \"\\u043f\\u043e\\u0434\\u0430\\u0440\\u043e\\u043a \\u043d\\u0430\\u0441\\u0442\\u043e\\u043b\\u044c\\u043d\\u044b\\u0439 \\u0438\\u0433\\u0440\\u0430\", \"\\u043f\\u0440\\u043e\\u0433\\u0440\\u0430\\u043c\\u043c\\u0430 \\u043e\\u0431\\u0443\\u0447\\u0430\\u0442\\u044c \\u0446\\u0438\\u0444\\u0440\\u0430\", \"\\u043f\\u0440\\u043e\\u0433\\u0440\\u0430\\u043c\\u043c\\u0430 \\u0434\\u043e\\u043c \\u043e\\u0444\\u0438\\u0441\", \"\\u0438\\u0433\\u0440\\u0430 pc \\u0434\\u043e\\u043f\\u043e\\u043b\\u043d\\u0438\\u0442\\u0435\\u043b\\u044c\\u043d\\u044b\\u0439 \\u0438\\u0437\\u0434\\u0430\\u043d\\u0438\\u0435\", \"\\u043f\\u043e\\u0434\\u0430\\u0440\\u043e\\u043a \\u0441\\u0443\\u0432\\u0435\\u043d\\u0438\\u0440 \\u043d\\u0430\\u0432\\u0435\\u0441\\u043a\\u0430\", \"\\u043f\\u0440\\u043e\\u0433\\u0440\\u0430\\u043c\\u043c\\u0430 \\u043e\\u0431\\u0443\\u0447\\u0430\\u0442\\u044c\", \"\\u043a\\u043d\\u0438\\u0433\\u0430 \\u0430\\u0443\\u0434\\u0438\\u043e\\u043a\\u043d\\u0438\\u0433\\u0430 1\\u0441\", \"\\u043f\\u043e\\u0434\\u0430\\u0440\\u043e\\u043a \\u043e\\u0442\\u043a\\u0440\\u044b\\u0442\\u043a\\u0430 \\u043d\\u0430\\u043a\\u043b\\u0435\\u0439\\u043a\\u0430\", \"\\u0438\\u0433\\u0440\\u0430 ps4\", \"\\u043a\\u043d\\u0438\\u0433\\u0430 \\u043c\\u0435\\u0442\\u043e\\u0434\\u0438\\u0447\\u0435\\u0441\\u043a\\u0438\\u0439 \\u043c\\u0430\\u0442\\u0435\\u0440\\u0438\\u0430\\u043b 1\\u0441\", \"\\u043f\\u043e\\u0434\\u0430\\u0440\\u043e\\u043a \\u043d\\u0430\\u0441\\u0442\\u043e\\u043b\\u044c\\u043d\\u044b\\u0439 \\u0438\\u0433\\u0440\\u0430 \\u043a\\u043e\\u043c\\u043f\\u0430\\u043a\\u0442\\u043d\\u044b\\u0439\", \"\\u043a\\u043d\\u0438\\u0433\\u0430 \\u0430\\u0443\\u0434\\u0438\\u043e\\u043a\\u043d\\u0438\\u0433\\u0430 \\u0446\\u0438\\u0444\\u0440\\u0430\", \"\\u043a\\u043d\\u0438\\u0433\\u0430 \\u043a\\u043e\\u043c\\u0438\\u043a\\u0441 \\u043c\\u0430\\u043d\\u0433\\u0430\", \"\\u0438\\u0433\\u0440\\u0430 \\u0430\\u043a\\u0441\\u0435\\u0441\\u0441\\u0443\\u0430\\u0440 \\u0438\\u0433\\u0440\\u0430\", \"\\u0438\\u0433\\u0440\\u0430 psp\", \"\\u0438\\u0433\\u0440\\u0430 xbox one\", \"\\u043a\\u043d\\u0438\\u0433\\u0430 \\u0446\\u0438\\u0444\\u0440\\u0430\", \"\\u0438\\u0433\\u0440\\u0430 psvita\", \"\\u0430\\u043a\\u0441\\u0435\\u0441\\u0441\\u0443\\u0430\\u0440 ps3\", \"\\u043c\\u0443\\u0437\\u044b\\u043a\\u0430 \\u043f\\u043e\\u0434\\u0430\\u0440\\u043e\\u0447\\u043d\\u044b\\u0439 \\u0438\\u0437\\u0434\\u0430\\u043d\\u0438\\u0435\", \"\\u0438\\u0433\\u0440\\u0430 pc \\u043a\\u043e\\u043b\\u043b\\u0435\\u043a\\u0446\\u0438\\u043e\\u043d\\u043d\\u044b\\u0439 \\u0438\\u0437\\u0434\\u0430\\u043d\\u0438\\u0435\", \"\\u0438\\u0433\\u0440\\u043e\\u0432\\u043e\\u0439 \\u043a\\u043e\\u043d\\u0441\\u043e\\u043b\\u044c ps3\", \"\\u0430\\u043a\\u0441\\u0435\\u0441\\u0441\\u0443\\u0430\\u0440 xbox 360\", \"\\u0438\\u0433\\u0440\\u043e\\u0432\\u043e\\u0439 \\u043a\\u043e\\u043d\\u0441\\u043e\\u043b\\u044c xbox 360\", \"\\u043f\\u0440\\u043e\\u0433\\u0440\\u0430\\u043c\\u043c\\u0430 1\\u0441 \\u043f\\u0440\\u0435\\u0434\\u043f\\u0440\\u0438\\u044f\\u0442\\u0438\\u0435 8\", \"\\u0430\\u043a\\u0441\\u0435\\u0441\\u0441\\u0443\\u0430\\u0440 ps4\", \"\\u0430\\u043a\\u0441\\u0435\\u0441\\u0441\\u0443\\u0430\\u0440 psvita\", \"\\u043f\\u043e\\u0434\\u0430\\u0440\\u043e\\u043a \\u0441\\u0435\\u0440\\u0442\\u0438\\u0444\\u0438\\u043a\\u0430\\u0442 \\u0443\\u0441\\u043b\\u0443\\u0433\\u0430\", \"\\u0430\\u043a\\u0441\\u0435\\u0441\\u0441\\u0443\\u0430\\u0440 xbox one\", \"\\u0438\\u0433\\u0440\\u043e\\u0432\\u043e\\u0439 \\u043a\\u043e\\u043d\\u0441\\u043e\\u043b\\u044c ps4\", \"\\u0438\\u0433\\u0440\\u043e\\u0432\\u043e\\u0439 \\u043a\\u043e\\u043d\\u0441\\u043e\\u043b\\u044c xbox one\", \"\\u043a\\u0430\\u0440\\u0442\\u0430 \\u043e\\u043f\\u043b\\u0430\\u0442\\u0430 live\", \"\\u0438\\u0433\\u0440\\u043e\\u0432\\u043e\\u0439 \\u043a\\u043e\\u043d\\u0441\\u043e\\u043b\\u044c psvita\", \"\\u0430\\u043a\\u0441\\u0435\\u0441\\u0441\\u0443\\u0430\\u0440 psp\", \"\\u044d\\u043b\\u0435\\u043c\\u0435\\u043d\\u0442 \\u043f\\u0438\\u0442\\u0430\\u043d\\u0438\\u0435\", \"\\u0434\\u043e\\u0441\\u0442\\u0430\\u0432\\u043a\\u0430 \\u0442\\u043e\\u0432\\u0430\\u0440\", \"\\u043a\\u043d\\u0438\\u0433\\u0430 \\u0430\\u0440\\u0442\\u0431\\u0443\\u043a \\u044d\\u043d\\u0446\\u0438\\u043a\\u043b\\u043e\\u043f\\u0435\\u0434\\u0438\\u044f\", \"\\u043a\\u043d\\u0438\\u0433\\u0430 \\u0431\\u0438\\u0437\\u043d\\u0435\\u0441 \\u043b\\u0438\\u0442\\u0435\\u0440\\u0430\\u0442\\u0443\\u0440\\u0430\", \"\\u0431\\u0438\\u043b\\u0435\\u0442 \\u0446\\u0438\\u0444\\u0440\\u0430\", \"\\u0447\\u0438\\u0441\\u0442\\u044b\\u0439 \\u043d\\u043e\\u0441\\u0438\\u0442\\u0435\\u043b\\u044c \\u0448\\u0442\\u0443\\u0447\\u043d\\u044b\\u0439\", \"\\u0438\\u0433\\u0440\\u0430 mac \\u0446\\u0438\\u0444\\u0440\\u0430\", \"\\u043f\\u0440\\u043e\\u0433\\u0440\\u0430\\u043c\\u043c\\u0430 mac \\u0446\\u0438\\u0444\\u0440\\u0430\", \"\\u043a\\u0430\\u0440\\u0442\\u0430 \\u043e\\u043f\\u043b\\u0430\\u0442\\u0430 live \\u0446\\u0438\\u0444\\u0440\\u0430\", \"\\u043a\\u0438\\u043d\\u043e blu ray 4k\", \"\\u0447\\u0438\\u0441\\u0442\\u044b\\u0439 \\u043d\\u043e\\u0441\\u0438\\u0442\\u0435\\u043b\\u044c \\u0448\\u043f\\u0438\\u043b\\u044c\", \"\\u0438\\u0433\\u0440\\u043e\\u0432\\u043e\\u0439 \\u043a\\u043e\\u043d\\u0441\\u043e\\u043b\\u044c \\u043f\\u0440\\u043e\\u0447\\u0438\\u0439\", \"\\u043a\\u0430\\u0440\\u0442\\u0430 \\u043e\\u043f\\u043b\\u0430\\u0442\\u0430 windows \\u0446\\u0438\\u0444\\u0440\\u0430\", \"\\u043a\\u0430\\u0440\\u0442\\u0430 \\u043e\\u043f\\u043b\\u0430\\u0442\\u0430 \\u043a\\u0438\\u043d\\u043e \\u043c\\u0443\\u0437\\u044b\\u043a\\u0430 \\u0438\\u0433\\u0440\\u0430\", \"\\u043f\\u043e\\u0434\\u0430\\u0440\\u043e\\u043a \\u0441\\u0443\\u043c\\u043a\\u0430 \\u0430\\u043b\\u044c\\u0431\\u043e\\u043c \\u043a\\u043e\\u0432\\u0440\\u0438\\u043a \\u0434 \\u043c\\u044b\\u0448\\u044c\", \"\\u0438\\u0433\\u0440\\u043e\\u0432\\u043e\\u0439 \\u043a\\u043e\\u043d\\u0441\\u043e\\u043b\\u044c psp\", \"\\u0438\\u0433\\u0440\\u0430 ps2\", \"\\u0441\\u043b\\u0443\\u0436\\u0435\\u0431\\u043d\\u044b\\u0439 \\u0431\\u0438\\u043b\\u0435\\u0442\", \"\\u043a\\u043d\\u0438\\u0433\\u0430 \\u043a\\u043e\\u043c\\u043f\\u044c\\u044e\\u0442\\u0435\\u0440\\u043d\\u044b\\u0439 \\u043b\\u0438\\u0442\\u0435\\u0440\\u0430\\u0442\\u0443\\u0440\\u0430\", \"pc \\u0433\\u0430\\u0440\\u043d\\u0438\\u0442\\u0443\\u0440 \\u043d\\u0430\\u0443\\u0448\\u043d\\u0438\\u043a\\u0438\", \"\\u043a\\u0430\\u0440\\u0442\\u0430 \\u043e\\u043f\\u043b\\u0430\\u0442\\u0430 psn\", \"\\u0438\\u0433\\u0440\\u0430 android \\u0446\\u0438\\u0444\\u0440\\u0430\", \"\\u043a\\u043d\\u0438\\u0433\\u0430 \\u043f\\u0443\\u0442\\u0435\\u0432\\u043e\\u0434\\u0438\\u0442\\u0435\\u043b\\u044c\", \"\\u043a\\u043d\\u0438\\u0433\\u0430 \\u0445\\u0443\\u0434\\u043e\\u0436\\u0435\\u0441\\u0442\\u0432\\u0435\\u043d\\u043d\\u044b\\u0439 \\u043b\\u0438\\u0442\\u0435\\u0440\\u0430\\u0442\\u0443\\u0440\\u0430\", \"\\u043a\\u043d\\u0438\\u0433\\u0430 \\u043e\\u0442\\u043a\\u0440\\u044b\\u0442\\u043a\\u0430\", \"\\u0430\\u043a\\u0441\\u0435\\u0441\\u0441\\u0443\\u0430\\u0440 ps2\", \"\\u0441\\u043b\\u0443\\u0436\\u0435\\u0431\\u043d\\u044b\\u0439\", \"\\u043a\\u043d\\u0438\\u0433\\u0430 \\u043f\\u043e\\u0437\\u043d\\u0430\\u0432\\u0430\\u0442\\u0435\\u043b\\u044c\\u043d\\u044b\\u0439 \\u043b\\u0438\\u0442\\u0435\\u0440\\u0430\\u0442\\u0443\\u0440\\u0430\", \"\\u0438\\u0433\\u0440\\u043e\\u0432\\u043e\\u0439 \\u043a\\u043e\\u043d\\u0441\\u043e\\u043b\\u044c ps2\"], \"y\": [5035, 2365, 1780, 1125, 790, 756, 666, 628, 598, 501, 471, 427, 397, 394, 366, 333, 332, 317, 310, 295, 294, 290, 278, 277, 240, 228, 220, 195, 178, 175, 167, 163, 161, 151, 140, 125, 123, 90, 79, 75, 52, 46, 41, 40, 37, 36, 34, 29, 27, 24, 20, 20, 18, 18, 15, 15, 12, 12, 12, 9, 8, 8, 8, 8, 7, 7, 7, 6, 6, 6, 6, 6, 6, 5, 4, 4, 3, 3, 3, 2, 2, 1, 1, 1], \"hoverinfo\": \"text\", \"marker\": {\"color\": \"rgba(177, 14, 22, 0.5)\", \"line\": {\"color\": \"rgb(0,0,0)\", \"width\": 1.5}}}], {\"title\": \"categories\"}, {\"showLink\": true, \"linkText\": \"Export to plot.ly\"})});</script>"
      ]
     },
     "metadata": {},
     "output_type": "display_data"
    }
   ],
   "source": [
    "import plotly.graph_objs as go\n",
    "from plotly.offline import init_notebook_mode, iplot\n",
    "init_notebook_mode(connected=True)\n",
    "data =item_to_cat_df['cats'].value_counts()\n",
    "print(data)\n",
    "data = [go.Bar(\n",
    "            x=data.index,\n",
    "            y=data.values,\n",
    "            hoverinfo = 'text',\n",
    "            marker = dict(color = 'rgba(177, 14, 22, 0.5)',\n",
    "                             line=dict(color='rgb(0,0,0)',width=1.5)),\n",
    "    )]\n",
    "\n",
    "layout = dict(\n",
    "    title = 'categories',\n",
    ")\n",
    "fig = go.Figure(data=data, layout=layout)\n",
    "iplot(fig)"
   ]
  },
  {
   "cell_type": "code",
   "execution_count": 34,
   "metadata": {
    "collapsed": true
   },
   "outputs": [],
   "source": [
    "from sklearn.feature_extraction import FeatureHasher\n",
    "fh = FeatureHasher(n_features=5, input_type='string')\n",
    "hashed_features = fh.fit_transform(item_cats['cats'])\n",
    "hashed_features = hashed_features.toarray()\n",
    "df=pd.concat([item_cats[['item_category_id', 'cats']], pd.DataFrame(hashed_features)], \n",
    "          axis=1)"
   ]
  },
  {
   "cell_type": "code",
   "execution_count": 35,
   "metadata": {},
   "outputs": [
    {
     "data": {
      "text/html": [
       "<div>\n",
       "<style scoped>\n",
       "    .dataframe tbody tr th:only-of-type {\n",
       "        vertical-align: middle;\n",
       "    }\n",
       "\n",
       "    .dataframe tbody tr th {\n",
       "        vertical-align: top;\n",
       "    }\n",
       "\n",
       "    .dataframe thead th {\n",
       "        text-align: right;\n",
       "    }\n",
       "</style>\n",
       "<table border=\"1\" class=\"dataframe\">\n",
       "  <thead>\n",
       "    <tr style=\"text-align: right;\">\n",
       "      <th></th>\n",
       "      <th>item_category_id</th>\n",
       "      <th>cats</th>\n",
       "      <th>0</th>\n",
       "      <th>1</th>\n",
       "      <th>2</th>\n",
       "      <th>3</th>\n",
       "      <th>4</th>\n",
       "    </tr>\n",
       "  </thead>\n",
       "  <tbody>\n",
       "    <tr>\n",
       "      <th>0</th>\n",
       "      <td>0</td>\n",
       "      <td>pc гарнитур наушники</td>\n",
       "      <td>0.0</td>\n",
       "      <td>-6.0</td>\n",
       "      <td>1.0</td>\n",
       "      <td>1.0</td>\n",
       "      <td>-2.0</td>\n",
       "    </tr>\n",
       "    <tr>\n",
       "      <th>1</th>\n",
       "      <td>1</td>\n",
       "      <td>аксессуар ps2</td>\n",
       "      <td>-3.0</td>\n",
       "      <td>-1.0</td>\n",
       "      <td>1.0</td>\n",
       "      <td>-1.0</td>\n",
       "      <td>-3.0</td>\n",
       "    </tr>\n",
       "    <tr>\n",
       "      <th>2</th>\n",
       "      <td>2</td>\n",
       "      <td>аксессуар ps3</td>\n",
       "      <td>-2.0</td>\n",
       "      <td>-2.0</td>\n",
       "      <td>1.0</td>\n",
       "      <td>-1.0</td>\n",
       "      <td>-3.0</td>\n",
       "    </tr>\n",
       "    <tr>\n",
       "      <th>3</th>\n",
       "      <td>3</td>\n",
       "      <td>аксессуар ps4</td>\n",
       "      <td>-3.0</td>\n",
       "      <td>-2.0</td>\n",
       "      <td>0.0</td>\n",
       "      <td>-1.0</td>\n",
       "      <td>-3.0</td>\n",
       "    </tr>\n",
       "    <tr>\n",
       "      <th>4</th>\n",
       "      <td>4</td>\n",
       "      <td>аксессуар psp</td>\n",
       "      <td>-3.0</td>\n",
       "      <td>-3.0</td>\n",
       "      <td>1.0</td>\n",
       "      <td>-1.0</td>\n",
       "      <td>-3.0</td>\n",
       "    </tr>\n",
       "  </tbody>\n",
       "</table>\n",
       "</div>"
      ],
      "text/plain": [
       "   item_category_id                  cats    0    1    2    3    4\n",
       "0                 0  pc гарнитур наушники  0.0 -6.0  1.0  1.0 -2.0\n",
       "1                 1         аксессуар ps2 -3.0 -1.0  1.0 -1.0 -3.0\n",
       "2                 2         аксессуар ps3 -2.0 -2.0  1.0 -1.0 -3.0\n",
       "3                 3         аксессуар ps4 -3.0 -2.0  0.0 -1.0 -3.0\n",
       "4                 4         аксессуар psp -3.0 -3.0  1.0 -1.0 -3.0"
      ]
     },
     "execution_count": 35,
     "metadata": {},
     "output_type": "execute_result"
    }
   ],
   "source": [
    "df.head()"
   ]
  },
  {
   "cell_type": "markdown",
   "metadata": {},
   "source": [
    "# shops datasets\n",
    " * same as item_cats datasets \n",
    " * this dataset is just obout the name of each shop\n",
    " * so all we can do with this data is to come up with a new feature \n"
   ]
  },
  {
   "cell_type": "code",
   "execution_count": 114,
   "metadata": {},
   "outputs": [
    {
     "data": {
      "text/plain": [
       "(60, 2)"
      ]
     },
     "execution_count": 114,
     "metadata": {},
     "output_type": "execute_result"
    }
   ],
   "source": [
    "shops.shape"
   ]
  },
  {
   "cell_type": "markdown",
   "metadata": {},
   "source": [
    "#Several shops are duplicates of each other (according to its name). Fix train and test set."
   ]
  },
  {
   "cell_type": "code",
   "execution_count": 115,
   "metadata": {
    "collapsed": true
   },
   "outputs": [],
   "source": [
    "# Якутск Орджоникидзе, 56\n",
    "shops.loc[shops.shop_id == 0, 'shop_id'] = 57\n",
    "# Якутск ТЦ \"Центральный\"\n",
    "shops.loc[shops.shop_id == 1, 'shop_id'] = 58\n",
    "# Жуковский ул. Чкалова 39м²\n",
    "shops.loc[shops.shop_id == 10, 'shop_id'] = 11"
   ]
  },
  {
   "cell_type": "markdown",
   "metadata": {},
   "source": [
    "#### max_df is used for removing terms that appear too frequently, also known as \"corpus-specific stop words\". For example:\n",
    "\n",
    "* max_df = 0.50 means \"ignore terms that appear in more than 50% of the documents\".\n",
    "* max_df = 25 means \"ignore terms that appear in more than 25 documents\".\n",
    "\n",
    "The default max_df is 1.0, which means \"ignore terms that appear in more than  100% of the documents\". Thus, the default setting does not ignore any terms.\n",
    "\n",
    "#### min_df is used for removing terms that appear too infrequently. For example:\n",
    "\n",
    "* min_df = 0.01 means \"ignore terms that appear in less than 1% of the documents\".\n",
    "* min_df = 5 means \"ignore terms that appear in less than 5 documents\".\n",
    "\n",
    "The default min_df is 1, which means \"ignore terms that appear in less than 1    document\". Thus, the default setting does not ignore any terms.**"
   ]
  },
  {
   "cell_type": "code",
   "execution_count": 122,
   "metadata": {
    "scrolled": false
   },
   "outputs": [
    {
     "data": {
      "text/plain": [
       "array(['!Якутск Орджоникидзе, 56 фран', '!Якутск ТЦ \"Центральный\" фран',\n",
       "       'Адыгея ТЦ \"Мега\"', 'Балашиха ТРК \"Октябрь-Киномир\"',\n",
       "       'Волжский ТЦ \"Волга Молл\"', 'Вологда ТРЦ \"Мармелад\"',\n",
       "       'Воронеж (Плехановская, 13)', 'Воронеж ТРЦ \"Максимир\"',\n",
       "       'Воронеж ТРЦ Сити-Парк \"Град\"', 'Выездная Торговля',\n",
       "       'Жуковский ул. Чкалова 39м?', 'Жуковский ул. Чкалова 39м²',\n",
       "       'Интернет-магазин ЧС', 'Казань ТЦ \"Бехетле\"',\n",
       "       'Казань ТЦ \"ПаркХаус\" II', 'Калуга ТРЦ \"XXI век\"',\n",
       "       'Коломна ТЦ \"Рио\"', 'Красноярск ТЦ \"Взлетка Плаза\"',\n",
       "       'Красноярск ТЦ \"Июнь\"', 'Курск ТЦ \"Пушкинский\"',\n",
       "       'Москва \"Распродажа\"', 'Москва МТРЦ \"Афи Молл\"',\n",
       "       'Москва Магазин С21', 'Москва ТК \"Буденовский\" (пав.А2)',\n",
       "       'Москва ТК \"Буденовский\" (пав.К7)', 'Москва ТРК \"Атриум\"',\n",
       "       'Москва ТЦ \"Ареал\" (Беляево)', 'Москва ТЦ \"МЕГА Белая Дача II\"',\n",
       "       'Москва ТЦ \"МЕГА Теплый Стан\" II',\n",
       "       'Москва ТЦ \"Новый век\" (Новокосино)', 'Москва ТЦ \"Перловский\"',\n",
       "       'Москва ТЦ \"Семеновский\"', 'Москва ТЦ \"Серебряный Дом\"',\n",
       "       'Мытищи ТРК \"XL-3\"', 'Н.Новгород ТРЦ \"РИО\"',\n",
       "       'Н.Новгород ТРЦ \"Фантастика\"',\n",
       "       'Новосибирск ТРЦ \"Галерея Новосибирск\"', 'Новосибирск ТЦ \"Мега\"',\n",
       "       'Омск ТЦ \"Мега\"', 'РостовНаДону ТРК \"Мегацентр Горизонт\"',\n",
       "       'РостовНаДону ТРК \"Мегацентр Горизонт\" Островной',\n",
       "       'РостовНаДону ТЦ \"Мега\"', 'СПб ТК \"Невский Центр\"',\n",
       "       'СПб ТК \"Сенная\"', 'Самара ТЦ \"Мелодия\"', 'Самара ТЦ \"ПаркХаус\"',\n",
       "       'Сергиев Посад ТЦ \"7Я\"', 'Сургут ТРЦ \"Сити Молл\"',\n",
       "       'Томск ТРЦ \"Изумрудный Город\"', 'Тюмень ТРЦ \"Кристалл\"',\n",
       "       'Тюмень ТЦ \"Гудвин\"', 'Тюмень ТЦ \"Зеленый Берег\"',\n",
       "       'Уфа ТК \"Центральный\"', 'Уфа ТЦ \"Семья\" 2', 'Химки ТЦ \"Мега\"',\n",
       "       'Цифровой склад 1С-Онлайн', 'Чехов ТРЦ \"Карнавал\"',\n",
       "       'Якутск Орджоникидзе, 56', 'Якутск ТЦ \"Центральный\"',\n",
       "       'Ярославль ТЦ \"Альтаир\"'], dtype=object)"
      ]
     },
     "execution_count": 122,
     "metadata": {},
     "output_type": "execute_result"
    }
   ],
   "source": [
    "shops.shop_name.unique()"
   ]
  },
  {
   "cell_type": "markdown",
   "metadata": {},
   "source": [
    "* we should clean filter shops names before encoding them"
   ]
  },
  {
   "cell_type": "code",
   "execution_count": 123,
   "metadata": {
    "collapsed": true
   },
   "outputs": [],
   "source": [
    "l=[preprocess_text(i) for i in shops.shop_name]"
   ]
  },
  {
   "cell_type": "code",
   "execution_count": 124,
   "metadata": {
    "collapsed": true
   },
   "outputs": [],
   "source": [
    "shops[\"name\"]=l"
   ]
  },
  {
   "cell_type": "markdown",
   "metadata": {},
   "source": [
    "* Each shop_name contain  the city name."
   ]
  },
  {
   "cell_type": "markdown",
   "metadata": {},
   "source": [
    "shops['name'].unique()"
   ]
  },
  {
   "cell_type": "code",
   "execution_count": 154,
   "metadata": {
    "collapsed": true
   },
   "outputs": [],
   "source": [
    "russian_cities=pd.read_csv(\"rocid.csv/city.csv\",sep=';' , encoding=\"windows-1251\" )\n",
    "name=shops['name'].str.split(' ')\n",
    "l=[]\n",
    "for m in list(name):\n",
    "    a=\"\"\n",
    "    for j in m:\n",
    "        if j.capitalize() in list(russian_cities.name):\n",
    "            a= a+j.capitalize()+\" \"\n",
    "            \n",
    "    l=l+[a]\n",
    "\n",
    "shops['city']=l\n",
    "shops['city']=shops['city'].str.split(' ').map(lambda x: x[0])\n",
    "\n",
    "shops['city1'] = shops['name'].str.split(' ').map(lambda x: x[0])\n",
    "\n",
    "\n",
    "shops.city[shops[shops['city']==\"\"].index]=shops.city1[shops[shops['city']==\"\"].index]"
   ]
  },
  {
   "cell_type": "code",
   "execution_count": 171,
   "metadata": {},
   "outputs": [
    {
     "data": {
      "text/plain": [
       "0          Якутск\n",
       "1          Якутск\n",
       "2          адыгея\n",
       "3        Балашиха\n",
       "4        Волжский\n",
       "5         Вологда\n",
       "6         Воронеж\n",
       "7         Воронеж\n",
       "8         Воронеж\n",
       "9        выездной\n",
       "10      Жуковский\n",
       "11      Жуковский\n",
       "12       интернет\n",
       "13         Казань\n",
       "14         Казань\n",
       "15         Калуга\n",
       "16        Коломна\n",
       "17     Красноярск\n",
       "18     Красноярск\n",
       "19          Курск\n",
       "20         Москва\n",
       "21         Москва\n",
       "22         Москва\n",
       "23         Москва\n",
       "24         Москва\n",
       "25         Москва\n",
       "26         Москва\n",
       "27         Москва\n",
       "28         Москва\n",
       "29         Москва\n",
       "30         Москва\n",
       "31         Москва\n",
       "32         Москва\n",
       "33         Мытищи\n",
       "34       Новгород\n",
       "35       Новгород\n",
       "36    Новосибирск\n",
       "37    Новосибирск\n",
       "38           Омск\n",
       "39    ростовнадон\n",
       "40    ростовнадон\n",
       "41    ростовнадон\n",
       "42            спб\n",
       "43            спб\n",
       "44         Самара\n",
       "45         Самара\n",
       "46        сергиев\n",
       "47         Сургут\n",
       "48          Томск\n",
       "49         Тюмень\n",
       "50         Тюмень\n",
       "51         Тюмень\n",
       "52            Уфа\n",
       "53            Уфа\n",
       "54          Химки\n",
       "55       цифровой\n",
       "56          Чехов\n",
       "57         Якутск\n",
       "58         Якутск\n",
       "59      Ярославль\n",
       "Name: city, dtype: object"
      ]
     },
     "execution_count": 171,
     "metadata": {},
     "output_type": "execute_result"
    }
   ],
   "source": [
    "shops.city"
   ]
  },
  {
   "cell_type": "code",
   "execution_count": 172,
   "metadata": {
    "collapsed": true
   },
   "outputs": [],
   "source": [
    "\n",
    "shops['city_code'] = LabelEncoder().fit_transform(shops['city'])\n",
    "shops = shops[['shop_id','city_code']]\n",
    "\n"
   ]
  },
  {
   "cell_type": "code",
   "execution_count": 175,
   "metadata": {},
   "outputs": [
    {
     "data": {
      "text/html": [
       "<script>requirejs.config({paths: { 'plotly': ['https://cdn.plot.ly/plotly-latest.min']},});if(!window.Plotly) {{require(['plotly'],function(plotly) {window.Plotly=plotly;});}}</script>"
      ],
      "text/vnd.plotly.v1+html": [
       "<script>requirejs.config({paths: { 'plotly': ['https://cdn.plot.ly/plotly-latest.min']},});if(!window.Plotly) {{require(['plotly'],function(plotly) {window.Plotly=plotly;});}}</script>"
      ]
     },
     "metadata": {},
     "output_type": "display_data"
    },
    {
     "name": "stdout",
     "output_type": "stream",
     "text": [
      "10    13\n",
      "22     4\n",
      "27     3\n",
      "3      3\n",
      "18     3\n",
      "15     2\n",
      "19     2\n",
      "13     2\n",
      "29     2\n",
      "8      2\n",
      "12     2\n",
      "5      2\n",
      "4      2\n",
      "7      1\n",
      "11     1\n",
      "9      1\n",
      "2      1\n",
      "1      1\n",
      "6      1\n",
      "30     1\n",
      "14     1\n",
      "16     1\n",
      "17     1\n",
      "20     1\n",
      "21     1\n",
      "23     1\n",
      "24     1\n",
      "25     1\n",
      "26     1\n",
      "28     1\n",
      "0      1\n",
      "Name: city_code, dtype: int64\n"
     ]
    },
    {
     "data": {
      "application/vnd.plotly.v1+json": {
       "data": [
        {
         "hoverinfo": "text",
         "marker": {
          "color": "rgba(177, 14, 22, 0.5)",
          "line": {
           "color": "rgb(0,0,0)",
           "width": 1.5
          }
         },
         "type": "bar",
         "x": [
          10,
          22,
          27,
          3,
          18,
          15,
          19,
          13,
          29,
          8,
          12,
          5,
          4,
          7,
          11,
          9,
          2,
          1,
          6,
          30,
          14,
          16,
          17,
          20,
          21,
          23,
          24,
          25,
          26,
          28,
          0
         ],
         "y": [
          13,
          4,
          3,
          3,
          3,
          2,
          2,
          2,
          2,
          2,
          2,
          2,
          2,
          1,
          1,
          1,
          1,
          1,
          1,
          1,
          1,
          1,
          1,
          1,
          1,
          1,
          1,
          1,
          1,
          1,
          1
         ]
        }
       ],
       "layout": {
        "title": "categories"
       }
      },
      "text/html": [
       "<div id=\"a81d1098-8fc3-4540-bc45-6f183ab51134\" style=\"height: 525px; width: 100%;\" class=\"plotly-graph-div\"></div><script type=\"text/javascript\">require([\"plotly\"], function(Plotly) { window.PLOTLYENV=window.PLOTLYENV || {};window.PLOTLYENV.BASE_URL=\"https://plot.ly\";Plotly.newPlot(\"a81d1098-8fc3-4540-bc45-6f183ab51134\", [{\"type\": \"bar\", \"x\": [10, 22, 27, 3, 18, 15, 19, 13, 29, 8, 12, 5, 4, 7, 11, 9, 2, 1, 6, 30, 14, 16, 17, 20, 21, 23, 24, 25, 26, 28, 0], \"y\": [13, 4, 3, 3, 3, 2, 2, 2, 2, 2, 2, 2, 2, 1, 1, 1, 1, 1, 1, 1, 1, 1, 1, 1, 1, 1, 1, 1, 1, 1, 1], \"hoverinfo\": \"text\", \"marker\": {\"color\": \"rgba(177, 14, 22, 0.5)\", \"line\": {\"color\": \"rgb(0,0,0)\", \"width\": 1.5}}}], {\"title\": \"categories\"}, {\"showLink\": true, \"linkText\": \"Export to plot.ly\"})});</script>"
      ],
      "text/vnd.plotly.v1+html": [
       "<div id=\"a81d1098-8fc3-4540-bc45-6f183ab51134\" style=\"height: 525px; width: 100%;\" class=\"plotly-graph-div\"></div><script type=\"text/javascript\">require([\"plotly\"], function(Plotly) { window.PLOTLYENV=window.PLOTLYENV || {};window.PLOTLYENV.BASE_URL=\"https://plot.ly\";Plotly.newPlot(\"a81d1098-8fc3-4540-bc45-6f183ab51134\", [{\"type\": \"bar\", \"x\": [10, 22, 27, 3, 18, 15, 19, 13, 29, 8, 12, 5, 4, 7, 11, 9, 2, 1, 6, 30, 14, 16, 17, 20, 21, 23, 24, 25, 26, 28, 0], \"y\": [13, 4, 3, 3, 3, 2, 2, 2, 2, 2, 2, 2, 2, 1, 1, 1, 1, 1, 1, 1, 1, 1, 1, 1, 1, 1, 1, 1, 1, 1, 1], \"hoverinfo\": \"text\", \"marker\": {\"color\": \"rgba(177, 14, 22, 0.5)\", \"line\": {\"color\": \"rgb(0,0,0)\", \"width\": 1.5}}}], {\"title\": \"categories\"}, {\"showLink\": true, \"linkText\": \"Export to plot.ly\"})});</script>"
      ]
     },
     "metadata": {},
     "output_type": "display_data"
    }
   ],
   "source": [
    "import plotly.graph_objs as go\n",
    "from plotly.offline import init_notebook_mode, iplot\n",
    "init_notebook_mode(connected=True)\n",
    "data =shops['city_code'].value_counts()\n",
    "print(data)\n",
    "data = [go.Bar(\n",
    "            x=data.index,\n",
    "            y=data.values,\n",
    "            hoverinfo = 'text',\n",
    "            marker = dict(color = 'rgba(177, 14, 22, 0.5)',\n",
    "                             line=dict(color='rgb(0,0,0)',width=1.5)),\n",
    "    )]\n",
    "\n",
    "layout = dict(\n",
    "    title = 'categories',\n",
    ")\n",
    "fig = go.Figure(data=data, layout=layout)\n",
    "iplot(fig)"
   ]
  },
  {
   "cell_type": "code",
   "execution_count": 176,
   "metadata": {
    "collapsed": true
   },
   "outputs": [],
   "source": [
    "shops.to_csv('journey/data/new_shops.csv',index=False)"
   ]
  },
  {
   "cell_type": "markdown",
   "metadata": {},
   "source": [
    "### it looks like we have outliers on item_cnt_day and item_price"
   ]
  }
 ],
 "metadata": {
  "kernelspec": {
   "display_name": "Python 3",
   "language": "python",
   "name": "python3"
  },
  "language_info": {
   "codemirror_mode": {
    "name": "ipython",
    "version": 3
   },
   "file_extension": ".py",
   "mimetype": "text/x-python",
   "name": "python",
   "nbconvert_exporter": "python",
   "pygments_lexer": "ipython3",
   "version": "3.6.3"
  }
 },
 "nbformat": 4,
 "nbformat_minor": 2
}
