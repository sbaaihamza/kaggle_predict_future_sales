{
 "cells": [
  {
   "cell_type": "code",
   "execution_count": 17,
   "metadata": {
    "collapsed": true
   },
   "outputs": [],
   "source": [
    "import numpy as np\n",
    "import pandas as pd \n",
    "import sklearn\n",
    "import scipy.sparse \n",
    "import seaborn as sns\n",
    "import matplotlib.pyplot as plt\n",
    "import pickle\n",
    "\n",
    "%matplotlib inline \n",
    "\n",
    "pd.set_option('display.max_rows', 600)\n",
    "pd.set_option('display.max_columns', 50)\n",
    "sns.set(rc={'figure.figsize':(20, 10)})"
   ]
  },
  {
   "cell_type": "code",
   "execution_count": 18,
   "metadata": {
    "collapsed": true
   },
   "outputs": [],
   "source": [
    "import statsmodels.api as sm \n",
    "import itertools\n",
    "from scipy import stats\n",
    "sns.set()\n",
    "#%pylab inline"
   ]
  },
  {
   "cell_type": "code",
   "execution_count": 19,
   "metadata": {
    "collapsed": true
   },
   "outputs": [],
   "source": [
    "sales = pd.read_csv('journey/data/sales_train.csv')\n",
    "sales=sales.reset_index()\n",
    "shops = pd.read_csv('journey/data/shops.csv')\n",
    "items = pd.read_csv('journey/data/items.csv')\n",
    "item_cats = pd.read_csv('journey/data/item_categories.csv')\n",
    "test = pd.read_csv('journey/data/test.csv')"
   ]
  },
  {
   "cell_type": "code",
   "execution_count": 20,
   "metadata": {},
   "outputs": [
    {
     "data": {
      "text/html": [
       "<div>\n",
       "<style scoped>\n",
       "    .dataframe tbody tr th:only-of-type {\n",
       "        vertical-align: middle;\n",
       "    }\n",
       "\n",
       "    .dataframe tbody tr th {\n",
       "        vertical-align: top;\n",
       "    }\n",
       "\n",
       "    .dataframe thead th {\n",
       "        text-align: right;\n",
       "    }\n",
       "</style>\n",
       "<table border=\"1\" class=\"dataframe\">\n",
       "  <thead>\n",
       "    <tr style=\"text-align: right;\">\n",
       "      <th></th>\n",
       "      <th>item_category_id</th>\n",
       "      <th>category_name_0</th>\n",
       "      <th>category_name_1</th>\n",
       "      <th>category_name_2</th>\n",
       "      <th>category_name_3</th>\n",
       "      <th>category_name_4</th>\n",
       "      <th>category_name_5</th>\n",
       "      <th>category_name_6</th>\n",
       "      <th>category_name_7</th>\n",
       "    </tr>\n",
       "  </thead>\n",
       "  <tbody>\n",
       "    <tr>\n",
       "      <th>0</th>\n",
       "      <td>0</td>\n",
       "      <td>0.0</td>\n",
       "      <td>-1.0</td>\n",
       "      <td>0.0</td>\n",
       "      <td>0.0</td>\n",
       "      <td>0.0</td>\n",
       "      <td>-1.0</td>\n",
       "      <td>0.0</td>\n",
       "      <td>0.0</td>\n",
       "    </tr>\n",
       "    <tr>\n",
       "      <th>1</th>\n",
       "      <td>1</td>\n",
       "      <td>-2.0</td>\n",
       "      <td>0.0</td>\n",
       "      <td>-3.0</td>\n",
       "      <td>0.0</td>\n",
       "      <td>0.0</td>\n",
       "      <td>0.0</td>\n",
       "      <td>1.0</td>\n",
       "      <td>-2.0</td>\n",
       "    </tr>\n",
       "    <tr>\n",
       "      <th>2</th>\n",
       "      <td>2</td>\n",
       "      <td>-2.0</td>\n",
       "      <td>0.0</td>\n",
       "      <td>-3.0</td>\n",
       "      <td>0.0</td>\n",
       "      <td>0.0</td>\n",
       "      <td>0.0</td>\n",
       "      <td>1.0</td>\n",
       "      <td>-2.0</td>\n",
       "    </tr>\n",
       "    <tr>\n",
       "      <th>3</th>\n",
       "      <td>3</td>\n",
       "      <td>-2.0</td>\n",
       "      <td>0.0</td>\n",
       "      <td>-3.0</td>\n",
       "      <td>0.0</td>\n",
       "      <td>0.0</td>\n",
       "      <td>0.0</td>\n",
       "      <td>1.0</td>\n",
       "      <td>-2.0</td>\n",
       "    </tr>\n",
       "    <tr>\n",
       "      <th>4</th>\n",
       "      <td>4</td>\n",
       "      <td>-2.0</td>\n",
       "      <td>0.0</td>\n",
       "      <td>-3.0</td>\n",
       "      <td>0.0</td>\n",
       "      <td>0.0</td>\n",
       "      <td>0.0</td>\n",
       "      <td>1.0</td>\n",
       "      <td>-2.0</td>\n",
       "    </tr>\n",
       "  </tbody>\n",
       "</table>\n",
       "</div>"
      ],
      "text/plain": [
       "   item_category_id  category_name_0  category_name_1  category_name_2  \\\n",
       "0                 0              0.0             -1.0              0.0   \n",
       "1                 1             -2.0              0.0             -3.0   \n",
       "2                 2             -2.0              0.0             -3.0   \n",
       "3                 3             -2.0              0.0             -3.0   \n",
       "4                 4             -2.0              0.0             -3.0   \n",
       "\n",
       "   category_name_3  category_name_4  category_name_5  category_name_6  \\\n",
       "0              0.0              0.0             -1.0              0.0   \n",
       "1              0.0              0.0              0.0              1.0   \n",
       "2              0.0              0.0              0.0              1.0   \n",
       "3              0.0              0.0              0.0              1.0   \n",
       "4              0.0              0.0              0.0              1.0   \n",
       "\n",
       "   category_name_7  \n",
       "0              0.0  \n",
       "1             -2.0  \n",
       "2             -2.0  \n",
       "3             -2.0  \n",
       "4             -2.0  "
      ]
     },
     "execution_count": 20,
     "metadata": {},
     "output_type": "execute_result"
    }
   ],
   "source": [
    "def cat_item_trans(df):\n",
    "    l=[i.split(\"-\")[0] for i in list(df.item_category_name) ] \n",
    "    l=[i.split(\" \")[0] for i in l ] \n",
    "\n",
    "    df['cats'] = l\n",
    "    from sklearn.feature_extraction import FeatureHasher\n",
    "    fh = FeatureHasher(n_features=8, input_type='string')\n",
    "    hashed_features = fh.fit_transform(df['cats'])\n",
    "    hashed_features = hashed_features.toarray()\n",
    "    return pd.concat([df[['item_category_id']], pd.DataFrame(hashed_features,columns=[\"category_name_\"+ str(i) for i in range (8)])], axis=1)\n",
    "df=cat_item_trans(item_cats)\n",
    "df.head()"
   ]
  },
  {
   "cell_type": "code",
   "execution_count": 21,
   "metadata": {},
   "outputs": [
    {
     "data": {
      "text/html": [
       "<div>\n",
       "<style scoped>\n",
       "    .dataframe tbody tr th:only-of-type {\n",
       "        vertical-align: middle;\n",
       "    }\n",
       "\n",
       "    .dataframe tbody tr th {\n",
       "        vertical-align: top;\n",
       "    }\n",
       "\n",
       "    .dataframe thead th {\n",
       "        text-align: right;\n",
       "    }\n",
       "</style>\n",
       "<table border=\"1\" class=\"dataframe\">\n",
       "  <thead>\n",
       "    <tr style=\"text-align: right;\">\n",
       "      <th></th>\n",
       "      <th>item_name</th>\n",
       "      <th>item_id</th>\n",
       "      <th>item_category_id</th>\n",
       "      <th>category_name_0</th>\n",
       "      <th>category_name_1</th>\n",
       "      <th>category_name_2</th>\n",
       "      <th>category_name_3</th>\n",
       "      <th>category_name_4</th>\n",
       "      <th>category_name_5</th>\n",
       "      <th>category_name_6</th>\n",
       "      <th>category_name_7</th>\n",
       "    </tr>\n",
       "  </thead>\n",
       "  <tbody>\n",
       "    <tr>\n",
       "      <th>0</th>\n",
       "      <td>! ВО ВЛАСТИ НАВАЖДЕНИЯ (ПЛАСТ.)         D</td>\n",
       "      <td>0</td>\n",
       "      <td>40</td>\n",
       "      <td>0.0</td>\n",
       "      <td>0.0</td>\n",
       "      <td>1.0</td>\n",
       "      <td>0.0</td>\n",
       "      <td>0.0</td>\n",
       "      <td>0.0</td>\n",
       "      <td>1.0</td>\n",
       "      <td>0.0</td>\n",
       "    </tr>\n",
       "    <tr>\n",
       "      <th>1</th>\n",
       "      <td>***В ЛУЧАХ СЛАВЫ   (UNV)                    D</td>\n",
       "      <td>2</td>\n",
       "      <td>40</td>\n",
       "      <td>0.0</td>\n",
       "      <td>0.0</td>\n",
       "      <td>1.0</td>\n",
       "      <td>0.0</td>\n",
       "      <td>0.0</td>\n",
       "      <td>0.0</td>\n",
       "      <td>1.0</td>\n",
       "      <td>0.0</td>\n",
       "    </tr>\n",
       "    <tr>\n",
       "      <th>2</th>\n",
       "      <td>***ГОЛУБАЯ ВОЛНА  (Univ)                      D</td>\n",
       "      <td>3</td>\n",
       "      <td>40</td>\n",
       "      <td>0.0</td>\n",
       "      <td>0.0</td>\n",
       "      <td>1.0</td>\n",
       "      <td>0.0</td>\n",
       "      <td>0.0</td>\n",
       "      <td>0.0</td>\n",
       "      <td>1.0</td>\n",
       "      <td>0.0</td>\n",
       "    </tr>\n",
       "    <tr>\n",
       "      <th>3</th>\n",
       "      <td>***КОРОБКА (СТЕКЛО)                       D</td>\n",
       "      <td>4</td>\n",
       "      <td>40</td>\n",
       "      <td>0.0</td>\n",
       "      <td>0.0</td>\n",
       "      <td>1.0</td>\n",
       "      <td>0.0</td>\n",
       "      <td>0.0</td>\n",
       "      <td>0.0</td>\n",
       "      <td>1.0</td>\n",
       "      <td>0.0</td>\n",
       "    </tr>\n",
       "    <tr>\n",
       "      <th>4</th>\n",
       "      <td>***НОВЫЕ АМЕРИКАНСКИЕ ГРАФФИТИ  (UNI)         ...</td>\n",
       "      <td>5</td>\n",
       "      <td>40</td>\n",
       "      <td>0.0</td>\n",
       "      <td>0.0</td>\n",
       "      <td>1.0</td>\n",
       "      <td>0.0</td>\n",
       "      <td>0.0</td>\n",
       "      <td>0.0</td>\n",
       "      <td>1.0</td>\n",
       "      <td>0.0</td>\n",
       "    </tr>\n",
       "  </tbody>\n",
       "</table>\n",
       "</div>"
      ],
      "text/plain": [
       "                                           item_name  item_id  \\\n",
       "0          ! ВО ВЛАСТИ НАВАЖДЕНИЯ (ПЛАСТ.)         D        0   \n",
       "1      ***В ЛУЧАХ СЛАВЫ   (UNV)                    D        2   \n",
       "2    ***ГОЛУБАЯ ВОЛНА  (Univ)                      D        3   \n",
       "3        ***КОРОБКА (СТЕКЛО)                       D        4   \n",
       "4  ***НОВЫЕ АМЕРИКАНСКИЕ ГРАФФИТИ  (UNI)         ...        5   \n",
       "\n",
       "   item_category_id  category_name_0  category_name_1  category_name_2  \\\n",
       "0                40              0.0              0.0              1.0   \n",
       "1                40              0.0              0.0              1.0   \n",
       "2                40              0.0              0.0              1.0   \n",
       "3                40              0.0              0.0              1.0   \n",
       "4                40              0.0              0.0              1.0   \n",
       "\n",
       "   category_name_3  category_name_4  category_name_5  category_name_6  \\\n",
       "0              0.0              0.0              0.0              1.0   \n",
       "1              0.0              0.0              0.0              1.0   \n",
       "2              0.0              0.0              0.0              1.0   \n",
       "3              0.0              0.0              0.0              1.0   \n",
       "4              0.0              0.0              0.0              1.0   \n",
       "\n",
       "   category_name_7  \n",
       "0              0.0  \n",
       "1              0.0  \n",
       "2              0.0  \n",
       "3              0.0  \n",
       "4              0.0  "
      ]
     },
     "execution_count": 21,
     "metadata": {},
     "output_type": "execute_result"
    }
   ],
   "source": [
    "item_to_cat_df = items.merge(df, how=\"inner\", on=\"item_category_id\")\n",
    "item_to_cat_df.head()"
   ]
  },
  {
   "cell_type": "markdown",
   "metadata": {},
   "source": [
    "# data leakage"
   ]
  },
  {
   "cell_type": "code",
   "execution_count": 22,
   "metadata": {
    "collapsed": true
   },
   "outputs": [],
   "source": [
    "leakage=pd.merge(test,shops, how='inner', on=\"shop_id\")"
   ]
  },
  {
   "cell_type": "code",
   "execution_count": 23,
   "metadata": {},
   "outputs": [
    {
     "data": {
      "text/plain": [
       "59    5100\n",
       "16    5100\n",
       "28    5100\n",
       "26    5100\n",
       "25    5100\n",
       "24    5100\n",
       "22    5100\n",
       "21    5100\n",
       "19    5100\n",
       "18    5100\n",
       "15    5100\n",
       "58    5100\n",
       "14    5100\n",
       "12    5100\n",
       "10    5100\n",
       "7     5100\n",
       "6     5100\n",
       "5     5100\n",
       "4     5100\n",
       "3     5100\n",
       "31    5100\n",
       "34    5100\n",
       "35    5100\n",
       "36    5100\n",
       "57    5100\n",
       "56    5100\n",
       "55    5100\n",
       "53    5100\n",
       "52    5100\n",
       "50    5100\n",
       "49    5100\n",
       "48    5100\n",
       "47    5100\n",
       "46    5100\n",
       "45    5100\n",
       "44    5100\n",
       "42    5100\n",
       "41    5100\n",
       "39    5100\n",
       "38    5100\n",
       "37    5100\n",
       "2     5100\n",
       "Name: shop_id, dtype: int64"
      ]
     },
     "execution_count": 23,
     "metadata": {},
     "output_type": "execute_result"
    }
   ],
   "source": [
    "leakage[\"shop_id\"].value_counts()\n"
   ]
  },
  {
   "cell_type": "code",
   "execution_count": 24,
   "metadata": {
    "collapsed": true
   },
   "outputs": [],
   "source": [
    "l=[i for i in range(60) if i not in leakage[\"shop_id\"].values]       "
   ]
  },
  {
   "cell_type": "code",
   "execution_count": 25,
   "metadata": {},
   "outputs": [
    {
     "data": {
      "text/plain": [
       "[0, 1, 8, 9, 11, 13, 17, 20, 23, 27, 29, 30, 32, 33, 40, 43, 51, 54]"
      ]
     },
     "execution_count": 25,
     "metadata": {},
     "output_type": "execute_result"
    }
   ],
   "source": [
    "l"
   ]
  },
  {
   "cell_type": "markdown",
   "metadata": {},
   "source": [
    "Several shops are duplicates of each other (according to its name). Fix train set"
   ]
  },
  {
   "cell_type": "code",
   "execution_count": 26,
   "metadata": {
    "collapsed": true
   },
   "outputs": [],
   "source": [
    "# Якутск Орджоникидзе, 56\n",
    "sales.loc[sales.shop_id == 0, 'shop_id'] = 57\n",
    "# Якутск ТЦ \"Центральный\"\n",
    "sales.loc[sales.shop_id == 1, 'shop_id'] = 58\n",
    "# Жуковский ул. Чкалова 39м²\n",
    "sales.loc[sales.shop_id == 11, 'shop_id'] = 10\n"
   ]
  },
  {
   "cell_type": "code",
   "execution_count": 27,
   "metadata": {
    "collapsed": true
   },
   "outputs": [],
   "source": [
    "l=[8,9, 13, 17, 20, 23, 27, 29, 30, 32, 33, 40, 43, 51, 54]"
   ]
  },
  {
   "cell_type": "code",
   "execution_count": 28,
   "metadata": {},
   "outputs": [
    {
     "data": {
      "text/plain": [
       "(363, 5100, 214200)"
      ]
     },
     "execution_count": 28,
     "metadata": {},
     "output_type": "execute_result"
    }
   ],
   "source": [
    "len(list(set(test.item_id) - set(test.item_id).intersection(set(sales.item_id)))), len(list(set(test.item_id))), len(test)"
   ]
  },
  {
   "cell_type": "code",
   "execution_count": 29,
   "metadata": {},
   "outputs": [
    {
     "data": {
      "text/plain": [
       "[[True, 8],\n",
       " [False, 9],\n",
       " [True, 13],\n",
       " [True, 17],\n",
       " [False, 20],\n",
       " [True, 23],\n",
       " [True, 27],\n",
       " [True, 29],\n",
       " [True, 30],\n",
       " [True, 32],\n",
       " [True, 33],\n",
       " [True, 40],\n",
       " [True, 43],\n",
       " [True, 51],\n",
       " [False, 54]]"
      ]
     },
     "execution_count": 29,
     "metadata": {},
     "output_type": "execute_result"
    }
   ],
   "source": [
    "no_new_item_in_test=[[list(set(test.item_id) - set(test.item_id).intersection(set(sales.item_id)))==list(set(test.item_id) - set(\n",
    "    test.item_id).intersection(set(sales[sales[\"shop_id\"]!=i].item_id))),i] for i in l]\n",
    "    \n",
    "no_new_item_in_test "
   ]
  },
  {
   "cell_type": "markdown",
   "metadata": {},
   "source": [
    "* so we should keep shop_id 9 , 20 ,54"
   ]
  },
  {
   "cell_type": "code",
   "execution_count": 30,
   "metadata": {
    "collapsed": true
   },
   "outputs": [],
   "source": [
    "to_drop=sales[sales['item_cnt_day']>200]\n",
    "drop=to_drop.item_id.value_counts()[to_drop.item_id.value_counts()<11].index\n",
    "cnt_day_to_drop=to_drop[to_drop.item_id.isin(drop)].item_cnt_day\n",
    "sales=sales[~sales.item_cnt_day.isin(cnt_day_to_drop)]#DROP THOSE ITEMS\n",
    "\n",
    "grouped_df = sales.groupby('item_id').agg({'item_price':['min','max','mean','std']})\n",
    "grouped_df.columns = ['_'.join(col).strip() for col in grouped_df.columns.values]\n",
    "grouped_df = grouped_df.reset_index()\n",
    "grouped_df=grouped_df[grouped_df[\"item_price_std\"]>2500]\n",
    "outlier_df=sales[sales['item_id'].isin(grouped_df['item_id'])]\n",
    "to_drop=outlier_df.groupby(\"item_id\")['item_price'].max()\n",
    "sales=sales[~((sales['item_id'].isin(to_drop.index)) & (sales['item_price'].isin(to_drop)))]"
   ]
  },
  {
   "cell_type": "code",
   "execution_count": 31,
   "metadata": {
    "collapsed": true
   },
   "outputs": [],
   "source": [
    "l=[8, 23, 27, 29, 32, 33, 40]\n",
    "\n",
    "#drop shop_id that do not exist in test set\n",
    "sales=sales[~sales[\"shop_id\"].isin(l)]\n",
    "\n"
   ]
  },
  {
   "cell_type": "code",
   "execution_count": 32,
   "metadata": {},
   "outputs": [
    {
     "data": {
      "text/plain": [
       "(363, 5100, 214200)"
      ]
     },
     "execution_count": 32,
     "metadata": {},
     "output_type": "execute_result"
    }
   ],
   "source": [
    "len(list(set(test.item_id) - set(test.item_id).intersection(set(sales.item_id)))), len(list(set(test.item_id))), len(test)"
   ]
  },
  {
   "cell_type": "code",
   "execution_count": 33,
   "metadata": {},
   "outputs": [
    {
     "data": {
      "text/plain": [
       "(2753515, 7)"
      ]
     },
     "execution_count": 33,
     "metadata": {},
     "output_type": "execute_result"
    }
   ],
   "source": [
    "sales.shape"
   ]
  },
  {
   "cell_type": "code",
   "execution_count": 34,
   "metadata": {
    "collapsed": true
   },
   "outputs": [],
   "source": [
    "#transform test data \n",
    "#test=pd.merge(test,df, how='inner', on=\"shop_id\")\n",
    "#test= pd.merge(test,item_to_cat_df, how='inner', on=\"item_id\")"
   ]
  },
  {
   "cell_type": "code",
   "execution_count": 35,
   "metadata": {
    "collapsed": true
   },
   "outputs": [],
   "source": [
    "#test.columns"
   ]
  },
  {
   "cell_type": "code",
   "execution_count": 36,
   "metadata": {
    "collapsed": true
   },
   "outputs": [],
   "source": [
    "#let drop ID, item_name,item_category_id from test data\n",
    "#test=test.drop(columns=test.columns[[0,9,10]])"
   ]
  },
  {
   "cell_type": "code",
   "execution_count": 37,
   "metadata": {
    "collapsed": true
   },
   "outputs": [],
   "source": [
    "import gc\n",
    "from tqdm import tqdm_notebook\n",
    "def downcast_dtypes(df):\n",
    "    \n",
    "    '''\n",
    "        Changes column types in the dataframe: \n",
    "                \n",
    "                `float64` type to `float32`\n",
    "                `int64`   type to `int32`\n",
    "    '''\n",
    "    \n",
    "    # Select columns to downcast\n",
    "    float_cols = [c for c in df if df[c].dtype == \"float64\"]\n",
    "    int_cols =   [c for c in df if df[c].dtype == \"int64\"]\n",
    "    \n",
    "    for i in float_cols:\n",
    "        df[i] = df[i].astype(np.float32)\n",
    "    for j in int_cols  : \n",
    "        df[j]   = df[j].astype(np.int32)\n",
    "    \n",
    "    return df\n",
    "\n",
    "\n",
    "def rmse(*args):\n",
    "    \n",
    "    \"\"\" Funcion that calculates the root mean squared error\"\"\"\n",
    "    return np.sqrt(mean_squared_error(*args))\n",
    "\n",
    "def get_feature_matrix(sales, test, items, list_lags, date_block_threshold):\n",
    "    \n",
    "  \n",
    "    # Create \"grid\" with columns\n",
    "    index_cols = ['shop_id', 'item_id', 'date_block_num']\n",
    "\n",
    "    # For every month we create a grid from all shops/items combinations from that month\n",
    "    grid = [] \n",
    "    new_items = pd.DataFrame()\n",
    "    cur_items_aux=np.array([])\n",
    "    for block_num in sales['date_block_num'].unique():\n",
    "        cur_shops = sales.loc[sales['date_block_num'] == block_num, 'shop_id'].unique()\n",
    "        cur_items = sales.loc[sales['date_block_num'] == block_num, 'item_id'].append(pd.Series(cur_items_aux)).unique()\n",
    "        cur_items_aux = cur_items[pd.Series(cur_items).isin(test.item_id)]\n",
    "        grid.append(np.array(list(itertools.product(*[cur_shops, cur_items, [block_num]])),dtype='int32'))\n",
    "\n",
    "    # Turn the grid into a dataframe\n",
    "    grid = pd.DataFrame(np.vstack(grid), columns = index_cols,dtype=np.int32)\n",
    "\n",
    "    # Add submission shop_id-item_id in order to test predictions\n",
    "    test['date_block_num'] = 34\n",
    "    grid = grid.append(test[['shop_id', 'item_id', 'date_block_num']])\n",
    "\n",
    "    # Groupby data to get shop-item-month aggregates\n",
    "    gb = sales.groupby(index_cols,as_index=False).agg({'item_cnt_day':{'target':'sum','target_mean':np.mean}})\n",
    "    # Fix column names\n",
    "    gb.columns = [col[0] if col[-1]=='' else col[-1] for col in gb.columns.values] \n",
    "    # Join it to the grid\n",
    "    all_data = pd.merge(grid, gb, how='left', on=index_cols).fillna(0)\n",
    "\n",
    "    # Same as above but with shop-month aggregates\n",
    "    gb = sales.groupby(['shop_id', 'date_block_num'],as_index=False).agg({'item_cnt_day':{'shop__target_mean':np.mean}})\n",
    "    gb.columns = [col[0] if col[-1]=='' else col[-1] for col in gb.columns.values]\n",
    "    all_data = pd.merge(all_data, gb, how='left', on=['shop_id', 'date_block_num']).fillna(0)\n",
    "\n",
    "#----------------------------------------------------------------------------------------------------------------------------    \n",
    "    item_category_mapping = items[['item_id','item_category_id']].drop_duplicates()\n",
    "    sales= pd.merge(sales, item_category_mapping, how='left', on='item_id')\n",
    "    all_data = pd.merge(all_data, item_category_mapping, how='left', on='item_id')\n",
    "    all_data = downcast_dtypes(all_data)    \n",
    "    \n",
    "    \n",
    "    # Same as above but with item_category-month aggregates\n",
    "    gb = sales.groupby(['item_category_id', 'date_block_num'],as_index=False).agg({'item_cnt_day':{'item__target_mean':np.mean}})\n",
    "    gb.columns = [col[0] if col[-1] == '' else col[-1] for col in gb.columns.values]\n",
    "    all_data = pd.merge(all_data, gb, how='left', on=['item_category_id', 'date_block_num']).fillna(0)\n",
    "    \n",
    "    gb = sales.groupby(['item_id', 'date_block_num'],as_index=False).agg({'item_cnt_day':{'item_mean':np.mean}})\n",
    "    gb.columns = [col[0] if col[-1] == '' else col[-1] for col in gb.columns.values]\n",
    "    all_data = pd.merge(all_data, gb, how='left', on=['item_id', 'date_block_num']).fillna(0)\n",
    "\n",
    "    # Downcast dtypes from 64 to 32 bit to save memory\n",
    "    all_data = downcast_dtypes(all_data)\n",
    "    del grid, gb \n",
    "    gc.collect()\n",
    "    index_cols=index_cols+['item_category_id']\n",
    "    # List of columns that we will use to create lags\n",
    "    cols_to_rename = list(all_data.columns.difference(index_cols)) \n",
    "\n",
    "    shift_range = list_lags\n",
    "\n",
    "    for month_shift in tqdm_notebook(shift_range):\n",
    "        train_shift = all_data[index_cols + cols_to_rename].copy()\n",
    "    \n",
    "        train_shift['date_block_num'] = train_shift['date_block_num'] + month_shift\n",
    "    \n",
    "        foo = lambda x: '{}_lag_{}'.format(x, month_shift) if x in cols_to_rename else x\n",
    "        train_shift = train_shift.rename(columns=foo)\n",
    "\n",
    "        all_data = pd.merge(all_data, train_shift, on=index_cols, how='left').fillna(0)\n",
    "\n",
    "    del train_shift\n",
    "\n",
    "    # Don't use old data from year 2013\n",
    "    all_data = all_data[all_data['date_block_num'] >= date_block_threshold] \n",
    "\n",
    "    # List of all lagged features\n",
    "    fit_cols = [col for col in all_data.columns if col[-1] in [str(item) for item in shift_range]] \n",
    "    # We will drop these at fitting stage\n",
    "    to_drop_cols = list(set(list(all_data.columns)) - (set(fit_cols)|set(index_cols))) + ['date_block_num'] \n",
    "\n",
    "    # Category for each item\n",
    "\n",
    "    gc.collect();\n",
    "    \n",
    "    return [all_data, to_drop_cols]\n",
    "\n",
    "\n",
    "def clip20(x):\n",
    "    return np.clip(x, 0, 20)\n",
    "\n",
    "def clip40(x):\n",
    "    return np.clip(x, 0, 20)"
   ]
  },
  {
   "cell_type": "code",
   "execution_count": 38,
   "metadata": {
    "scrolled": true
   },
   "outputs": [
    {
     "name": "stderr",
     "output_type": "stream",
     "text": [
      "C:\\Users\\Hamza SBAAI\\Anaconda3\\lib\\site-packages\\pandas\\core\\groupby\\groupby.py:4656: FutureWarning: using a dict with renaming is deprecated and will be removed in a future version\n",
      "  return super(DataFrameGroupBy, self).aggregate(arg, *args, **kwargs)\n"
     ]
    },
    {
     "data": {
      "application/vnd.jupyter.widget-view+json": {
       "model_id": "7e0a52325df34b00b35c8da6cffb29c9",
       "version_major": 2,
       "version_minor": 0
      },
      "text/plain": [
       "A Jupyter Widget"
      ]
     },
     "metadata": {},
     "output_type": "display_data"
    },
    {
     "name": "stdout",
     "output_type": "stream",
     "text": [
      "\n"
     ]
    }
   ],
   "source": [
    "list_lags = [1, 2, 3,6,12]\n",
    "date_block_threshold = 12\n",
    "[all_data, to_drop_cols]  = get_feature_matrix(sales, test, items, list_lags, date_block_threshold)"
   ]
  },
  {
   "cell_type": "code",
   "execution_count": 39,
   "metadata": {
    "collapsed": true
   },
   "outputs": [],
   "source": [
    "all_data = downcast_dtypes(all_data)"
   ]
  },
  {
   "cell_type": "code",
   "execution_count": 40,
   "metadata": {},
   "outputs": [
    {
     "data": {
      "text/plain": [
       "(6738186, 34)"
      ]
     },
     "execution_count": 40,
     "metadata": {},
     "output_type": "execute_result"
    }
   ],
   "source": [
    "all_data.shape"
   ]
  },
  {
   "cell_type": "markdown",
   "metadata": {
    "collapsed": true
   },
   "source": [
    "mean_enc_item_cat = pd.DataFrame(all_data.groupby(['shop_id', \n",
    "                                                    'item_category_id']).target.agg(['mean', 'var']).reset_index())\n",
    "mean_enc_item_cat.columns = ['shop_id', 'item_category_id', 'mean_enc_cat_id', 'var_enc_cat_id']\n",
    "all_data = pd.merge(all_data, mean_enc_item_cat, how='left', on=['shop_id', 'item_category_id'])\n",
    "del mean_enc_item_cat\n",
    "all_data = downcast_dtypes(all_data)"
   ]
  },
  {
   "cell_type": "code",
   "execution_count": 41,
   "metadata": {},
   "outputs": [
    {
     "data": {
      "text/html": [
       "<div>\n",
       "<style scoped>\n",
       "    .dataframe tbody tr th:only-of-type {\n",
       "        vertical-align: middle;\n",
       "    }\n",
       "\n",
       "    .dataframe tbody tr th {\n",
       "        vertical-align: top;\n",
       "    }\n",
       "\n",
       "    .dataframe thead th {\n",
       "        text-align: right;\n",
       "    }\n",
       "</style>\n",
       "<table border=\"1\" class=\"dataframe\">\n",
       "  <thead>\n",
       "    <tr style=\"text-align: right;\">\n",
       "      <th></th>\n",
       "      <th>shop_id</th>\n",
       "      <th>item_id</th>\n",
       "      <th>date_block_num</th>\n",
       "      <th>target</th>\n",
       "      <th>target_mean</th>\n",
       "      <th>shop__target_mean</th>\n",
       "      <th>item_category_id</th>\n",
       "      <th>item__target_mean</th>\n",
       "      <th>item_mean</th>\n",
       "      <th>item__target_mean_lag_1</th>\n",
       "      <th>item_mean_lag_1</th>\n",
       "      <th>shop__target_mean_lag_1</th>\n",
       "      <th>target_lag_1</th>\n",
       "      <th>target_mean_lag_1</th>\n",
       "      <th>item__target_mean_lag_2</th>\n",
       "      <th>item_mean_lag_2</th>\n",
       "      <th>shop__target_mean_lag_2</th>\n",
       "      <th>target_lag_2</th>\n",
       "      <th>target_mean_lag_2</th>\n",
       "      <th>item__target_mean_lag_3</th>\n",
       "      <th>item_mean_lag_3</th>\n",
       "      <th>shop__target_mean_lag_3</th>\n",
       "      <th>target_lag_3</th>\n",
       "      <th>target_mean_lag_3</th>\n",
       "      <th>item__target_mean_lag_6</th>\n",
       "      <th>item_mean_lag_6</th>\n",
       "      <th>shop__target_mean_lag_6</th>\n",
       "      <th>target_lag_6</th>\n",
       "      <th>target_mean_lag_6</th>\n",
       "      <th>item__target_mean_lag_12</th>\n",
       "      <th>item_mean_lag_12</th>\n",
       "      <th>shop__target_mean_lag_12</th>\n",
       "      <th>target_lag_12</th>\n",
       "      <th>target_mean_lag_12</th>\n",
       "    </tr>\n",
       "  </thead>\n",
       "  <tbody>\n",
       "    <tr>\n",
       "      <th>10934625</th>\n",
       "      <td>45</td>\n",
       "      <td>18454</td>\n",
       "      <td>34</td>\n",
       "      <td>0.0</td>\n",
       "      <td>0.0</td>\n",
       "      <td>0.0</td>\n",
       "      <td>55</td>\n",
       "      <td>0.0</td>\n",
       "      <td>0.0</td>\n",
       "      <td>1.022715</td>\n",
       "      <td>1.0</td>\n",
       "      <td>1.125</td>\n",
       "      <td>1.0</td>\n",
       "      <td>1.0</td>\n",
       "      <td>1.014663</td>\n",
       "      <td>1.00</td>\n",
       "      <td>1.141361</td>\n",
       "      <td>0.0</td>\n",
       "      <td>0.0</td>\n",
       "      <td>1.009725</td>\n",
       "      <td>1.0</td>\n",
       "      <td>1.085627</td>\n",
       "      <td>0.0</td>\n",
       "      <td>0.0</td>\n",
       "      <td>1.017475</td>\n",
       "      <td>1.0</td>\n",
       "      <td>1.158055</td>\n",
       "      <td>0.0</td>\n",
       "      <td>0.0</td>\n",
       "      <td>0.000000</td>\n",
       "      <td>0.0</td>\n",
       "      <td>0.000000</td>\n",
       "      <td>0.0</td>\n",
       "      <td>0.0</td>\n",
       "    </tr>\n",
       "    <tr>\n",
       "      <th>10934626</th>\n",
       "      <td>45</td>\n",
       "      <td>16188</td>\n",
       "      <td>34</td>\n",
       "      <td>0.0</td>\n",
       "      <td>0.0</td>\n",
       "      <td>0.0</td>\n",
       "      <td>64</td>\n",
       "      <td>0.0</td>\n",
       "      <td>0.0</td>\n",
       "      <td>1.012806</td>\n",
       "      <td>1.0</td>\n",
       "      <td>1.125</td>\n",
       "      <td>0.0</td>\n",
       "      <td>0.0</td>\n",
       "      <td>1.011364</td>\n",
       "      <td>1.00</td>\n",
       "      <td>1.141361</td>\n",
       "      <td>0.0</td>\n",
       "      <td>0.0</td>\n",
       "      <td>0.000000</td>\n",
       "      <td>0.0</td>\n",
       "      <td>0.000000</td>\n",
       "      <td>0.0</td>\n",
       "      <td>0.0</td>\n",
       "      <td>0.000000</td>\n",
       "      <td>0.0</td>\n",
       "      <td>0.000000</td>\n",
       "      <td>0.0</td>\n",
       "      <td>0.0</td>\n",
       "      <td>0.000000</td>\n",
       "      <td>0.0</td>\n",
       "      <td>0.000000</td>\n",
       "      <td>0.0</td>\n",
       "      <td>0.0</td>\n",
       "    </tr>\n",
       "    <tr>\n",
       "      <th>10934627</th>\n",
       "      <td>45</td>\n",
       "      <td>15757</td>\n",
       "      <td>34</td>\n",
       "      <td>0.0</td>\n",
       "      <td>0.0</td>\n",
       "      <td>0.0</td>\n",
       "      <td>55</td>\n",
       "      <td>0.0</td>\n",
       "      <td>0.0</td>\n",
       "      <td>1.022715</td>\n",
       "      <td>1.0</td>\n",
       "      <td>1.125</td>\n",
       "      <td>0.0</td>\n",
       "      <td>0.0</td>\n",
       "      <td>1.014663</td>\n",
       "      <td>1.00</td>\n",
       "      <td>1.141361</td>\n",
       "      <td>0.0</td>\n",
       "      <td>0.0</td>\n",
       "      <td>1.009725</td>\n",
       "      <td>1.0</td>\n",
       "      <td>1.085627</td>\n",
       "      <td>0.0</td>\n",
       "      <td>0.0</td>\n",
       "      <td>1.017475</td>\n",
       "      <td>1.0</td>\n",
       "      <td>1.158055</td>\n",
       "      <td>0.0</td>\n",
       "      <td>0.0</td>\n",
       "      <td>1.041970</td>\n",
       "      <td>1.0</td>\n",
       "      <td>1.268763</td>\n",
       "      <td>0.0</td>\n",
       "      <td>0.0</td>\n",
       "    </tr>\n",
       "    <tr>\n",
       "      <th>10934628</th>\n",
       "      <td>45</td>\n",
       "      <td>19648</td>\n",
       "      <td>34</td>\n",
       "      <td>0.0</td>\n",
       "      <td>0.0</td>\n",
       "      <td>0.0</td>\n",
       "      <td>40</td>\n",
       "      <td>0.0</td>\n",
       "      <td>0.0</td>\n",
       "      <td>1.055960</td>\n",
       "      <td>1.0</td>\n",
       "      <td>1.125</td>\n",
       "      <td>0.0</td>\n",
       "      <td>0.0</td>\n",
       "      <td>1.045658</td>\n",
       "      <td>1.00</td>\n",
       "      <td>1.141361</td>\n",
       "      <td>0.0</td>\n",
       "      <td>0.0</td>\n",
       "      <td>1.042110</td>\n",
       "      <td>1.0</td>\n",
       "      <td>1.085627</td>\n",
       "      <td>0.0</td>\n",
       "      <td>0.0</td>\n",
       "      <td>1.072826</td>\n",
       "      <td>1.0</td>\n",
       "      <td>1.158055</td>\n",
       "      <td>0.0</td>\n",
       "      <td>0.0</td>\n",
       "      <td>0.000000</td>\n",
       "      <td>0.0</td>\n",
       "      <td>0.000000</td>\n",
       "      <td>0.0</td>\n",
       "      <td>0.0</td>\n",
       "    </tr>\n",
       "    <tr>\n",
       "      <th>10934629</th>\n",
       "      <td>45</td>\n",
       "      <td>969</td>\n",
       "      <td>34</td>\n",
       "      <td>0.0</td>\n",
       "      <td>0.0</td>\n",
       "      <td>0.0</td>\n",
       "      <td>37</td>\n",
       "      <td>0.0</td>\n",
       "      <td>0.0</td>\n",
       "      <td>1.105034</td>\n",
       "      <td>1.0</td>\n",
       "      <td>1.125</td>\n",
       "      <td>0.0</td>\n",
       "      <td>0.0</td>\n",
       "      <td>1.063701</td>\n",
       "      <td>1.25</td>\n",
       "      <td>1.141361</td>\n",
       "      <td>0.0</td>\n",
       "      <td>0.0</td>\n",
       "      <td>1.056755</td>\n",
       "      <td>1.0</td>\n",
       "      <td>1.085627</td>\n",
       "      <td>0.0</td>\n",
       "      <td>0.0</td>\n",
       "      <td>1.039249</td>\n",
       "      <td>1.0</td>\n",
       "      <td>1.158055</td>\n",
       "      <td>0.0</td>\n",
       "      <td>0.0</td>\n",
       "      <td>1.076531</td>\n",
       "      <td>1.0</td>\n",
       "      <td>1.268763</td>\n",
       "      <td>0.0</td>\n",
       "      <td>0.0</td>\n",
       "    </tr>\n",
       "  </tbody>\n",
       "</table>\n",
       "</div>"
      ],
      "text/plain": [
       "          shop_id  item_id  date_block_num  target  target_mean  \\\n",
       "10934625       45    18454              34     0.0          0.0   \n",
       "10934626       45    16188              34     0.0          0.0   \n",
       "10934627       45    15757              34     0.0          0.0   \n",
       "10934628       45    19648              34     0.0          0.0   \n",
       "10934629       45      969              34     0.0          0.0   \n",
       "\n",
       "          shop__target_mean  item_category_id  item__target_mean  item_mean  \\\n",
       "10934625                0.0                55                0.0        0.0   \n",
       "10934626                0.0                64                0.0        0.0   \n",
       "10934627                0.0                55                0.0        0.0   \n",
       "10934628                0.0                40                0.0        0.0   \n",
       "10934629                0.0                37                0.0        0.0   \n",
       "\n",
       "          item__target_mean_lag_1  item_mean_lag_1  shop__target_mean_lag_1  \\\n",
       "10934625                 1.022715              1.0                    1.125   \n",
       "10934626                 1.012806              1.0                    1.125   \n",
       "10934627                 1.022715              1.0                    1.125   \n",
       "10934628                 1.055960              1.0                    1.125   \n",
       "10934629                 1.105034              1.0                    1.125   \n",
       "\n",
       "          target_lag_1  target_mean_lag_1  item__target_mean_lag_2  \\\n",
       "10934625           1.0                1.0                 1.014663   \n",
       "10934626           0.0                0.0                 1.011364   \n",
       "10934627           0.0                0.0                 1.014663   \n",
       "10934628           0.0                0.0                 1.045658   \n",
       "10934629           0.0                0.0                 1.063701   \n",
       "\n",
       "          item_mean_lag_2  shop__target_mean_lag_2  target_lag_2  \\\n",
       "10934625             1.00                 1.141361           0.0   \n",
       "10934626             1.00                 1.141361           0.0   \n",
       "10934627             1.00                 1.141361           0.0   \n",
       "10934628             1.00                 1.141361           0.0   \n",
       "10934629             1.25                 1.141361           0.0   \n",
       "\n",
       "          target_mean_lag_2  item__target_mean_lag_3  item_mean_lag_3  \\\n",
       "10934625                0.0                 1.009725              1.0   \n",
       "10934626                0.0                 0.000000              0.0   \n",
       "10934627                0.0                 1.009725              1.0   \n",
       "10934628                0.0                 1.042110              1.0   \n",
       "10934629                0.0                 1.056755              1.0   \n",
       "\n",
       "          shop__target_mean_lag_3  target_lag_3  target_mean_lag_3  \\\n",
       "10934625                 1.085627           0.0                0.0   \n",
       "10934626                 0.000000           0.0                0.0   \n",
       "10934627                 1.085627           0.0                0.0   \n",
       "10934628                 1.085627           0.0                0.0   \n",
       "10934629                 1.085627           0.0                0.0   \n",
       "\n",
       "          item__target_mean_lag_6  item_mean_lag_6  shop__target_mean_lag_6  \\\n",
       "10934625                 1.017475              1.0                 1.158055   \n",
       "10934626                 0.000000              0.0                 0.000000   \n",
       "10934627                 1.017475              1.0                 1.158055   \n",
       "10934628                 1.072826              1.0                 1.158055   \n",
       "10934629                 1.039249              1.0                 1.158055   \n",
       "\n",
       "          target_lag_6  target_mean_lag_6  item__target_mean_lag_12  \\\n",
       "10934625           0.0                0.0                  0.000000   \n",
       "10934626           0.0                0.0                  0.000000   \n",
       "10934627           0.0                0.0                  1.041970   \n",
       "10934628           0.0                0.0                  0.000000   \n",
       "10934629           0.0                0.0                  1.076531   \n",
       "\n",
       "          item_mean_lag_12  shop__target_mean_lag_12  target_lag_12  \\\n",
       "10934625               0.0                  0.000000            0.0   \n",
       "10934626               0.0                  0.000000            0.0   \n",
       "10934627               1.0                  1.268763            0.0   \n",
       "10934628               0.0                  0.000000            0.0   \n",
       "10934629               1.0                  1.268763            0.0   \n",
       "\n",
       "          target_mean_lag_12  \n",
       "10934625                 0.0  \n",
       "10934626                 0.0  \n",
       "10934627                 0.0  \n",
       "10934628                 0.0  \n",
       "10934629                 0.0  "
      ]
     },
     "execution_count": 41,
     "metadata": {},
     "output_type": "execute_result"
    }
   ],
   "source": [
    "all_data.tail()\n"
   ]
  },
  {
   "cell_type": "code",
   "execution_count": 42,
   "metadata": {
    "scrolled": true
   },
   "outputs": [
    {
     "data": {
      "text/plain": [
       "Index(['shop_id', 'item_id', 'date_block_num', 'target', 'target_mean',\n",
       "       'shop__target_mean', 'item_category_id', 'item__target_mean',\n",
       "       'item_mean', 'item__target_mean_lag_1', 'item_mean_lag_1',\n",
       "       'shop__target_mean_lag_1', 'target_lag_1', 'target_mean_lag_1',\n",
       "       'item__target_mean_lag_2', 'item_mean_lag_2', 'shop__target_mean_lag_2',\n",
       "       'target_lag_2', 'target_mean_lag_2', 'item__target_mean_lag_3',\n",
       "       'item_mean_lag_3', 'shop__target_mean_lag_3', 'target_lag_3',\n",
       "       'target_mean_lag_3', 'item__target_mean_lag_6', 'item_mean_lag_6',\n",
       "       'shop__target_mean_lag_6', 'target_lag_6', 'target_mean_lag_6',\n",
       "       'item__target_mean_lag_12', 'item_mean_lag_12',\n",
       "       'shop__target_mean_lag_12', 'target_lag_12', 'target_mean_lag_12'],\n",
       "      dtype='object')"
      ]
     },
     "execution_count": 42,
     "metadata": {},
     "output_type": "execute_result"
    }
   ],
   "source": [
    "all_data.columns"
   ]
  },
  {
   "cell_type": "markdown",
   "metadata": {},
   "source": [
    "### add city_code and new_item_cat"
   ]
  },
  {
   "cell_type": "code",
   "execution_count": 43,
   "metadata": {
    "collapsed": true
   },
   "outputs": [],
   "source": [
    "shops=pd.read_csv('journey/data/new_shops.csv')"
   ]
  },
  {
   "cell_type": "code",
   "execution_count": 44,
   "metadata": {
    "collapsed": true
   },
   "outputs": [],
   "source": [
    "gc.collect();"
   ]
  },
  {
   "cell_type": "code",
   "execution_count": 45,
   "metadata": {},
   "outputs": [
    {
     "data": {
      "text/plain": [
       "(6738186, 34)"
      ]
     },
     "execution_count": 45,
     "metadata": {},
     "output_type": "execute_result"
    }
   ],
   "source": [
    "all_data.shape"
   ]
  },
  {
   "cell_type": "code",
   "execution_count": 46,
   "metadata": {},
   "outputs": [
    {
     "name": "stdout",
     "output_type": "stream",
     "text": [
      "<class 'pandas.core.frame.DataFrame'>\n",
      "RangeIndex: 60 entries, 0 to 59\n",
      "Data columns (total 2 columns):\n",
      "shop_id      60 non-null int64\n",
      "city_code    60 non-null int64\n",
      "dtypes: int64(2)\n",
      "memory usage: 1.0 KB\n"
     ]
    }
   ],
   "source": [
    "shops.info()"
   ]
  },
  {
   "cell_type": "code",
   "execution_count": 47,
   "metadata": {
    "collapsed": true
   },
   "outputs": [],
   "source": [
    "all_data=all_data.merge(shops,how=\"left\",on=\"shop_id\").drop_duplicates()"
   ]
  },
  {
   "cell_type": "code",
   "execution_count": 48,
   "metadata": {
    "collapsed": true
   },
   "outputs": [],
   "source": [
    "cats=pd.read_csv('journey/data/new_cats.csv')"
   ]
  },
  {
   "cell_type": "code",
   "execution_count": 49,
   "metadata": {},
   "outputs": [
    {
     "data": {
      "text/plain": [
       "(6738186, 35)"
      ]
     },
     "execution_count": 49,
     "metadata": {},
     "output_type": "execute_result"
    }
   ],
   "source": [
    "all_data.shape"
   ]
  },
  {
   "cell_type": "code",
   "execution_count": 50,
   "metadata": {},
   "outputs": [
    {
     "name": "stdout",
     "output_type": "stream",
     "text": [
      "<class 'pandas.core.frame.DataFrame'>\n",
      "RangeIndex: 84 entries, 0 to 83\n",
      "Data columns (total 11 columns):\n",
      "item_category_name    84 non-null object\n",
      "item_category_id      84 non-null int64\n",
      "cats                  84 non-null object\n",
      "аксессуар             84 non-null int64\n",
      "игра                  84 non-null int64\n",
      "игровой               84 non-null int64\n",
      "книга                 84 non-null int64\n",
      "консоль               84 non-null int64\n",
      "подарок               84 non-null int64\n",
      "цифра                 84 non-null int64\n",
      "new_cats              84 non-null int64\n",
      "dtypes: int64(9), object(2)\n",
      "memory usage: 7.3+ KB\n"
     ]
    }
   ],
   "source": [
    "cats.info()"
   ]
  },
  {
   "cell_type": "code",
   "execution_count": 51,
   "metadata": {
    "collapsed": true
   },
   "outputs": [],
   "source": [
    "all_data=all_data.merge(cats[[\"item_category_id\",\"new_cats\"]],how=\"left\",on=\"item_category_id\").drop_duplicates()"
   ]
  },
  {
   "cell_type": "code",
   "execution_count": 52,
   "metadata": {},
   "outputs": [
    {
     "data": {
      "text/plain": [
       "(6738186, 36)"
      ]
     },
     "execution_count": 52,
     "metadata": {},
     "output_type": "execute_result"
    }
   ],
   "source": [
    "all_data.shape"
   ]
  },
  {
   "cell_type": "markdown",
   "metadata": {},
   "source": [
    "### new time features "
   ]
  },
  {
   "cell_type": "code",
   "execution_count": 53,
   "metadata": {
    "collapsed": true
   },
   "outputs": [],
   "source": [
    "sales[\"date\"]=pd.DatetimeIndex(sales.date)\n",
    "sales[\"month\"]=pd.DatetimeIndex(sales.date).month\n",
    "sales[\"year\"]=pd.DatetimeIndex(sales.date).year\n",
    "grouped_df=sales.groupby(\"item_id\").agg({'date':['min']})\n",
    "grouped_df.columns = ['_'.join(col).strip() for col in grouped_df.columns.values]\n",
    "sales = pd.merge(sales, grouped_df, on=['item_id'])\n",
    "sales[\"month_min\"]=pd.DatetimeIndex(sales.date_min).month\n",
    "sales[\"year_min\"]=pd.DatetimeIndex(sales.date_min).year\n",
    "\n"
   ]
  },
  {
   "cell_type": "code",
   "execution_count": 54,
   "metadata": {
    "collapsed": true
   },
   "outputs": [],
   "source": [
    "gp=sales[[\"year_min\",'item_id']].drop_duplicates()\n",
    "\n",
    "all_data=all_data.merge(gp, on=['item_id'],how=\"left\").fillna(2015)\n",
    "\n",
    "gp=sales[[\"month_min\",'item_id']].drop_duplicates()\n",
    "\n",
    "all_data=all_data.merge(gp, on=['item_id'],how=\"left\").fillna(11)"
   ]
  },
  {
   "cell_type": "code",
   "execution_count": 55,
   "metadata": {
    "collapsed": true
   },
   "outputs": [],
   "source": [
    "items = pd.read_csv('journey/data/items.csv')\n",
    "cats=pd.read_csv('journey/data/new_cats.csv')\n",
    "items=items.merge(cats[['item_category_id',\"new_cats\"]], how=\"left\", on=\"item_category_id\")\n",
    "sales=sales.merge(items[['item_id',\"new_cats\",\"item_category_id\"]], how=\"left\", on=\"item_id\")"
   ]
  },
  {
   "cell_type": "code",
   "execution_count": 56,
   "metadata": {},
   "outputs": [
    {
     "name": "stderr",
     "output_type": "stream",
     "text": [
      "C:\\Users\\Hamza SBAAI\\Anaconda3\\lib\\site-packages\\pandas\\core\\groupby\\groupby.py:4656: FutureWarning: using a dict with renaming is deprecated and will be removed in a future version\n",
      "  return super(DataFrameGroupBy, self).aggregate(arg, *args, **kwargs)\n"
     ]
    }
   ],
   "source": [
    "grouped_df=sales.groupby([\"year_min\",\"month_min\"]).agg({'item_cnt_day':{'mean_new':np.mean}})\n",
    "grouped_df.columns = ['_'.join(col).strip() for col in grouped_df.columns.values]\n",
    "all_data = pd.merge(all_data, grouped_df, on=[\"year_min\",\"month_min\"],how=\"left\").fillna(\n",
    "    sales[sales.year_min==2015].item_cnt_day.mean())"
   ]
  },
  {
   "cell_type": "code",
   "execution_count": 57,
   "metadata": {},
   "outputs": [
    {
     "name": "stderr",
     "output_type": "stream",
     "text": [
      "C:\\Users\\Hamza SBAAI\\Anaconda3\\lib\\site-packages\\pandas\\core\\groupby\\groupby.py:4656: FutureWarning: using a dict with renaming is deprecated and will be removed in a future version\n",
      "  return super(DataFrameGroupBy, self).aggregate(arg, *args, **kwargs)\n"
     ]
    }
   ],
   "source": [
    "grouped_df=sales.groupby([\"year_min\",\"month_min\",\"shop_id\"]).agg({'item_cnt_day':{'shop_id':np.mean}})\n",
    "grouped_df.columns = ['_'.join(col).strip() for col in grouped_df.columns.values]\n",
    "all_data = pd.merge(all_data, grouped_df, on=[\"year_min\",\"month_min\",\"shop_id\"],how=\"left\")"
   ]
  },
  {
   "cell_type": "code",
   "execution_count": 58,
   "metadata": {},
   "outputs": [
    {
     "name": "stderr",
     "output_type": "stream",
     "text": [
      "C:\\Users\\Hamza SBAAI\\Anaconda3\\lib\\site-packages\\pandas\\core\\groupby\\groupby.py:4656: FutureWarning: using a dict with renaming is deprecated and will be removed in a future version\n",
      "  return super(DataFrameGroupBy, self).aggregate(arg, *args, **kwargs)\n"
     ]
    }
   ],
   "source": [
    "grouped_df=sales.groupby([\"year_min\",\"shop_id\"]).agg({'item_cnt_day':{'year_shop_id':np.mean}})\n",
    "grouped_df.columns = ['_'.join(col).strip() for col in grouped_df.columns.values]\n",
    "all_data = pd.merge(all_data, grouped_df, on=[\"year_min\",\"shop_id\"],how=\"left\")"
   ]
  },
  {
   "cell_type": "code",
   "execution_count": 59,
   "metadata": {},
   "outputs": [
    {
     "name": "stderr",
     "output_type": "stream",
     "text": [
      "C:\\Users\\Hamza SBAAI\\Anaconda3\\lib\\site-packages\\pandas\\core\\groupby\\groupby.py:4656: FutureWarning: using a dict with renaming is deprecated and will be removed in a future version\n",
      "  return super(DataFrameGroupBy, self).aggregate(arg, *args, **kwargs)\n"
     ]
    }
   ],
   "source": [
    "grouped_df=sales.groupby([\"year_min\",\"month_min\",'item_category_id']).agg({'item_cnt_day':{'cats_id':np.mean}})\n",
    "grouped_df.columns = ['_'.join(col).strip() for col in grouped_df.columns.values]\n",
    "all_data = pd.merge(all_data, grouped_df, on=['item_category_id',\"month_min\",\"year_min\"],how=\"left\")"
   ]
  },
  {
   "cell_type": "code",
   "execution_count": 60,
   "metadata": {
    "scrolled": true
   },
   "outputs": [
    {
     "name": "stderr",
     "output_type": "stream",
     "text": [
      "C:\\Users\\Hamza SBAAI\\Anaconda3\\lib\\site-packages\\pandas\\core\\groupby\\groupby.py:4656: FutureWarning: using a dict with renaming is deprecated and will be removed in a future version\n",
      "  return super(DataFrameGroupBy, self).aggregate(arg, *args, **kwargs)\n"
     ]
    }
   ],
   "source": [
    "grouped_df=sales.groupby([\"year_min\",'item_category_id']).agg({'item_cnt_day':{'year_cats_id':np.mean}})\n",
    "grouped_df.columns = ['_'.join(col).strip() for col in grouped_df.columns.values]\n",
    "all_data = pd.merge(all_data, grouped_df, on=['item_category_id',\"year_min\"],how=\"left\")"
   ]
  },
  {
   "cell_type": "code",
   "execution_count": 61,
   "metadata": {},
   "outputs": [
    {
     "name": "stderr",
     "output_type": "stream",
     "text": [
      "C:\\Users\\Hamza SBAAI\\Anaconda3\\lib\\site-packages\\pandas\\core\\groupby\\groupby.py:4656: FutureWarning: using a dict with renaming is deprecated and will be removed in a future version\n",
      "  return super(DataFrameGroupBy, self).aggregate(arg, *args, **kwargs)\n"
     ]
    }
   ],
   "source": [
    "grouped_df=sales[(sales.month==sales.month_min)&(sales.year==sales.year_min)].groupby([\"shop_id\"]).agg({'item_cnt_day':{'new_shop':np.mean}})\n",
    "grouped_df.columns = ['_'.join(col).strip() for col in grouped_df.columns.values]\n",
    "all_data = pd.merge(all_data, grouped_df, on=[\"shop_id\"],how=\"left\")\n",
    "\n",
    "grouped_df=sales[(sales.month==sales.month_min)&(sales.year==sales.year_min)].groupby([\"item_category_id\"]).agg({'item_cnt_day':{'new_cats':np.mean}})\n",
    "grouped_df.columns = ['_'.join(col).strip() for col in grouped_df.columns.values]\n",
    "all_data = pd.merge(all_data, grouped_df, on=['item_category_id'],how=\"left\")"
   ]
  },
  {
   "cell_type": "code",
   "execution_count": 62,
   "metadata": {
    "collapsed": true
   },
   "outputs": [],
   "source": [
    "grouped_df=sales.groupby(\"item_id\").agg({'date_block_num':['min']})\n",
    "grouped_df.columns = ['_'.join(col).strip() for col in grouped_df.columns.values]\n",
    "sales = pd.merge(sales, grouped_df, on=['item_id'])\n",
    "gp=sales[[\"date_block_num_min\",'item_id']].drop_duplicates()\n",
    "all_data=all_data.merge(gp, on=['item_id'],how=\"left\").fillna(34)"
   ]
  },
  {
   "cell_type": "code",
   "execution_count": 63,
   "metadata": {},
   "outputs": [
    {
     "name": "stderr",
     "output_type": "stream",
     "text": [
      "C:\\Users\\Hamza SBAAI\\Anaconda3\\lib\\site-packages\\pandas\\core\\groupby\\groupby.py:4656: FutureWarning: using a dict with renaming is deprecated and will be removed in a future version\n",
      "  return super(DataFrameGroupBy, self).aggregate(arg, *args, **kwargs)\n"
     ]
    }
   ],
   "source": [
    "grouped_df=sales[(sales.date_block_num==sales.date_block_num_min)].groupby([\"shop_id\"]).agg({'item_cnt_day':{'date_shop':np.mean}})\n",
    "grouped_df.columns = ['_'.join(col).strip() for col in grouped_df.columns.values]\n",
    "all_data = pd.merge(all_data, grouped_df, on=[\"shop_id\"],how=\"left\")\n",
    "\n",
    "grouped_df=sales[(sales.date_block_num==sales.date_block_num_min)].groupby([\"item_category_id\"]).agg({'item_cnt_day':{'date_cats':np.mean}})\n",
    "grouped_df.columns = ['_'.join(col).strip() for col in grouped_df.columns.values]\n",
    "all_data = pd.merge(all_data, grouped_df, on=['item_category_id'],how=\"left\")"
   ]
  },
  {
   "cell_type": "code",
   "execution_count": 64,
   "metadata": {},
   "outputs": [
    {
     "data": {
      "text/plain": [
       "(6738186, 48)"
      ]
     },
     "execution_count": 64,
     "metadata": {},
     "output_type": "execute_result"
    }
   ],
   "source": [
    "all_data.shape"
   ]
  },
  {
   "cell_type": "markdown",
   "metadata": {},
   "source": [
    "l=[]\n",
    "for i in sales.item_id.unique():\n",
    "    df=sales[sales.item_id==i][sales.date_block_num==sales[sales.item_id==i].date_block_num_min.unique()[0]]\n",
    "    l=l+[[i,df.item_cnt_day.mean()]]\n",
    "\n",
    "mean=pd.DataFrame(l,columns=['item_id', 'item_new_mean'])    \n",
    "\n",
    "all_data=all_data.merge(mean,how=\"left\",on=[\"item_id\"]).fillna(mean.item_new_mean.mean())\n",
    "\n",
    "grouped_df =sales.groupby(['item_id','date_block_num_min']).agg({'item_cnt_day':{\"new_item\":np.mean}})\n",
    "grouped_df.columns = ['_'.join(col).strip() for col in grouped_df.columns.values]\n",
    "all_data=all_data.merge(grouped_df,how=\"left\",on=[\"item_id\"]).fillna(grouped_df.item_cnt_day_new_item.mean())\n",
    "\n",
    "gp=sales.groupby([\"date_block_num_nunique\"]).agg({'item_cnt_day':{\"item_time_target\":np.mean}})\n",
    "gp.columns = [col[0] if col[-1]=='' else col[-1] for col in gp.columns.values]\n",
    "all_data = pd.merge(all_data, gp, how='left', on=[\"date_block_num_nunique\"])  \n",
    "\n",
    "gp=sales.groupby([\"shop_id\",\"date_block_num_nunique\"]).agg({'item_cnt_day':{\"item_time_shop_target\":np.mean}})\n",
    "gp.columns = [col[0] if col[-1]=='' else col[-1] for col in gp.columns.values]\n",
    "all_data = pd.merge(all_data, gp, how='left', on=['shop_id',\"date_block_num_nunique\"])  \n",
    "\n",
    "\n",
    "gp=sales.groupby([\"item_id\",\"date_block_num_min\"]).agg({'item_cnt_day':{'item_shop_time_target':np.mean}})\n",
    "gp.columns = [col[0] if col[-1]=='' else col[-1] for col in gp.columns.values]\n",
    "all_data = pd.merge(all_data, gp, how='left', on=[\"item_id\",\"date_block_num_min\"]).fillna(gp.item_shop_time_target.mean())    \n",
    "\n",
    "\n",
    "\n",
    "gp=sales.groupby([\"shop_id\",\"date_block_num_min\"]).agg({'item_cnt_day':{\"item_time_shop_target\":np.mean}})\n",
    "gp.columns = [col[0] if col[-1]=='' else col[-1] for col in gp.columns.values]\n",
    "all_data = pd.merge(all_data, gp, how='left', on=['shop_id',\"date_block_num_min\"]).fillna(gp.item_time_shop_target.mean())\n",
    "\n",
    "\n",
    "gp=sales.groupby([\"item_category_id\",\"date_block_num_nunique\"]).agg({'item_cnt_day':{'cats_mean_target':np.mean}})\n",
    "gp.columns = [col[0] if col[-1]=='' else col[-1] for col in gp.columns.values]\n",
    "all_data = pd.merge(all_data, gp, how='left', on=[\"item_category_id\",\"date_block_num_nunique\"])  \n",
    "\n",
    "\n",
    "gp=sales.groupby([\"item_category_id\",\"date_block_num_min\"]).agg({'item_cnt_day':{'cats_mean_price':np.mean}})\n",
    "gp.columns = [col[0] if col[-1]=='' else col[-1] for col in gp.columns.values]\n",
    "all_data = pd.merge(all_data, gp, how='left', on=[\"item_category_id\",\"date_block_num_min\"]).fillna(gp.cats_mean_price.mean())  \n",
    "\n",
    "all_data=downcast_dtypes(all_data)"
   ]
  },
  {
   "cell_type": "code",
   "execution_count": 65,
   "metadata": {
    "collapsed": true
   },
   "outputs": [],
   "source": [
    "#sub_data = all_data[all_data.date_block_num==34]\n",
    "#all_data = all_data[all_data.date_block_num<34]\n",
    "#sub_data.head()"
   ]
  },
  {
   "cell_type": "code",
   "execution_count": 66,
   "metadata": {},
   "outputs": [
    {
     "data": {
      "text/plain": [
       "['item_mean',\n",
       " 'target_mean',\n",
       " 'shop__target_mean',\n",
       " 'target',\n",
       " 'item__target_mean',\n",
       " 'date_block_num']"
      ]
     },
     "execution_count": 66,
     "metadata": {},
     "output_type": "execute_result"
    }
   ],
   "source": [
    "to_drop_cols"
   ]
  },
  {
   "cell_type": "code",
   "execution_count": 67,
   "metadata": {
    "collapsed": true
   },
   "outputs": [],
   "source": [
    "#all_data.to_pickle('journey/data/new_train2.pickle')\n",
    "#sub_data.to_pickle('journey/data/sub_data2.pickle')"
   ]
  },
  {
   "cell_type": "code",
   "execution_count": 68,
   "metadata": {
    "collapsed": true
   },
   "outputs": [],
   "source": [
    "#sales[\"date\"]=pd.DatetimeIndex(sales.date)\n",
    "#sales[\"month\"]=pd.DatetimeIndex(sales.date).month\n",
    "#sales[\"year\"]=pd.DatetimeIndex(sales.date).year\n",
    "#sales[\"day\"]=pd.DatetimeIndex(sales.date).day"
   ]
  },
  {
   "cell_type": "markdown",
   "metadata": {},
   "source": [
    "### add sepecial dates"
   ]
  },
  {
   "cell_type": "code",
   "execution_count": 69,
   "metadata": {},
   "outputs": [
    {
     "data": {
      "text/html": [
       "<div>\n",
       "<style scoped>\n",
       "    .dataframe tbody tr th:only-of-type {\n",
       "        vertical-align: middle;\n",
       "    }\n",
       "\n",
       "    .dataframe tbody tr th {\n",
       "        vertical-align: top;\n",
       "    }\n",
       "\n",
       "    .dataframe thead th {\n",
       "        text-align: right;\n",
       "    }\n",
       "</style>\n",
       "<table border=\"1\" class=\"dataframe\">\n",
       "  <thead>\n",
       "    <tr style=\"text-align: right;\">\n",
       "      <th></th>\n",
       "      <th>date</th>\n",
       "      <th>year</th>\n",
       "      <th>month</th>\n",
       "      <th>day</th>\n",
       "      <th>weekday</th>\n",
       "      <th>weekday_name</th>\n",
       "      <th>weeknumber</th>\n",
       "      <th>is_weekend</th>\n",
       "      <th>is_business_day</th>\n",
       "      <th>is_holiday</th>\n",
       "      <th>holiday_name</th>\n",
       "    </tr>\n",
       "  </thead>\n",
       "  <tbody>\n",
       "    <tr>\n",
       "      <th>0</th>\n",
       "      <td>2013-01-01</td>\n",
       "      <td>2013</td>\n",
       "      <td>1</td>\n",
       "      <td>1</td>\n",
       "      <td>2</td>\n",
       "      <td>Tuesday</td>\n",
       "      <td>1</td>\n",
       "      <td>False</td>\n",
       "      <td>False</td>\n",
       "      <td>True</td>\n",
       "      <td>Новый год Novy god</td>\n",
       "    </tr>\n",
       "    <tr>\n",
       "      <th>1</th>\n",
       "      <td>2013-01-02</td>\n",
       "      <td>2013</td>\n",
       "      <td>1</td>\n",
       "      <td>2</td>\n",
       "      <td>3</td>\n",
       "      <td>Wednesday</td>\n",
       "      <td>1</td>\n",
       "      <td>False</td>\n",
       "      <td>False</td>\n",
       "      <td>True</td>\n",
       "      <td>Новый год</td>\n",
       "    </tr>\n",
       "    <tr>\n",
       "      <th>2</th>\n",
       "      <td>2013-01-03</td>\n",
       "      <td>2013</td>\n",
       "      <td>1</td>\n",
       "      <td>3</td>\n",
       "      <td>4</td>\n",
       "      <td>Thursday</td>\n",
       "      <td>1</td>\n",
       "      <td>False</td>\n",
       "      <td>False</td>\n",
       "      <td>True</td>\n",
       "      <td>Новый год</td>\n",
       "    </tr>\n",
       "    <tr>\n",
       "      <th>3</th>\n",
       "      <td>2013-01-04</td>\n",
       "      <td>2013</td>\n",
       "      <td>1</td>\n",
       "      <td>4</td>\n",
       "      <td>5</td>\n",
       "      <td>Friday</td>\n",
       "      <td>1</td>\n",
       "      <td>False</td>\n",
       "      <td>False</td>\n",
       "      <td>True</td>\n",
       "      <td>Новый год</td>\n",
       "    </tr>\n",
       "    <tr>\n",
       "      <th>4</th>\n",
       "      <td>2013-01-05</td>\n",
       "      <td>2013</td>\n",
       "      <td>1</td>\n",
       "      <td>5</td>\n",
       "      <td>6</td>\n",
       "      <td>Saturday</td>\n",
       "      <td>1</td>\n",
       "      <td>True</td>\n",
       "      <td>False</td>\n",
       "      <td>True</td>\n",
       "      <td>Новый год</td>\n",
       "    </tr>\n",
       "  </tbody>\n",
       "</table>\n",
       "</div>"
      ],
      "text/plain": [
       "         date  year  month  day  weekday weekday_name  weeknumber  is_weekend  \\\n",
       "0  2013-01-01  2013      1    1        2      Tuesday           1       False   \n",
       "1  2013-01-02  2013      1    2        3    Wednesday           1       False   \n",
       "2  2013-01-03  2013      1    3        4     Thursday           1       False   \n",
       "3  2013-01-04  2013      1    4        5       Friday           1       False   \n",
       "4  2013-01-05  2013      1    5        6     Saturday           1        True   \n",
       "\n",
       "   is_business_day  is_holiday        holiday_name  \n",
       "0            False        True  Новый год Novy god  \n",
       "1            False        True           Новый год  \n",
       "2            False        True           Новый год  \n",
       "3            False        True           Новый год  \n",
       "4            False        True           Новый год  "
      ]
     },
     "execution_count": 69,
     "metadata": {},
     "output_type": "execute_result"
    }
   ],
   "source": [
    "from generate_calendar import Calendar\n",
    "\n",
    "start_date = '2013-01-01'\n",
    "end_date = '2016-02-10'\n",
    "api_key = \"3f654100-f7fc-45b2-9646-8725053c9954\"\n",
    "\n",
    "calendar = Calendar(start_date, end_date, include_holidays=True, holiday_api_key=api_key, country='RU')\n",
    "\n",
    "data_frame = calendar.generate()\n",
    "data_frame.head()"
   ]
  },
  {
   "cell_type": "code",
   "execution_count": 70,
   "metadata": {},
   "outputs": [
    {
     "data": {
      "text/plain": [
       "(2753515, 15)"
      ]
     },
     "execution_count": 70,
     "metadata": {},
     "output_type": "execute_result"
    }
   ],
   "source": [
    "sales.shape"
   ]
  },
  {
   "cell_type": "code",
   "execution_count": 71,
   "metadata": {
    "collapsed": true
   },
   "outputs": [],
   "source": [
    "#all_data = all_data.append(sub_data)"
   ]
  },
  {
   "cell_type": "code",
   "execution_count": 72,
   "metadata": {},
   "outputs": [
    {
     "data": {
      "text/plain": [
       "(6738186, 48)"
      ]
     },
     "execution_count": 72,
     "metadata": {},
     "output_type": "execute_result"
    }
   ],
   "source": [
    "all_data.shape"
   ]
  },
  {
   "cell_type": "code",
   "execution_count": 73,
   "metadata": {},
   "outputs": [
    {
     "name": "stderr",
     "output_type": "stream",
     "text": [
      "C:\\Users\\Hamza SBAAI\\Anaconda3\\lib\\site-packages\\pandas\\core\\groupby\\groupby.py:4656: FutureWarning: using a dict with renaming is deprecated and will be removed in a future version\n",
      "  return super(DataFrameGroupBy, self).aggregate(arg, *args, **kwargs)\n"
     ]
    }
   ],
   "source": [
    "gp=data_frame.groupby([\"year\",\"month\"]).agg({\"is_weekend\":{'':np.mean},\"is_business_day\":{\"is_business_day\":np.mean},\"is_holiday\":{\"is_holiday\":np.mean}})\n",
    "gp.columns = [col[0] if col[-1]=='' else col[-1] for col in gp.columns.values]\n",
    "sales=pd.merge(sales,gp,how='left',on=[\"year\",\"month\"])"
   ]
  },
  {
   "cell_type": "code",
   "execution_count": 74,
   "metadata": {},
   "outputs": [
    {
     "data": {
      "text/html": [
       "<div>\n",
       "<style scoped>\n",
       "    .dataframe tbody tr th:only-of-type {\n",
       "        vertical-align: middle;\n",
       "    }\n",
       "\n",
       "    .dataframe tbody tr th {\n",
       "        vertical-align: top;\n",
       "    }\n",
       "\n",
       "    .dataframe thead th {\n",
       "        text-align: right;\n",
       "    }\n",
       "</style>\n",
       "<table border=\"1\" class=\"dataframe\">\n",
       "  <thead>\n",
       "    <tr style=\"text-align: right;\">\n",
       "      <th></th>\n",
       "      <th>index</th>\n",
       "      <th>date</th>\n",
       "      <th>date_block_num</th>\n",
       "      <th>shop_id</th>\n",
       "      <th>item_id</th>\n",
       "      <th>item_price</th>\n",
       "      <th>item_cnt_day</th>\n",
       "      <th>month</th>\n",
       "      <th>year</th>\n",
       "      <th>date_min</th>\n",
       "      <th>month_min</th>\n",
       "      <th>year_min</th>\n",
       "      <th>new_cats</th>\n",
       "      <th>item_category_id</th>\n",
       "      <th>date_block_num_min</th>\n",
       "      <th>is_weekend</th>\n",
       "      <th>is_business_day</th>\n",
       "      <th>is_holiday</th>\n",
       "    </tr>\n",
       "  </thead>\n",
       "  <tbody>\n",
       "    <tr>\n",
       "      <th>0</th>\n",
       "      <td>0</td>\n",
       "      <td>2013-02-01</td>\n",
       "      <td>0</td>\n",
       "      <td>59</td>\n",
       "      <td>22154</td>\n",
       "      <td>999.0</td>\n",
       "      <td>1.0</td>\n",
       "      <td>2</td>\n",
       "      <td>2013</td>\n",
       "      <td>2013-01-14</td>\n",
       "      <td>1</td>\n",
       "      <td>2013</td>\n",
       "      <td>5</td>\n",
       "      <td>37</td>\n",
       "      <td>0</td>\n",
       "      <td>0.285714</td>\n",
       "      <td>0.714286</td>\n",
       "      <td>0.035714</td>\n",
       "    </tr>\n",
       "    <tr>\n",
       "      <th>1</th>\n",
       "      <td>3270</td>\n",
       "      <td>2013-01-23</td>\n",
       "      <td>0</td>\n",
       "      <td>24</td>\n",
       "      <td>22154</td>\n",
       "      <td>999.0</td>\n",
       "      <td>1.0</td>\n",
       "      <td>1</td>\n",
       "      <td>2013</td>\n",
       "      <td>2013-01-14</td>\n",
       "      <td>1</td>\n",
       "      <td>2013</td>\n",
       "      <td>5</td>\n",
       "      <td>37</td>\n",
       "      <td>0</td>\n",
       "      <td>0.258065</td>\n",
       "      <td>0.548387</td>\n",
       "      <td>0.258065</td>\n",
       "    </tr>\n",
       "    <tr>\n",
       "      <th>2</th>\n",
       "      <td>25918</td>\n",
       "      <td>2013-02-01</td>\n",
       "      <td>0</td>\n",
       "      <td>25</td>\n",
       "      <td>22154</td>\n",
       "      <td>999.0</td>\n",
       "      <td>1.0</td>\n",
       "      <td>2</td>\n",
       "      <td>2013</td>\n",
       "      <td>2013-01-14</td>\n",
       "      <td>1</td>\n",
       "      <td>2013</td>\n",
       "      <td>5</td>\n",
       "      <td>37</td>\n",
       "      <td>0</td>\n",
       "      <td>0.285714</td>\n",
       "      <td>0.714286</td>\n",
       "      <td>0.035714</td>\n",
       "    </tr>\n",
       "    <tr>\n",
       "      <th>3</th>\n",
       "      <td>25919</td>\n",
       "      <td>2013-03-01</td>\n",
       "      <td>0</td>\n",
       "      <td>25</td>\n",
       "      <td>22154</td>\n",
       "      <td>999.0</td>\n",
       "      <td>1.0</td>\n",
       "      <td>3</td>\n",
       "      <td>2013</td>\n",
       "      <td>2013-01-14</td>\n",
       "      <td>1</td>\n",
       "      <td>2013</td>\n",
       "      <td>5</td>\n",
       "      <td>37</td>\n",
       "      <td>0</td>\n",
       "      <td>0.322581</td>\n",
       "      <td>0.645161</td>\n",
       "      <td>0.032258</td>\n",
       "    </tr>\n",
       "    <tr>\n",
       "      <th>4</th>\n",
       "      <td>25920</td>\n",
       "      <td>2013-01-20</td>\n",
       "      <td>0</td>\n",
       "      <td>25</td>\n",
       "      <td>22154</td>\n",
       "      <td>999.0</td>\n",
       "      <td>1.0</td>\n",
       "      <td>1</td>\n",
       "      <td>2013</td>\n",
       "      <td>2013-01-14</td>\n",
       "      <td>1</td>\n",
       "      <td>2013</td>\n",
       "      <td>5</td>\n",
       "      <td>37</td>\n",
       "      <td>0</td>\n",
       "      <td>0.258065</td>\n",
       "      <td>0.548387</td>\n",
       "      <td>0.258065</td>\n",
       "    </tr>\n",
       "  </tbody>\n",
       "</table>\n",
       "</div>"
      ],
      "text/plain": [
       "   index       date  date_block_num  shop_id  item_id  item_price  \\\n",
       "0      0 2013-02-01               0       59    22154       999.0   \n",
       "1   3270 2013-01-23               0       24    22154       999.0   \n",
       "2  25918 2013-02-01               0       25    22154       999.0   \n",
       "3  25919 2013-03-01               0       25    22154       999.0   \n",
       "4  25920 2013-01-20               0       25    22154       999.0   \n",
       "\n",
       "   item_cnt_day  month  year   date_min  month_min  year_min  new_cats  \\\n",
       "0           1.0      2  2013 2013-01-14          1      2013         5   \n",
       "1           1.0      1  2013 2013-01-14          1      2013         5   \n",
       "2           1.0      2  2013 2013-01-14          1      2013         5   \n",
       "3           1.0      3  2013 2013-01-14          1      2013         5   \n",
       "4           1.0      1  2013 2013-01-14          1      2013         5   \n",
       "\n",
       "   item_category_id  date_block_num_min  is_weekend  is_business_day  \\\n",
       "0                37                   0    0.285714         0.714286   \n",
       "1                37                   0    0.258065         0.548387   \n",
       "2                37                   0    0.285714         0.714286   \n",
       "3                37                   0    0.322581         0.645161   \n",
       "4                37                   0    0.258065         0.548387   \n",
       "\n",
       "   is_holiday  \n",
       "0    0.035714  \n",
       "1    0.258065  \n",
       "2    0.035714  \n",
       "3    0.032258  \n",
       "4    0.258065  "
      ]
     },
     "execution_count": 74,
     "metadata": {},
     "output_type": "execute_result"
    }
   ],
   "source": [
    "sales.head()"
   ]
  },
  {
   "cell_type": "code",
   "execution_count": 75,
   "metadata": {},
   "outputs": [
    {
     "name": "stdout",
     "output_type": "stream",
     "text": [
      "0 --> 1\n",
      "1 --> 2\n",
      "2 --> 3\n",
      "3 --> 4\n",
      "7 --> 8\n",
      "8 --> 9\n",
      "9 --> 10\n",
      "11 --> 12\n",
      "30 --> 7\n",
      "31 --> 8\n",
      "32 --> 9\n",
      "33 --> 10\n",
      "4 --> 5\n",
      "6 --> 7\n",
      "17 --> 6\n",
      "28 --> 5\n",
      "5 --> 6\n",
      "10 --> 11\n",
      "12 --> 1\n",
      "13 --> 2\n",
      "14 --> 3\n",
      "18 --> 7\n",
      "19 --> 8\n",
      "21 --> 10\n",
      "15 --> 4\n",
      "24 --> 1\n",
      "16 --> 5\n",
      "20 --> 9\n",
      "22 --> 11\n",
      "23 --> 12\n",
      "25 --> 2\n",
      "26 --> 3\n",
      "27 --> 4\n",
      "29 --> 6\n"
     ]
    }
   ],
   "source": [
    "for i in sales.date_block_num.unique():\n",
    "    print(i,\"-->\",sales[sales.date_block_num==i].month.value_counts().idxmax())"
   ]
  },
  {
   "cell_type": "code",
   "execution_count": 76,
   "metadata": {},
   "outputs": [
    {
     "data": {
      "text/plain": [
       "array([ 1,  2,  3,  4,  5,  6,  7,  8,  9, 10, 11,  0,  1,  2,  3,  4,  5,\n",
       "        6,  7,  8,  9, 10, 11], dtype=int64)"
      ]
     },
     "execution_count": 76,
     "metadata": {},
     "output_type": "execute_result"
    }
   ],
   "source": [
    "(all_data.date_block_num.unique()+1) % 12"
   ]
  },
  {
   "cell_type": "code",
   "execution_count": 77,
   "metadata": {
    "collapsed": true
   },
   "outputs": [],
   "source": [
    "all_data.date_block_num.unique()\n",
    "all_data['month'] = (all_data['date_block_num']+1) % 12\n",
    "all_data.loc[all_data.month == 0,\"month\"] = 12"
   ]
  },
  {
   "cell_type": "code",
   "execution_count": 78,
   "metadata": {},
   "outputs": [
    {
     "data": {
      "text/plain": [
       "Index(['shop_id', 'item_id', 'date_block_num', 'target', 'target_mean',\n",
       "       'shop__target_mean', 'item_category_id', 'item__target_mean',\n",
       "       'item_mean', 'item__target_mean_lag_1', 'item_mean_lag_1',\n",
       "       'shop__target_mean_lag_1', 'target_lag_1', 'target_mean_lag_1',\n",
       "       'item__target_mean_lag_2', 'item_mean_lag_2', 'shop__target_mean_lag_2',\n",
       "       'target_lag_2', 'target_mean_lag_2', 'item__target_mean_lag_3',\n",
       "       'item_mean_lag_3', 'shop__target_mean_lag_3', 'target_lag_3',\n",
       "       'target_mean_lag_3', 'item__target_mean_lag_6', 'item_mean_lag_6',\n",
       "       'shop__target_mean_lag_6', 'target_lag_6', 'target_mean_lag_6',\n",
       "       'item__target_mean_lag_12', 'item_mean_lag_12',\n",
       "       'shop__target_mean_lag_12', 'target_lag_12', 'target_mean_lag_12',\n",
       "       'city_code', 'new_cats', 'year_min', 'month_min',\n",
       "       'item_cnt_day_mean_new', 'item_cnt_day_shop_id',\n",
       "       'item_cnt_day_year_shop_id', 'item_cnt_day_cats_id',\n",
       "       'item_cnt_day_year_cats_id', 'item_cnt_day_new_shop',\n",
       "       'item_cnt_day_new_cats', 'date_block_num_min', 'item_cnt_day_date_shop',\n",
       "       'item_cnt_day_date_cats', 'month'],\n",
       "      dtype='object')"
      ]
     },
     "execution_count": 78,
     "metadata": {},
     "output_type": "execute_result"
    }
   ],
   "source": [
    "all_data.columns"
   ]
  },
  {
   "cell_type": "code",
   "execution_count": 79,
   "metadata": {},
   "outputs": [
    {
     "name": "stderr",
     "output_type": "stream",
     "text": [
      "C:\\Users\\Hamza SBAAI\\Anaconda3\\lib\\site-packages\\pandas\\core\\groupby\\groupby.py:4656: FutureWarning: using a dict with renaming is deprecated and will be removed in a future version\n",
      "  return super(DataFrameGroupBy, self).aggregate(arg, *args, **kwargs)\n"
     ]
    }
   ],
   "source": [
    "gp=sales.groupby([\"month\"]).agg({\"is_weekend\":{'':np.mean},\"is_business_day\":{\"is_business_day\":np.mean},\"is_holiday\":{\"is_holiday\":np.mean}})\n",
    "gp.columns = [col[0] if col[-1]=='' else col[-1] for col in gp.columns.values]\n",
    "all_data=pd.merge(all_data,gp,how='left',on=\"month\")"
   ]
  },
  {
   "cell_type": "code",
   "execution_count": 80,
   "metadata": {},
   "outputs": [
    {
     "data": {
      "text/plain": [
       "(6738186, 52)"
      ]
     },
     "execution_count": 80,
     "metadata": {},
     "output_type": "execute_result"
    }
   ],
   "source": [
    "all_data.shape"
   ]
  },
  {
   "cell_type": "markdown",
   "metadata": {},
   "source": [
    "## Train/test split "
   ]
  },
  {
   "cell_type": "code",
   "execution_count": 81,
   "metadata": {},
   "outputs": [
    {
     "data": {
      "text/html": [
       "<div>\n",
       "<style scoped>\n",
       "    .dataframe tbody tr th:only-of-type {\n",
       "        vertical-align: middle;\n",
       "    }\n",
       "\n",
       "    .dataframe tbody tr th {\n",
       "        vertical-align: top;\n",
       "    }\n",
       "\n",
       "    .dataframe thead th {\n",
       "        text-align: right;\n",
       "    }\n",
       "</style>\n",
       "<table border=\"1\" class=\"dataframe\">\n",
       "  <thead>\n",
       "    <tr style=\"text-align: right;\">\n",
       "      <th></th>\n",
       "      <th>shop_id</th>\n",
       "      <th>item_id</th>\n",
       "      <th>date_block_num</th>\n",
       "      <th>target</th>\n",
       "      <th>target_mean</th>\n",
       "      <th>shop__target_mean</th>\n",
       "      <th>item_category_id</th>\n",
       "      <th>item__target_mean</th>\n",
       "      <th>item_mean</th>\n",
       "      <th>item__target_mean_lag_1</th>\n",
       "      <th>item_mean_lag_1</th>\n",
       "      <th>shop__target_mean_lag_1</th>\n",
       "      <th>target_lag_1</th>\n",
       "      <th>target_mean_lag_1</th>\n",
       "      <th>item__target_mean_lag_2</th>\n",
       "      <th>item_mean_lag_2</th>\n",
       "      <th>shop__target_mean_lag_2</th>\n",
       "      <th>target_lag_2</th>\n",
       "      <th>target_mean_lag_2</th>\n",
       "      <th>item__target_mean_lag_3</th>\n",
       "      <th>item_mean_lag_3</th>\n",
       "      <th>shop__target_mean_lag_3</th>\n",
       "      <th>target_lag_3</th>\n",
       "      <th>target_mean_lag_3</th>\n",
       "      <th>item__target_mean_lag_6</th>\n",
       "      <th>...</th>\n",
       "      <th>target_lag_6</th>\n",
       "      <th>target_mean_lag_6</th>\n",
       "      <th>item__target_mean_lag_12</th>\n",
       "      <th>item_mean_lag_12</th>\n",
       "      <th>shop__target_mean_lag_12</th>\n",
       "      <th>target_lag_12</th>\n",
       "      <th>target_mean_lag_12</th>\n",
       "      <th>city_code</th>\n",
       "      <th>new_cats</th>\n",
       "      <th>year_min</th>\n",
       "      <th>month_min</th>\n",
       "      <th>item_cnt_day_mean_new</th>\n",
       "      <th>item_cnt_day_shop_id</th>\n",
       "      <th>item_cnt_day_year_shop_id</th>\n",
       "      <th>item_cnt_day_cats_id</th>\n",
       "      <th>item_cnt_day_year_cats_id</th>\n",
       "      <th>item_cnt_day_new_shop</th>\n",
       "      <th>item_cnt_day_new_cats</th>\n",
       "      <th>date_block_num_min</th>\n",
       "      <th>item_cnt_day_date_shop</th>\n",
       "      <th>item_cnt_day_date_cats</th>\n",
       "      <th>month</th>\n",
       "      <th>is_weekend</th>\n",
       "      <th>is_business_day</th>\n",
       "      <th>is_holiday</th>\n",
       "    </tr>\n",
       "  </thead>\n",
       "  <tbody>\n",
       "    <tr>\n",
       "      <th>6523986</th>\n",
       "      <td>5</td>\n",
       "      <td>5037</td>\n",
       "      <td>34</td>\n",
       "      <td>0.0</td>\n",
       "      <td>0.0</td>\n",
       "      <td>0.0</td>\n",
       "      <td>19</td>\n",
       "      <td>0.0</td>\n",
       "      <td>0.0</td>\n",
       "      <td>1.041791</td>\n",
       "      <td>1.000000</td>\n",
       "      <td>1.090155</td>\n",
       "      <td>0.0</td>\n",
       "      <td>0.0</td>\n",
       "      <td>1.273688</td>\n",
       "      <td>1.428571</td>\n",
       "      <td>1.148265</td>\n",
       "      <td>1.0</td>\n",
       "      <td>1.0</td>\n",
       "      <td>1.126207</td>\n",
       "      <td>1.190000</td>\n",
       "      <td>1.080134</td>\n",
       "      <td>3.0</td>\n",
       "      <td>1.0</td>\n",
       "      <td>1.056495</td>\n",
       "      <td>...</td>\n",
       "      <td>1.0</td>\n",
       "      <td>1.0</td>\n",
       "      <td>1.147309</td>\n",
       "      <td>1.0</td>\n",
       "      <td>1.235043</td>\n",
       "      <td>1.0</td>\n",
       "      <td>1.0</td>\n",
       "      <td>2.0</td>\n",
       "      <td>2</td>\n",
       "      <td>2014.0</td>\n",
       "      <td>1.0</td>\n",
       "      <td>1.267267</td>\n",
       "      <td>1.121926</td>\n",
       "      <td>1.110896</td>\n",
       "      <td>1.203563</td>\n",
       "      <td>1.198509</td>\n",
       "      <td>1.127524</td>\n",
       "      <td>1.214295</td>\n",
       "      <td>20.0</td>\n",
       "      <td>1.347322</td>\n",
       "      <td>1.861216</td>\n",
       "      <td>11</td>\n",
       "      <td>0.314381</td>\n",
       "      <td>0.652286</td>\n",
       "      <td>0.033333</td>\n",
       "    </tr>\n",
       "    <tr>\n",
       "      <th>6523987</th>\n",
       "      <td>5</td>\n",
       "      <td>5320</td>\n",
       "      <td>34</td>\n",
       "      <td>0.0</td>\n",
       "      <td>0.0</td>\n",
       "      <td>0.0</td>\n",
       "      <td>55</td>\n",
       "      <td>0.0</td>\n",
       "      <td>0.0</td>\n",
       "      <td>0.000000</td>\n",
       "      <td>0.000000</td>\n",
       "      <td>0.000000</td>\n",
       "      <td>0.0</td>\n",
       "      <td>0.0</td>\n",
       "      <td>0.000000</td>\n",
       "      <td>0.000000</td>\n",
       "      <td>0.000000</td>\n",
       "      <td>0.0</td>\n",
       "      <td>0.0</td>\n",
       "      <td>0.000000</td>\n",
       "      <td>0.000000</td>\n",
       "      <td>0.000000</td>\n",
       "      <td>0.0</td>\n",
       "      <td>0.0</td>\n",
       "      <td>0.000000</td>\n",
       "      <td>...</td>\n",
       "      <td>0.0</td>\n",
       "      <td>0.0</td>\n",
       "      <td>0.000000</td>\n",
       "      <td>0.0</td>\n",
       "      <td>0.000000</td>\n",
       "      <td>0.0</td>\n",
       "      <td>0.0</td>\n",
       "      <td>2.0</td>\n",
       "      <td>7</td>\n",
       "      <td>2015.0</td>\n",
       "      <td>11.0</td>\n",
       "      <td>1.666667</td>\n",
       "      <td>34.000000</td>\n",
       "      <td>1.144337</td>\n",
       "      <td>34.000000</td>\n",
       "      <td>1.061678</td>\n",
       "      <td>1.127524</td>\n",
       "      <td>1.037858</td>\n",
       "      <td>34.0</td>\n",
       "      <td>1.347322</td>\n",
       "      <td>1.086957</td>\n",
       "      <td>11</td>\n",
       "      <td>0.314381</td>\n",
       "      <td>0.652286</td>\n",
       "      <td>0.033333</td>\n",
       "    </tr>\n",
       "    <tr>\n",
       "      <th>6523988</th>\n",
       "      <td>5</td>\n",
       "      <td>5233</td>\n",
       "      <td>34</td>\n",
       "      <td>0.0</td>\n",
       "      <td>0.0</td>\n",
       "      <td>0.0</td>\n",
       "      <td>19</td>\n",
       "      <td>0.0</td>\n",
       "      <td>0.0</td>\n",
       "      <td>1.041791</td>\n",
       "      <td>1.024390</td>\n",
       "      <td>1.090155</td>\n",
       "      <td>1.0</td>\n",
       "      <td>1.0</td>\n",
       "      <td>1.273688</td>\n",
       "      <td>1.250000</td>\n",
       "      <td>1.148265</td>\n",
       "      <td>3.0</td>\n",
       "      <td>1.0</td>\n",
       "      <td>1.126207</td>\n",
       "      <td>1.181102</td>\n",
       "      <td>1.080134</td>\n",
       "      <td>1.0</td>\n",
       "      <td>1.0</td>\n",
       "      <td>1.056495</td>\n",
       "      <td>...</td>\n",
       "      <td>3.0</td>\n",
       "      <td>1.5</td>\n",
       "      <td>0.000000</td>\n",
       "      <td>0.0</td>\n",
       "      <td>0.000000</td>\n",
       "      <td>0.0</td>\n",
       "      <td>0.0</td>\n",
       "      <td>2.0</td>\n",
       "      <td>2</td>\n",
       "      <td>2015.0</td>\n",
       "      <td>1.0</td>\n",
       "      <td>1.381513</td>\n",
       "      <td>1.144856</td>\n",
       "      <td>1.144337</td>\n",
       "      <td>1.168332</td>\n",
       "      <td>1.163236</td>\n",
       "      <td>1.127524</td>\n",
       "      <td>1.214295</td>\n",
       "      <td>27.0</td>\n",
       "      <td>1.347322</td>\n",
       "      <td>1.861216</td>\n",
       "      <td>11</td>\n",
       "      <td>0.314381</td>\n",
       "      <td>0.652286</td>\n",
       "      <td>0.033333</td>\n",
       "    </tr>\n",
       "    <tr>\n",
       "      <th>6523989</th>\n",
       "      <td>5</td>\n",
       "      <td>5232</td>\n",
       "      <td>34</td>\n",
       "      <td>0.0</td>\n",
       "      <td>0.0</td>\n",
       "      <td>0.0</td>\n",
       "      <td>23</td>\n",
       "      <td>0.0</td>\n",
       "      <td>0.0</td>\n",
       "      <td>1.055582</td>\n",
       "      <td>0.933333</td>\n",
       "      <td>1.090155</td>\n",
       "      <td>0.0</td>\n",
       "      <td>0.0</td>\n",
       "      <td>1.261420</td>\n",
       "      <td>1.043478</td>\n",
       "      <td>1.148265</td>\n",
       "      <td>0.0</td>\n",
       "      <td>0.0</td>\n",
       "      <td>1.093142</td>\n",
       "      <td>1.203704</td>\n",
       "      <td>1.080134</td>\n",
       "      <td>1.0</td>\n",
       "      <td>1.0</td>\n",
       "      <td>0.000000</td>\n",
       "      <td>...</td>\n",
       "      <td>0.0</td>\n",
       "      <td>0.0</td>\n",
       "      <td>0.000000</td>\n",
       "      <td>0.0</td>\n",
       "      <td>0.000000</td>\n",
       "      <td>0.0</td>\n",
       "      <td>0.0</td>\n",
       "      <td>2.0</td>\n",
       "      <td>2</td>\n",
       "      <td>2015.0</td>\n",
       "      <td>1.0</td>\n",
       "      <td>1.381513</td>\n",
       "      <td>1.144856</td>\n",
       "      <td>1.144337</td>\n",
       "      <td>1.148048</td>\n",
       "      <td>1.142831</td>\n",
       "      <td>1.127524</td>\n",
       "      <td>1.116452</td>\n",
       "      <td>31.0</td>\n",
       "      <td>1.347322</td>\n",
       "      <td>1.524478</td>\n",
       "      <td>11</td>\n",
       "      <td>0.314381</td>\n",
       "      <td>0.652286</td>\n",
       "      <td>0.033333</td>\n",
       "    </tr>\n",
       "    <tr>\n",
       "      <th>6523990</th>\n",
       "      <td>5</td>\n",
       "      <td>5268</td>\n",
       "      <td>34</td>\n",
       "      <td>0.0</td>\n",
       "      <td>0.0</td>\n",
       "      <td>0.0</td>\n",
       "      <td>20</td>\n",
       "      <td>0.0</td>\n",
       "      <td>0.0</td>\n",
       "      <td>0.000000</td>\n",
       "      <td>0.000000</td>\n",
       "      <td>0.000000</td>\n",
       "      <td>0.0</td>\n",
       "      <td>0.0</td>\n",
       "      <td>0.000000</td>\n",
       "      <td>0.000000</td>\n",
       "      <td>0.000000</td>\n",
       "      <td>0.0</td>\n",
       "      <td>0.0</td>\n",
       "      <td>0.000000</td>\n",
       "      <td>0.000000</td>\n",
       "      <td>0.000000</td>\n",
       "      <td>0.0</td>\n",
       "      <td>0.0</td>\n",
       "      <td>0.000000</td>\n",
       "      <td>...</td>\n",
       "      <td>0.0</td>\n",
       "      <td>0.0</td>\n",
       "      <td>0.000000</td>\n",
       "      <td>0.0</td>\n",
       "      <td>0.000000</td>\n",
       "      <td>0.0</td>\n",
       "      <td>0.0</td>\n",
       "      <td>2.0</td>\n",
       "      <td>2</td>\n",
       "      <td>2015.0</td>\n",
       "      <td>11.0</td>\n",
       "      <td>1.666667</td>\n",
       "      <td>34.000000</td>\n",
       "      <td>1.144337</td>\n",
       "      <td>34.000000</td>\n",
       "      <td>1.918867</td>\n",
       "      <td>1.127524</td>\n",
       "      <td>2.020486</td>\n",
       "      <td>34.0</td>\n",
       "      <td>1.347322</td>\n",
       "      <td>2.872383</td>\n",
       "      <td>11</td>\n",
       "      <td>0.314381</td>\n",
       "      <td>0.652286</td>\n",
       "      <td>0.033333</td>\n",
       "    </tr>\n",
       "  </tbody>\n",
       "</table>\n",
       "<p>5 rows × 52 columns</p>\n",
       "</div>"
      ],
      "text/plain": [
       "         shop_id  item_id  date_block_num  target  target_mean  \\\n",
       "6523986        5     5037              34     0.0          0.0   \n",
       "6523987        5     5320              34     0.0          0.0   \n",
       "6523988        5     5233              34     0.0          0.0   \n",
       "6523989        5     5232              34     0.0          0.0   \n",
       "6523990        5     5268              34     0.0          0.0   \n",
       "\n",
       "         shop__target_mean  item_category_id  item__target_mean  item_mean  \\\n",
       "6523986                0.0                19                0.0        0.0   \n",
       "6523987                0.0                55                0.0        0.0   \n",
       "6523988                0.0                19                0.0        0.0   \n",
       "6523989                0.0                23                0.0        0.0   \n",
       "6523990                0.0                20                0.0        0.0   \n",
       "\n",
       "         item__target_mean_lag_1  item_mean_lag_1  shop__target_mean_lag_1  \\\n",
       "6523986                 1.041791         1.000000                 1.090155   \n",
       "6523987                 0.000000         0.000000                 0.000000   \n",
       "6523988                 1.041791         1.024390                 1.090155   \n",
       "6523989                 1.055582         0.933333                 1.090155   \n",
       "6523990                 0.000000         0.000000                 0.000000   \n",
       "\n",
       "         target_lag_1  target_mean_lag_1  item__target_mean_lag_2  \\\n",
       "6523986           0.0                0.0                 1.273688   \n",
       "6523987           0.0                0.0                 0.000000   \n",
       "6523988           1.0                1.0                 1.273688   \n",
       "6523989           0.0                0.0                 1.261420   \n",
       "6523990           0.0                0.0                 0.000000   \n",
       "\n",
       "         item_mean_lag_2  shop__target_mean_lag_2  target_lag_2  \\\n",
       "6523986         1.428571                 1.148265           1.0   \n",
       "6523987         0.000000                 0.000000           0.0   \n",
       "6523988         1.250000                 1.148265           3.0   \n",
       "6523989         1.043478                 1.148265           0.0   \n",
       "6523990         0.000000                 0.000000           0.0   \n",
       "\n",
       "         target_mean_lag_2  item__target_mean_lag_3  item_mean_lag_3  \\\n",
       "6523986                1.0                 1.126207         1.190000   \n",
       "6523987                0.0                 0.000000         0.000000   \n",
       "6523988                1.0                 1.126207         1.181102   \n",
       "6523989                0.0                 1.093142         1.203704   \n",
       "6523990                0.0                 0.000000         0.000000   \n",
       "\n",
       "         shop__target_mean_lag_3  target_lag_3  target_mean_lag_3  \\\n",
       "6523986                 1.080134           3.0                1.0   \n",
       "6523987                 0.000000           0.0                0.0   \n",
       "6523988                 1.080134           1.0                1.0   \n",
       "6523989                 1.080134           1.0                1.0   \n",
       "6523990                 0.000000           0.0                0.0   \n",
       "\n",
       "         item__target_mean_lag_6     ...      target_lag_6  target_mean_lag_6  \\\n",
       "6523986                 1.056495     ...               1.0                1.0   \n",
       "6523987                 0.000000     ...               0.0                0.0   \n",
       "6523988                 1.056495     ...               3.0                1.5   \n",
       "6523989                 0.000000     ...               0.0                0.0   \n",
       "6523990                 0.000000     ...               0.0                0.0   \n",
       "\n",
       "         item__target_mean_lag_12  item_mean_lag_12  shop__target_mean_lag_12  \\\n",
       "6523986                  1.147309               1.0                  1.235043   \n",
       "6523987                  0.000000               0.0                  0.000000   \n",
       "6523988                  0.000000               0.0                  0.000000   \n",
       "6523989                  0.000000               0.0                  0.000000   \n",
       "6523990                  0.000000               0.0                  0.000000   \n",
       "\n",
       "         target_lag_12  target_mean_lag_12  city_code  new_cats  year_min  \\\n",
       "6523986            1.0                 1.0        2.0         2    2014.0   \n",
       "6523987            0.0                 0.0        2.0         7    2015.0   \n",
       "6523988            0.0                 0.0        2.0         2    2015.0   \n",
       "6523989            0.0                 0.0        2.0         2    2015.0   \n",
       "6523990            0.0                 0.0        2.0         2    2015.0   \n",
       "\n",
       "         month_min  item_cnt_day_mean_new  item_cnt_day_shop_id  \\\n",
       "6523986        1.0               1.267267              1.121926   \n",
       "6523987       11.0               1.666667             34.000000   \n",
       "6523988        1.0               1.381513              1.144856   \n",
       "6523989        1.0               1.381513              1.144856   \n",
       "6523990       11.0               1.666667             34.000000   \n",
       "\n",
       "         item_cnt_day_year_shop_id  item_cnt_day_cats_id  \\\n",
       "6523986                   1.110896              1.203563   \n",
       "6523987                   1.144337             34.000000   \n",
       "6523988                   1.144337              1.168332   \n",
       "6523989                   1.144337              1.148048   \n",
       "6523990                   1.144337             34.000000   \n",
       "\n",
       "         item_cnt_day_year_cats_id  item_cnt_day_new_shop  \\\n",
       "6523986                   1.198509               1.127524   \n",
       "6523987                   1.061678               1.127524   \n",
       "6523988                   1.163236               1.127524   \n",
       "6523989                   1.142831               1.127524   \n",
       "6523990                   1.918867               1.127524   \n",
       "\n",
       "         item_cnt_day_new_cats  date_block_num_min  item_cnt_day_date_shop  \\\n",
       "6523986               1.214295                20.0                1.347322   \n",
       "6523987               1.037858                34.0                1.347322   \n",
       "6523988               1.214295                27.0                1.347322   \n",
       "6523989               1.116452                31.0                1.347322   \n",
       "6523990               2.020486                34.0                1.347322   \n",
       "\n",
       "         item_cnt_day_date_cats  month  is_weekend  is_business_day  \\\n",
       "6523986                1.861216     11    0.314381         0.652286   \n",
       "6523987                1.086957     11    0.314381         0.652286   \n",
       "6523988                1.861216     11    0.314381         0.652286   \n",
       "6523989                1.524478     11    0.314381         0.652286   \n",
       "6523990                2.872383     11    0.314381         0.652286   \n",
       "\n",
       "         is_holiday  \n",
       "6523986    0.033333  \n",
       "6523987    0.033333  \n",
       "6523988    0.033333  \n",
       "6523989    0.033333  \n",
       "6523990    0.033333  \n",
       "\n",
       "[5 rows x 52 columns]"
      ]
     },
     "execution_count": 81,
     "metadata": {},
     "output_type": "execute_result"
    }
   ],
   "source": [
    "sub_data = all_data[all_data.date_block_num==34].fillna(0)\n",
    "all_data = all_data[all_data.date_block_num<34].fillna(0)\n",
    "sub_data.head()"
   ]
  },
  {
   "cell_type": "code",
   "execution_count": null,
   "metadata": {
    "collapsed": true
   },
   "outputs": [],
   "source": [
    "all_data.to_pickle('journey/data/new_train2.pickle')\n",
    "\n",
    "sub_data.to_pickle('journey/data/new_test2.pickle')"
   ]
  }
 ],
 "metadata": {
  "kernelspec": {
   "display_name": "Python 3",
   "language": "python",
   "name": "python3"
  },
  "language_info": {
   "codemirror_mode": {
    "name": "ipython",
    "version": 3
   },
   "file_extension": ".py",
   "mimetype": "text/x-python",
   "name": "python",
   "nbconvert_exporter": "python",
   "pygments_lexer": "ipython3",
   "version": "3.6.3"
  }
 },
 "nbformat": 4,
 "nbformat_minor": 2
}
