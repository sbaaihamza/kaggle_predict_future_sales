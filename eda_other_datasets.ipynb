{
 "cells": [
  {
   "cell_type": "code",
   "execution_count": 31,
   "metadata": {
    "collapsed": true
   },
   "outputs": [],
   "source": [
    "import numpy as np\n",
    "import pandas as pd \n",
    "import sklearn\n",
    "import scipy.sparse \n",
    "import lightgbm as lgb\n",
    "import seaborn as sns\n",
    "import pickle\n",
    "\n",
    "from sklearn.linear_model import LinearRegression\n",
    "from sklearn.metrics import mean_squared_error\n",
    "from sklearn.ensemble import RandomForestRegressor\n",
    "\n",
    "# to make this notebook's output stable across runs\n",
    "np.random.seed(42)\n",
    "\n",
    "# To plot pretty figures\n",
    "%matplotlib inline\n",
    "import matplotlib\n",
    "import matplotlib.pyplot as plt\n",
    "plt.rcParams['axes.labelsize'] = 14\n",
    "plt.rcParams['xtick.labelsize'] = 12\n",
    "plt.rcParams['ytick.labelsize'] = 12\n",
    "pd.set_option('display.max_rows', 600)\n",
    "pd.set_option('display.max_columns', 50)\n",
    "sns.set(rc={'figure.figsize':(20, 10)})\n",
    "\n",
    "# Ignore useless warnings (see SciPy issue #5998)\n",
    "import warnings\n",
    "warnings.filterwarnings(action=\"ignore\", module=\"scipy\", message=\"^internal gelsd\")"
   ]
  },
  {
   "cell_type": "code",
   "execution_count": 32,
   "metadata": {},
   "outputs": [
    {
     "name": "stdout",
     "output_type": "stream",
     "text": [
      "numpy 1.14.2\n",
      "pandas 0.23.4\n",
      "sklearn 0.19.1\n",
      "scipy 0.19.1\n",
      "lightgbm 2.1.1\n",
      "seaborn 0.8.0\n"
     ]
    }
   ],
   "source": [
    "for p in [np, pd, sklearn, scipy, lgb, sns]:\n",
    "    print (p.__name__, p.__version__)"
   ]
  },
  {
   "cell_type": "markdown",
   "metadata": {},
   "source": [
    "# load the data"
   ]
  },
  {
   "cell_type": "code",
   "execution_count": 33,
   "metadata": {
    "collapsed": true
   },
   "outputs": [],
   "source": [
    "import os\n",
    "import tarfile\n",
    "from six.moves import urllib\n",
    "PATH = os.path.join(\"journey\", \"data\")\n",
    "def load_data(file):\n",
    "    csv_path = os.path.join(PATH,file)\n",
    "    return pd.read_csv(csv_path)"
   ]
  },
  {
   "cell_type": "code",
   "execution_count": 34,
   "metadata": {
    "collapsed": true
   },
   "outputs": [],
   "source": [
    "sales = load_data('sales_train.csv')\n",
    "shops = load_data('shops.csv')\n",
    "items = load_data('items.csv')\n",
    "item_cats = load_data('item_categories.csv')\n",
    "test = load_data('test.csv')"
   ]
  },
  {
   "cell_type": "code",
   "execution_count": 35,
   "metadata": {},
   "outputs": [
    {
     "data": {
      "text/html": [
       "<div>\n",
       "<style scoped>\n",
       "    .dataframe tbody tr th:only-of-type {\n",
       "        vertical-align: middle;\n",
       "    }\n",
       "\n",
       "    .dataframe tbody tr th {\n",
       "        vertical-align: top;\n",
       "    }\n",
       "\n",
       "    .dataframe thead th {\n",
       "        text-align: right;\n",
       "    }\n",
       "</style>\n",
       "<table border=\"1\" class=\"dataframe\">\n",
       "  <thead>\n",
       "    <tr style=\"text-align: right;\">\n",
       "      <th></th>\n",
       "      <th>date</th>\n",
       "      <th>date_block_num</th>\n",
       "      <th>shop_id</th>\n",
       "      <th>item_id</th>\n",
       "      <th>item_price</th>\n",
       "      <th>item_cnt_day</th>\n",
       "    </tr>\n",
       "  </thead>\n",
       "  <tbody>\n",
       "    <tr>\n",
       "      <th>0</th>\n",
       "      <td>02.01.2013</td>\n",
       "      <td>0</td>\n",
       "      <td>59</td>\n",
       "      <td>22154</td>\n",
       "      <td>999.00</td>\n",
       "      <td>1.0</td>\n",
       "    </tr>\n",
       "    <tr>\n",
       "      <th>1</th>\n",
       "      <td>03.01.2013</td>\n",
       "      <td>0</td>\n",
       "      <td>25</td>\n",
       "      <td>2552</td>\n",
       "      <td>899.00</td>\n",
       "      <td>1.0</td>\n",
       "    </tr>\n",
       "    <tr>\n",
       "      <th>2</th>\n",
       "      <td>05.01.2013</td>\n",
       "      <td>0</td>\n",
       "      <td>25</td>\n",
       "      <td>2552</td>\n",
       "      <td>899.00</td>\n",
       "      <td>-1.0</td>\n",
       "    </tr>\n",
       "    <tr>\n",
       "      <th>3</th>\n",
       "      <td>06.01.2013</td>\n",
       "      <td>0</td>\n",
       "      <td>25</td>\n",
       "      <td>2554</td>\n",
       "      <td>1709.05</td>\n",
       "      <td>1.0</td>\n",
       "    </tr>\n",
       "    <tr>\n",
       "      <th>4</th>\n",
       "      <td>15.01.2013</td>\n",
       "      <td>0</td>\n",
       "      <td>25</td>\n",
       "      <td>2555</td>\n",
       "      <td>1099.00</td>\n",
       "      <td>1.0</td>\n",
       "    </tr>\n",
       "  </tbody>\n",
       "</table>\n",
       "</div>"
      ],
      "text/plain": [
       "         date  date_block_num  shop_id  item_id  item_price  item_cnt_day\n",
       "0  02.01.2013               0       59    22154      999.00           1.0\n",
       "1  03.01.2013               0       25     2552      899.00           1.0\n",
       "2  05.01.2013               0       25     2552      899.00          -1.0\n",
       "3  06.01.2013               0       25     2554     1709.05           1.0\n",
       "4  15.01.2013               0       25     2555     1099.00           1.0"
      ]
     },
     "execution_count": 35,
     "metadata": {},
     "output_type": "execute_result"
    }
   ],
   "source": [
    "sales.head()"
   ]
  },
  {
   "cell_type": "code",
   "execution_count": 36,
   "metadata": {},
   "outputs": [
    {
     "data": {
      "text/html": [
       "<div>\n",
       "<style scoped>\n",
       "    .dataframe tbody tr th:only-of-type {\n",
       "        vertical-align: middle;\n",
       "    }\n",
       "\n",
       "    .dataframe tbody tr th {\n",
       "        vertical-align: top;\n",
       "    }\n",
       "\n",
       "    .dataframe thead th {\n",
       "        text-align: right;\n",
       "    }\n",
       "</style>\n",
       "<table border=\"1\" class=\"dataframe\">\n",
       "  <thead>\n",
       "    <tr style=\"text-align: right;\">\n",
       "      <th></th>\n",
       "      <th>shop_name</th>\n",
       "      <th>shop_id</th>\n",
       "    </tr>\n",
       "  </thead>\n",
       "  <tbody>\n",
       "    <tr>\n",
       "      <th>0</th>\n",
       "      <td>!Якутск Орджоникидзе, 56 фран</td>\n",
       "      <td>0</td>\n",
       "    </tr>\n",
       "    <tr>\n",
       "      <th>1</th>\n",
       "      <td>!Якутск ТЦ \"Центральный\" фран</td>\n",
       "      <td>1</td>\n",
       "    </tr>\n",
       "    <tr>\n",
       "      <th>2</th>\n",
       "      <td>Адыгея ТЦ \"Мега\"</td>\n",
       "      <td>2</td>\n",
       "    </tr>\n",
       "    <tr>\n",
       "      <th>3</th>\n",
       "      <td>Балашиха ТРК \"Октябрь-Киномир\"</td>\n",
       "      <td>3</td>\n",
       "    </tr>\n",
       "    <tr>\n",
       "      <th>4</th>\n",
       "      <td>Волжский ТЦ \"Волга Молл\"</td>\n",
       "      <td>4</td>\n",
       "    </tr>\n",
       "  </tbody>\n",
       "</table>\n",
       "</div>"
      ],
      "text/plain": [
       "                        shop_name  shop_id\n",
       "0   !Якутск Орджоникидзе, 56 фран        0\n",
       "1   !Якутск ТЦ \"Центральный\" фран        1\n",
       "2                Адыгея ТЦ \"Мега\"        2\n",
       "3  Балашиха ТРК \"Октябрь-Киномир\"        3\n",
       "4        Волжский ТЦ \"Волга Молл\"        4"
      ]
     },
     "execution_count": 36,
     "metadata": {},
     "output_type": "execute_result"
    }
   ],
   "source": [
    "shops.head()"
   ]
  },
  {
   "cell_type": "code",
   "execution_count": 37,
   "metadata": {},
   "outputs": [
    {
     "data": {
      "text/html": [
       "<div>\n",
       "<style scoped>\n",
       "    .dataframe tbody tr th:only-of-type {\n",
       "        vertical-align: middle;\n",
       "    }\n",
       "\n",
       "    .dataframe tbody tr th {\n",
       "        vertical-align: top;\n",
       "    }\n",
       "\n",
       "    .dataframe thead th {\n",
       "        text-align: right;\n",
       "    }\n",
       "</style>\n",
       "<table border=\"1\" class=\"dataframe\">\n",
       "  <thead>\n",
       "    <tr style=\"text-align: right;\">\n",
       "      <th></th>\n",
       "      <th>item_name</th>\n",
       "      <th>item_id</th>\n",
       "      <th>item_category_id</th>\n",
       "    </tr>\n",
       "  </thead>\n",
       "  <tbody>\n",
       "    <tr>\n",
       "      <th>0</th>\n",
       "      <td>! ВО ВЛАСТИ НАВАЖДЕНИЯ (ПЛАСТ.)         D</td>\n",
       "      <td>0</td>\n",
       "      <td>40</td>\n",
       "    </tr>\n",
       "    <tr>\n",
       "      <th>1</th>\n",
       "      <td>!ABBYY FineReader 12 Professional Edition Full...</td>\n",
       "      <td>1</td>\n",
       "      <td>76</td>\n",
       "    </tr>\n",
       "    <tr>\n",
       "      <th>2</th>\n",
       "      <td>***В ЛУЧАХ СЛАВЫ   (UNV)                    D</td>\n",
       "      <td>2</td>\n",
       "      <td>40</td>\n",
       "    </tr>\n",
       "    <tr>\n",
       "      <th>3</th>\n",
       "      <td>***ГОЛУБАЯ ВОЛНА  (Univ)                      D</td>\n",
       "      <td>3</td>\n",
       "      <td>40</td>\n",
       "    </tr>\n",
       "    <tr>\n",
       "      <th>4</th>\n",
       "      <td>***КОРОБКА (СТЕКЛО)                       D</td>\n",
       "      <td>4</td>\n",
       "      <td>40</td>\n",
       "    </tr>\n",
       "  </tbody>\n",
       "</table>\n",
       "</div>"
      ],
      "text/plain": [
       "                                           item_name  item_id  \\\n",
       "0          ! ВО ВЛАСТИ НАВАЖДЕНИЯ (ПЛАСТ.)         D        0   \n",
       "1  !ABBYY FineReader 12 Professional Edition Full...        1   \n",
       "2      ***В ЛУЧАХ СЛАВЫ   (UNV)                    D        2   \n",
       "3    ***ГОЛУБАЯ ВОЛНА  (Univ)                      D        3   \n",
       "4        ***КОРОБКА (СТЕКЛО)                       D        4   \n",
       "\n",
       "   item_category_id  \n",
       "0                40  \n",
       "1                76  \n",
       "2                40  \n",
       "3                40  \n",
       "4                40  "
      ]
     },
     "execution_count": 37,
     "metadata": {},
     "output_type": "execute_result"
    }
   ],
   "source": [
    "items.head()"
   ]
  },
  {
   "cell_type": "code",
   "execution_count": 38,
   "metadata": {},
   "outputs": [
    {
     "data": {
      "text/html": [
       "<div>\n",
       "<style scoped>\n",
       "    .dataframe tbody tr th:only-of-type {\n",
       "        vertical-align: middle;\n",
       "    }\n",
       "\n",
       "    .dataframe tbody tr th {\n",
       "        vertical-align: top;\n",
       "    }\n",
       "\n",
       "    .dataframe thead th {\n",
       "        text-align: right;\n",
       "    }\n",
       "</style>\n",
       "<table border=\"1\" class=\"dataframe\">\n",
       "  <thead>\n",
       "    <tr style=\"text-align: right;\">\n",
       "      <th></th>\n",
       "      <th>item_category_name</th>\n",
       "      <th>item_category_id</th>\n",
       "    </tr>\n",
       "  </thead>\n",
       "  <tbody>\n",
       "    <tr>\n",
       "      <th>0</th>\n",
       "      <td>PC - Гарнитуры/Наушники</td>\n",
       "      <td>0</td>\n",
       "    </tr>\n",
       "    <tr>\n",
       "      <th>1</th>\n",
       "      <td>Аксессуары - PS2</td>\n",
       "      <td>1</td>\n",
       "    </tr>\n",
       "    <tr>\n",
       "      <th>2</th>\n",
       "      <td>Аксессуары - PS3</td>\n",
       "      <td>2</td>\n",
       "    </tr>\n",
       "    <tr>\n",
       "      <th>3</th>\n",
       "      <td>Аксессуары - PS4</td>\n",
       "      <td>3</td>\n",
       "    </tr>\n",
       "    <tr>\n",
       "      <th>4</th>\n",
       "      <td>Аксессуары - PSP</td>\n",
       "      <td>4</td>\n",
       "    </tr>\n",
       "  </tbody>\n",
       "</table>\n",
       "</div>"
      ],
      "text/plain": [
       "        item_category_name  item_category_id\n",
       "0  PC - Гарнитуры/Наушники                 0\n",
       "1         Аксессуары - PS2                 1\n",
       "2         Аксессуары - PS3                 2\n",
       "3         Аксессуары - PS4                 3\n",
       "4         Аксессуары - PSP                 4"
      ]
     },
     "execution_count": 38,
     "metadata": {},
     "output_type": "execute_result"
    }
   ],
   "source": [
    "item_cats.head()"
   ]
  },
  {
   "cell_type": "code",
   "execution_count": 39,
   "metadata": {},
   "outputs": [
    {
     "name": "stdout",
     "output_type": "stream",
     "text": [
      "sales----------------------------\n",
      "<class 'pandas.core.frame.DataFrame'>\n",
      "RangeIndex: 2935849 entries, 0 to 2935848\n",
      "Data columns (total 6 columns):\n",
      "date              object\n",
      "date_block_num    int64\n",
      "shop_id           int64\n",
      "item_id           int64\n",
      "item_price        float64\n",
      "item_cnt_day      float64\n",
      "dtypes: float64(2), int64(3), object(1)\n",
      "memory usage: 134.4+ MB\n",
      "shops----------------------------\n",
      "<class 'pandas.core.frame.DataFrame'>\n",
      "RangeIndex: 60 entries, 0 to 59\n",
      "Data columns (total 2 columns):\n",
      "shop_name    60 non-null object\n",
      "shop_id      60 non-null int64\n",
      "dtypes: int64(1), object(1)\n",
      "memory usage: 1.0+ KB\n",
      "items----------------------------\n",
      "<class 'pandas.core.frame.DataFrame'>\n",
      "RangeIndex: 22170 entries, 0 to 22169\n",
      "Data columns (total 3 columns):\n",
      "item_name           22170 non-null object\n",
      "item_id             22170 non-null int64\n",
      "item_category_id    22170 non-null int64\n",
      "dtypes: int64(2), object(1)\n",
      "memory usage: 519.7+ KB\n",
      "item_cats----------------------------\n",
      "<class 'pandas.core.frame.DataFrame'>\n",
      "RangeIndex: 84 entries, 0 to 83\n",
      "Data columns (total 2 columns):\n",
      "item_category_name    84 non-null object\n",
      "item_category_id      84 non-null int64\n",
      "dtypes: int64(1), object(1)\n",
      "memory usage: 1.4+ KB\n",
      "test----------------------------\n",
      "<class 'pandas.core.frame.DataFrame'>\n",
      "RangeIndex: 214200 entries, 0 to 214199\n",
      "Data columns (total 3 columns):\n",
      "ID         214200 non-null int64\n",
      "shop_id    214200 non-null int64\n",
      "item_id    214200 non-null int64\n",
      "dtypes: int64(3)\n",
      "memory usage: 4.9 MB\n"
     ]
    }
   ],
   "source": [
    "print(\"sales----------------------------\")\n",
    "sales.info()\n",
    "print(\"shops----------------------------\")\n",
    "shops.info()\n",
    "print(\"items----------------------------\")\n",
    "items.info()\n",
    "print(\"item_cats----------------------------\")\n",
    "item_cats.info()\n",
    "print(\"test----------------------------\")\n",
    "test.info()"
   ]
  },
  {
   "cell_type": "markdown",
   "metadata": {},
   "source": [
    "# item"
   ]
  },
  {
   "cell_type": "code",
   "execution_count": 40,
   "metadata": {},
   "outputs": [
    {
     "data": {
      "text/html": [
       "<div>\n",
       "<style scoped>\n",
       "    .dataframe tbody tr th:only-of-type {\n",
       "        vertical-align: middle;\n",
       "    }\n",
       "\n",
       "    .dataframe tbody tr th {\n",
       "        vertical-align: top;\n",
       "    }\n",
       "\n",
       "    .dataframe thead th {\n",
       "        text-align: right;\n",
       "    }\n",
       "</style>\n",
       "<table border=\"1\" class=\"dataframe\">\n",
       "  <thead>\n",
       "    <tr style=\"text-align: right;\">\n",
       "      <th></th>\n",
       "      <th>item_id</th>\n",
       "      <th>item_category_id</th>\n",
       "    </tr>\n",
       "  </thead>\n",
       "  <tbody>\n",
       "    <tr>\n",
       "      <th>count</th>\n",
       "      <td>22170.00000</td>\n",
       "      <td>22170.000000</td>\n",
       "    </tr>\n",
       "    <tr>\n",
       "      <th>mean</th>\n",
       "      <td>11084.50000</td>\n",
       "      <td>46.290753</td>\n",
       "    </tr>\n",
       "    <tr>\n",
       "      <th>std</th>\n",
       "      <td>6400.07207</td>\n",
       "      <td>15.941486</td>\n",
       "    </tr>\n",
       "    <tr>\n",
       "      <th>min</th>\n",
       "      <td>0.00000</td>\n",
       "      <td>0.000000</td>\n",
       "    </tr>\n",
       "    <tr>\n",
       "      <th>25%</th>\n",
       "      <td>5542.25000</td>\n",
       "      <td>37.000000</td>\n",
       "    </tr>\n",
       "    <tr>\n",
       "      <th>50%</th>\n",
       "      <td>11084.50000</td>\n",
       "      <td>40.000000</td>\n",
       "    </tr>\n",
       "    <tr>\n",
       "      <th>75%</th>\n",
       "      <td>16626.75000</td>\n",
       "      <td>58.000000</td>\n",
       "    </tr>\n",
       "    <tr>\n",
       "      <th>max</th>\n",
       "      <td>22169.00000</td>\n",
       "      <td>83.000000</td>\n",
       "    </tr>\n",
       "  </tbody>\n",
       "</table>\n",
       "</div>"
      ],
      "text/plain": [
       "           item_id  item_category_id\n",
       "count  22170.00000      22170.000000\n",
       "mean   11084.50000         46.290753\n",
       "std     6400.07207         15.941486\n",
       "min        0.00000          0.000000\n",
       "25%     5542.25000         37.000000\n",
       "50%    11084.50000         40.000000\n",
       "75%    16626.75000         58.000000\n",
       "max    22169.00000         83.000000"
      ]
     },
     "execution_count": 40,
     "metadata": {},
     "output_type": "execute_result"
    }
   ],
   "source": [
    "items.describe()"
   ]
  },
  {
   "cell_type": "markdown",
   "metadata": {},
   "source": [
    "* this dataset has a primary key= (item_id)"
   ]
  },
  {
   "cell_type": "code",
   "execution_count": 41,
   "metadata": {},
   "outputs": [
    {
     "name": "stdout",
     "output_type": "stream",
     "text": [
      "40    5035\n",
      "55    2365\n",
      "37    1780\n",
      "31    1125\n",
      "58     790\n",
      "30     756\n",
      "72     666\n",
      "19     628\n",
      "61     598\n",
      "23     501\n",
      "43     471\n",
      "57     427\n",
      "56     397\n",
      "67     394\n",
      "63     366\n",
      "76     333\n",
      "41     332\n",
      "69     317\n",
      "38     310\n",
      "62     295\n",
      "59     294\n",
      "64     290\n",
      "78     278\n",
      "75     277\n",
      "28     240\n",
      "70     228\n",
      "77     220\n",
      "45     195\n",
      "66     178\n",
      "20     175\n",
      "49     167\n",
      "65     163\n",
      "44     161\n",
      "47     151\n",
      "25     140\n",
      "21     125\n",
      "24     123\n",
      "54      90\n",
      "22      79\n",
      "2       75\n",
      "60      52\n",
      "29      46\n",
      "11      41\n",
      "6       40\n",
      "15      37\n",
      "73      36\n",
      "3       34\n",
      "5       29\n",
      "68      27\n",
      "7       24\n",
      "12      20\n",
      "16      20\n",
      "33      18\n",
      "14      18\n",
      "4       15\n",
      "83      15\n",
      "42      12\n",
      "9       12\n",
      "46      12\n",
      "8        9\n",
      "82       8\n",
      "34       8\n",
      "27       8\n",
      "74       8\n",
      "17       7\n",
      "81       7\n",
      "39       7\n",
      "71       6\n",
      "36       6\n",
      "32       6\n",
      "80       6\n",
      "18       6\n",
      "13       6\n",
      "48       5\n",
      "0        4\n",
      "35       4\n",
      "52       3\n",
      "53       3\n",
      "26       3\n",
      "50       2\n",
      "1        2\n",
      "51       1\n",
      "10       1\n",
      "79       1\n",
      "Name: item_category_id, dtype: int64\n"
     ]
    },
    {
     "name": "stderr",
     "output_type": "stream",
     "text": [
      "C:\\Users\\Hamza SBAAI\\Anaconda3\\lib\\site-packages\\seaborn\\categorical.py:1460: FutureWarning:\n",
      "\n",
      "remove_na is deprecated and is a private function. Do not use.\n",
      "\n"
     ]
    },
    {
     "data": {
      "image/png": "[encoded data removed]",
      "text/plain": [
       "<Figure size 1584x720 with 1 Axes>"
      ]
     },
     "metadata": {},
     "output_type": "display_data"
    }
   ],
   "source": [
    "# item_category_id\n",
    "print(items['item_category_id'].value_counts())\n",
    "plt.figure(figsize=(22,10))\n",
    "sns.countplot(items['item_category_id'])\n",
    "plt.show()"
   ]
  },
  {
   "cell_type": "markdown",
   "metadata": {},
   "source": [
    "# item_cats datasets\n",
    " * this dataset is just obout the name of each item_category_id\n",
    " * so all we can do with this data is to come up with a new feature \n"
   ]
  },
  {
   "cell_type": "code",
   "execution_count": 42,
   "metadata": {},
   "outputs": [
    {
     "data": {
      "text/html": [
       "<div>\n",
       "<style scoped>\n",
       "    .dataframe tbody tr th:only-of-type {\n",
       "        vertical-align: middle;\n",
       "    }\n",
       "\n",
       "    .dataframe tbody tr th {\n",
       "        vertical-align: top;\n",
       "    }\n",
       "\n",
       "    .dataframe thead th {\n",
       "        text-align: right;\n",
       "    }\n",
       "</style>\n",
       "<table border=\"1\" class=\"dataframe\">\n",
       "  <thead>\n",
       "    <tr style=\"text-align: right;\">\n",
       "      <th></th>\n",
       "      <th>item_category_name</th>\n",
       "      <th>item_category_id</th>\n",
       "      <th>cats</th>\n",
       "    </tr>\n",
       "  </thead>\n",
       "  <tbody>\n",
       "    <tr>\n",
       "      <th>0</th>\n",
       "      <td>PC - Гарнитуры/Наушники</td>\n",
       "      <td>0</td>\n",
       "      <td>PC</td>\n",
       "    </tr>\n",
       "    <tr>\n",
       "      <th>1</th>\n",
       "      <td>Аксессуары - PS2</td>\n",
       "      <td>1</td>\n",
       "      <td>Аксессуары</td>\n",
       "    </tr>\n",
       "    <tr>\n",
       "      <th>2</th>\n",
       "      <td>Аксессуары - PS3</td>\n",
       "      <td>2</td>\n",
       "      <td>Аксессуары</td>\n",
       "    </tr>\n",
       "    <tr>\n",
       "      <th>3</th>\n",
       "      <td>Аксессуары - PS4</td>\n",
       "      <td>3</td>\n",
       "      <td>Аксессуары</td>\n",
       "    </tr>\n",
       "    <tr>\n",
       "      <th>4</th>\n",
       "      <td>Аксессуары - PSP</td>\n",
       "      <td>4</td>\n",
       "      <td>Аксессуары</td>\n",
       "    </tr>\n",
       "  </tbody>\n",
       "</table>\n",
       "</div>"
      ],
      "text/plain": [
       "        item_category_name  item_category_id         cats\n",
       "0  PC - Гарнитуры/Наушники                 0          PC \n",
       "1         Аксессуары - PS2                 1  Аксессуары \n",
       "2         Аксессуары - PS3                 2  Аксессуары \n",
       "3         Аксессуары - PS4                 3  Аксессуары \n",
       "4         Аксессуары - PSP                 4  Аксессуары "
      ]
     },
     "execution_count": 42,
     "metadata": {},
     "output_type": "execute_result"
    }
   ],
   "source": [
    "l=[i.split(\"-\")[0] for i in list(item_cats.item_category_name) ] \n",
    "\n",
    "item_cats['cats'] = l\n",
    "item_cats.head()"
   ]
  },
  {
   "cell_type": "code",
   "execution_count": 43,
   "metadata": {},
   "outputs": [
    {
     "name": "stdout",
     "output_type": "stream",
     "text": [
      "Книги                                13\n",
      "Подарки                              12\n",
      "Игровые консоли                       8\n",
      "Игры                                  8\n",
      "Аксессуары                            7\n",
      "Программы                             6\n",
      "Музыка                                6\n",
      "Кино                                  5\n",
      "Карты оплаты                          4\n",
      "Игры PC                               4\n",
      "Чистые носители (шпиль)               1\n",
      "Карты оплаты (Кино, Музыка, Игры)     1\n",
      "Чистые носители (штучные)             1\n",
      "Игры MAC                              1\n",
      "Доставка товара                       1\n",
      "Служебные                             1\n",
      "Билеты (Цифра)                        1\n",
      "Игры Android                          1\n",
      "Служебные                             1\n",
      "PC                                    1\n",
      "Элементы питания                      1\n",
      "Name: cats, dtype: int64\n"
     ]
    },
    {
     "name": "stderr",
     "output_type": "stream",
     "text": [
      "C:\\Users\\Hamza SBAAI\\Anaconda3\\lib\\site-packages\\seaborn\\categorical.py:1460: FutureWarning:\n",
      "\n",
      "remove_na is deprecated and is a private function. Do not use.\n",
      "\n"
     ]
    },
    {
     "data": {
      "image/png": "[encoded data removed]",
      "text/plain": [
       "<Figure size 1584x720 with 1 Axes>"
      ]
     },
     "metadata": {},
     "output_type": "display_data"
    }
   ],
   "source": [
    "print(item_cats['cats'].value_counts())\n",
    "plt.figure(figsize=(22,10))\n",
    "sns.countplot(item_cats['cats'])\n",
    "plt.show()"
   ]
  },
  {
   "cell_type": "code",
   "execution_count": 44,
   "metadata": {},
   "outputs": [
    {
     "data": {
      "text/html": [
       "<div>\n",
       "<style scoped>\n",
       "    .dataframe tbody tr th:only-of-type {\n",
       "        vertical-align: middle;\n",
       "    }\n",
       "\n",
       "    .dataframe tbody tr th {\n",
       "        vertical-align: top;\n",
       "    }\n",
       "\n",
       "    .dataframe thead th {\n",
       "        text-align: right;\n",
       "    }\n",
       "</style>\n",
       "<table border=\"1\" class=\"dataframe\">\n",
       "  <thead>\n",
       "    <tr style=\"text-align: right;\">\n",
       "      <th></th>\n",
       "      <th>item_category_name</th>\n",
       "      <th>item_category_id</th>\n",
       "      <th>cats</th>\n",
       "    </tr>\n",
       "  </thead>\n",
       "  <tbody>\n",
       "    <tr>\n",
       "      <th>0</th>\n",
       "      <td>PC - Гарнитуры/Наушники</td>\n",
       "      <td>0</td>\n",
       "      <td>PC</td>\n",
       "    </tr>\n",
       "    <tr>\n",
       "      <th>1</th>\n",
       "      <td>Аксессуары - PS2</td>\n",
       "      <td>1</td>\n",
       "      <td>Аксессуары</td>\n",
       "    </tr>\n",
       "    <tr>\n",
       "      <th>2</th>\n",
       "      <td>Аксессуары - PS3</td>\n",
       "      <td>2</td>\n",
       "      <td>Аксессуары</td>\n",
       "    </tr>\n",
       "    <tr>\n",
       "      <th>3</th>\n",
       "      <td>Аксессуары - PS4</td>\n",
       "      <td>3</td>\n",
       "      <td>Аксессуары</td>\n",
       "    </tr>\n",
       "    <tr>\n",
       "      <th>4</th>\n",
       "      <td>Аксессуары - PSP</td>\n",
       "      <td>4</td>\n",
       "      <td>Аксессуары</td>\n",
       "    </tr>\n",
       "  </tbody>\n",
       "</table>\n",
       "</div>"
      ],
      "text/plain": [
       "        item_category_name  item_category_id        cats\n",
       "0  PC - Гарнитуры/Наушники                 0          PC\n",
       "1         Аксессуары - PS2                 1  Аксессуары\n",
       "2         Аксессуары - PS3                 2  Аксессуары\n",
       "3         Аксессуары - PS4                 3  Аксессуары\n",
       "4         Аксессуары - PSP                 4  Аксессуары"
      ]
     },
     "execution_count": 44,
     "metadata": {},
     "output_type": "execute_result"
    }
   ],
   "source": [
    "l=[i.split(\"-\")[0] for i in list(item_cats.item_category_name) ] \n",
    "l=[i.split(\" \")[0] for i in l ] \n",
    "\n",
    "item_cats['cats'] = l\n",
    "item_cats.head()"
   ]
  },
  {
   "cell_type": "markdown",
   "metadata": {},
   "source": [
    "### now lets merge those two datasets \n"
   ]
  },
  {
   "cell_type": "code",
   "execution_count": 45,
   "metadata": {},
   "outputs": [
    {
     "data": {
      "text/html": [
       "<div>\n",
       "<style scoped>\n",
       "    .dataframe tbody tr th:only-of-type {\n",
       "        vertical-align: middle;\n",
       "    }\n",
       "\n",
       "    .dataframe tbody tr th {\n",
       "        vertical-align: top;\n",
       "    }\n",
       "\n",
       "    .dataframe thead th {\n",
       "        text-align: right;\n",
       "    }\n",
       "</style>\n",
       "<table border=\"1\" class=\"dataframe\">\n",
       "  <thead>\n",
       "    <tr style=\"text-align: right;\">\n",
       "      <th></th>\n",
       "      <th>item_id</th>\n",
       "      <th>item_category_id</th>\n",
       "      <th>cats</th>\n",
       "    </tr>\n",
       "  </thead>\n",
       "  <tbody>\n",
       "    <tr>\n",
       "      <th>0</th>\n",
       "      <td>0</td>\n",
       "      <td>40</td>\n",
       "      <td>Кино</td>\n",
       "    </tr>\n",
       "    <tr>\n",
       "      <th>1</th>\n",
       "      <td>2</td>\n",
       "      <td>40</td>\n",
       "      <td>Кино</td>\n",
       "    </tr>\n",
       "    <tr>\n",
       "      <th>2</th>\n",
       "      <td>3</td>\n",
       "      <td>40</td>\n",
       "      <td>Кино</td>\n",
       "    </tr>\n",
       "    <tr>\n",
       "      <th>3</th>\n",
       "      <td>4</td>\n",
       "      <td>40</td>\n",
       "      <td>Кино</td>\n",
       "    </tr>\n",
       "    <tr>\n",
       "      <th>4</th>\n",
       "      <td>5</td>\n",
       "      <td>40</td>\n",
       "      <td>Кино</td>\n",
       "    </tr>\n",
       "  </tbody>\n",
       "</table>\n",
       "</div>"
      ],
      "text/plain": [
       "   item_id  item_category_id  cats\n",
       "0        0                40  Кино\n",
       "1        2                40  Кино\n",
       "2        3                40  Кино\n",
       "3        4                40  Кино\n",
       "4        5                40  Кино"
      ]
     },
     "execution_count": 45,
     "metadata": {},
     "output_type": "execute_result"
    }
   ],
   "source": [
    "item_to_cat_df = items.merge(item_cats, how=\"inner\", on=\"item_category_id\")[['item_id',\"item_category_id\",'cats']]\n",
    "item_to_cat_df.head()"
   ]
  },
  {
   "cell_type": "code",
   "execution_count": 46,
   "metadata": {},
   "outputs": [
    {
     "name": "stdout",
     "output_type": "stream",
     "text": [
      "Игры          14\n",
      "Книги         13\n",
      "Подарки       12\n",
      "Игровые        8\n",
      "Аксессуары     7\n",
      "Программы      6\n",
      "Музыка         6\n",
      "Карты          5\n",
      "Кино           5\n",
      "Чистые         2\n",
      "Служебные      2\n",
      "PC             1\n",
      "Элементы       1\n",
      "Доставка       1\n",
      "Билеты         1\n",
      "Name: cats, dtype: int64\n"
     ]
    },
    {
     "name": "stderr",
     "output_type": "stream",
     "text": [
      "C:\\Users\\Hamza SBAAI\\Anaconda3\\lib\\site-packages\\seaborn\\categorical.py:1460: FutureWarning:\n",
      "\n",
      "remove_na is deprecated and is a private function. Do not use.\n",
      "\n"
     ]
    },
    {
     "data": {
      "image/png": "[encoded data removed]",
      "text/plain": [
       "<Figure size 1584x720 with 1 Axes>"
      ]
     },
     "metadata": {},
     "output_type": "display_data"
    }
   ],
   "source": [
    "print(item_cats['cats'].value_counts())\n",
    "plt.figure(figsize=(22,10))\n",
    "sns.countplot(item_cats['cats'])\n",
    "plt.show()"
   ]
  },
  {
   "cell_type": "code",
   "execution_count": 47,
   "metadata": {
    "scrolled": false
   },
   "outputs": [
    {
     "data": {
      "text/html": [
       "<script>requirejs.config({paths: { 'plotly': ['https://cdn.plot.ly/plotly-latest.min']},});if(!window.Plotly) {{require(['plotly'],function(plotly) {window.Plotly=plotly;});}}</script>"
      ],
      "text/vnd.plotly.v1+html": [
       "<script>requirejs.config({paths: { 'plotly': ['https://cdn.plot.ly/plotly-latest.min']},});if(!window.Plotly) {{require(['plotly'],function(plotly) {window.Plotly=plotly;});}}</script>"
      ]
     },
     "metadata": {},
     "output_type": "display_data"
    },
    {
     "name": "stdout",
     "output_type": "stream",
     "text": [
      "Кино          7464\n",
      "Музыка        4325\n",
      "Игры          3955\n",
      "Подарки       3528\n",
      "Книги         1273\n",
      "Программы     1152\n",
      "Аксессуары     219\n",
      "Игровые        150\n",
      "Карты           42\n",
      "Чистые          15\n",
      "Элементы        15\n",
      "Доставка        12\n",
      "Билеты           9\n",
      "Служебные        7\n",
      "PC               4\n",
      "Name: cats, dtype: int64\n"
     ]
    },
    {
     "data": {
      "application/vnd.plotly.v1+json": {
       "data": [
        {
         "hoverinfo": "text",
         "marker": {
          "color": "rgba(177, 14, 22, 0.5)",
          "line": {
           "color": "rgb(0,0,0)",
           "width": 1.5
          }
         },
         "type": "bar",
         "x": [
          "Кино",
          "Музыка",
          "Игры",
          "Подарки",
          "Книги",
          "Программы",
          "Аксессуары",
          "Игровые",
          "Карты",
          "Чистые",
          "Элементы",
          "Доставка",
          "Билеты",
          "Служебные",
          "PC"
         ],
         "y": [
          7464,
          4325,
          3955,
          3528,
          1273,
          1152,
          219,
          150,
          42,
          15,
          15,
          12,
          9,
          7,
          4
         ]
        }
       ],
       "layout": {
        "title": "categories"
       }
      },
      "text/html": [
       "<div id=\"7dfadf9a-91ab-4c3f-b734-ac0857c7310d\" style=\"height: 525px; width: 100%;\" class=\"plotly-graph-div\"></div><script type=\"text/javascript\">require([\"plotly\"], function(Plotly) { window.PLOTLYENV=window.PLOTLYENV || {};window.PLOTLYENV.BASE_URL=\"https://plot.ly\";Plotly.newPlot(\"7dfadf9a-91ab-4c3f-b734-ac0857c7310d\", [{\"type\": \"bar\", \"x\": [\"\\u041a\\u0438\\u043d\\u043e\", \"\\u041c\\u0443\\u0437\\u044b\\u043a\\u0430\", \"\\u0418\\u0433\\u0440\\u044b\", \"\\u041f\\u043e\\u0434\\u0430\\u0440\\u043a\\u0438\", \"\\u041a\\u043d\\u0438\\u0433\\u0438\", \"\\u041f\\u0440\\u043e\\u0433\\u0440\\u0430\\u043c\\u043c\\u044b\", \"\\u0410\\u043a\\u0441\\u0435\\u0441\\u0441\\u0443\\u0430\\u0440\\u044b\", \"\\u0418\\u0433\\u0440\\u043e\\u0432\\u044b\\u0435\", \"\\u041a\\u0430\\u0440\\u0442\\u044b\", \"\\u0427\\u0438\\u0441\\u0442\\u044b\\u0435\", \"\\u042d\\u043b\\u0435\\u043c\\u0435\\u043d\\u0442\\u044b\", \"\\u0414\\u043e\\u0441\\u0442\\u0430\\u0432\\u043a\\u0430\", \"\\u0411\\u0438\\u043b\\u0435\\u0442\\u044b\", \"\\u0421\\u043b\\u0443\\u0436\\u0435\\u0431\\u043d\\u044b\\u0435\", \"PC\"], \"y\": [7464, 4325, 3955, 3528, 1273, 1152, 219, 150, 42, 15, 15, 12, 9, 7, 4], \"hoverinfo\": \"text\", \"marker\": {\"color\": \"rgba(177, 14, 22, 0.5)\", \"line\": {\"color\": \"rgb(0,0,0)\", \"width\": 1.5}}}], {\"title\": \"categories\"}, {\"showLink\": true, \"linkText\": \"Export to plot.ly\"})});</script>"
      ],
      "text/vnd.plotly.v1+html": [
       "<div id=\"7dfadf9a-91ab-4c3f-b734-ac0857c7310d\" style=\"height: 525px; width: 100%;\" class=\"plotly-graph-div\"></div><script type=\"text/javascript\">require([\"plotly\"], function(Plotly) { window.PLOTLYENV=window.PLOTLYENV || {};window.PLOTLYENV.BASE_URL=\"https://plot.ly\";Plotly.newPlot(\"7dfadf9a-91ab-4c3f-b734-ac0857c7310d\", [{\"type\": \"bar\", \"x\": [\"\\u041a\\u0438\\u043d\\u043e\", \"\\u041c\\u0443\\u0437\\u044b\\u043a\\u0430\", \"\\u0418\\u0433\\u0440\\u044b\", \"\\u041f\\u043e\\u0434\\u0430\\u0440\\u043a\\u0438\", \"\\u041a\\u043d\\u0438\\u0433\\u0438\", \"\\u041f\\u0440\\u043e\\u0433\\u0440\\u0430\\u043c\\u043c\\u044b\", \"\\u0410\\u043a\\u0441\\u0435\\u0441\\u0441\\u0443\\u0430\\u0440\\u044b\", \"\\u0418\\u0433\\u0440\\u043e\\u0432\\u044b\\u0435\", \"\\u041a\\u0430\\u0440\\u0442\\u044b\", \"\\u0427\\u0438\\u0441\\u0442\\u044b\\u0435\", \"\\u042d\\u043b\\u0435\\u043c\\u0435\\u043d\\u0442\\u044b\", \"\\u0414\\u043e\\u0441\\u0442\\u0430\\u0432\\u043a\\u0430\", \"\\u0411\\u0438\\u043b\\u0435\\u0442\\u044b\", \"\\u0421\\u043b\\u0443\\u0436\\u0435\\u0431\\u043d\\u044b\\u0435\", \"PC\"], \"y\": [7464, 4325, 3955, 3528, 1273, 1152, 219, 150, 42, 15, 15, 12, 9, 7, 4], \"hoverinfo\": \"text\", \"marker\": {\"color\": \"rgba(177, 14, 22, 0.5)\", \"line\": {\"color\": \"rgb(0,0,0)\", \"width\": 1.5}}}], {\"title\": \"categories\"}, {\"showLink\": true, \"linkText\": \"Export to plot.ly\"})});</script>"
      ]
     },
     "metadata": {},
     "output_type": "display_data"
    }
   ],
   "source": [
    "import plotly.graph_objs as go\n",
    "from plotly.offline import init_notebook_mode, iplot\n",
    "init_notebook_mode(connected=True)\n",
    "data =item_to_cat_df['cats'].value_counts()\n",
    "print(data)\n",
    "data = [go.Bar(\n",
    "            x=data.index,\n",
    "            y=data.values,\n",
    "            hoverinfo = 'text',\n",
    "            marker = dict(color = 'rgba(177, 14, 22, 0.5)',\n",
    "                             line=dict(color='rgb(0,0,0)',width=1.5)),\n",
    "    )]\n",
    "\n",
    "layout = dict(\n",
    "    title = 'categories',\n",
    ")\n",
    "fig = go.Figure(data=data, layout=layout)\n",
    "iplot(fig)"
   ]
  },
  {
   "cell_type": "code",
   "execution_count": 48,
   "metadata": {},
   "outputs": [],
   "source": [
    "from sklearn.feature_extraction import FeatureHasher\n",
    "fh = FeatureHasher(n_features=6, input_type='string')\n",
    "hashed_features = fh.fit_transform(item_cats['cats'])\n",
    "hashed_features = hashed_features.toarray()\n",
    "df=pd.concat([item_cats[['item_category_id', 'cats']], pd.DataFrame(hashed_features)], \n",
    "          axis=1)"
   ]
  },
  {
   "cell_type": "code",
   "execution_count": 49,
   "metadata": {},
   "outputs": [
    {
     "data": {
      "text/html": [
       "<div>\n",
       "<style scoped>\n",
       "    .dataframe tbody tr th:only-of-type {\n",
       "        vertical-align: middle;\n",
       "    }\n",
       "\n",
       "    .dataframe tbody tr th {\n",
       "        vertical-align: top;\n",
       "    }\n",
       "\n",
       "    .dataframe thead th {\n",
       "        text-align: right;\n",
       "    }\n",
       "</style>\n",
       "<table border=\"1\" class=\"dataframe\">\n",
       "  <thead>\n",
       "    <tr style=\"text-align: right;\">\n",
       "      <th></th>\n",
       "      <th>item_category_id</th>\n",
       "      <th>cats</th>\n",
       "      <th>0</th>\n",
       "      <th>1</th>\n",
       "      <th>2</th>\n",
       "      <th>3</th>\n",
       "      <th>4</th>\n",
       "      <th>5</th>\n",
       "    </tr>\n",
       "  </thead>\n",
       "  <tbody>\n",
       "    <tr>\n",
       "      <th>0</th>\n",
       "      <td>0</td>\n",
       "      <td>PC</td>\n",
       "      <td>0.0</td>\n",
       "      <td>0.0</td>\n",
       "      <td>0.0</td>\n",
       "      <td>-1.0</td>\n",
       "      <td>0.0</td>\n",
       "      <td>-1.0</td>\n",
       "    </tr>\n",
       "    <tr>\n",
       "      <th>1</th>\n",
       "      <td>1</td>\n",
       "      <td>Аксессуары</td>\n",
       "      <td>1.0</td>\n",
       "      <td>-2.0</td>\n",
       "      <td>-5.0</td>\n",
       "      <td>0.0</td>\n",
       "      <td>0.0</td>\n",
       "      <td>0.0</td>\n",
       "    </tr>\n",
       "    <tr>\n",
       "      <th>2</th>\n",
       "      <td>2</td>\n",
       "      <td>Аксессуары</td>\n",
       "      <td>1.0</td>\n",
       "      <td>-2.0</td>\n",
       "      <td>-5.0</td>\n",
       "      <td>0.0</td>\n",
       "      <td>0.0</td>\n",
       "      <td>0.0</td>\n",
       "    </tr>\n",
       "    <tr>\n",
       "      <th>3</th>\n",
       "      <td>3</td>\n",
       "      <td>Аксессуары</td>\n",
       "      <td>1.0</td>\n",
       "      <td>-2.0</td>\n",
       "      <td>-5.0</td>\n",
       "      <td>0.0</td>\n",
       "      <td>0.0</td>\n",
       "      <td>0.0</td>\n",
       "    </tr>\n",
       "    <tr>\n",
       "      <th>4</th>\n",
       "      <td>4</td>\n",
       "      <td>Аксессуары</td>\n",
       "      <td>1.0</td>\n",
       "      <td>-2.0</td>\n",
       "      <td>-5.0</td>\n",
       "      <td>0.0</td>\n",
       "      <td>0.0</td>\n",
       "      <td>0.0</td>\n",
       "    </tr>\n",
       "  </tbody>\n",
       "</table>\n",
       "</div>"
      ],
      "text/plain": [
       "   item_category_id        cats    0    1    2    3    4    5\n",
       "0                 0          PC  0.0  0.0  0.0 -1.0  0.0 -1.0\n",
       "1                 1  Аксессуары  1.0 -2.0 -5.0  0.0  0.0  0.0\n",
       "2                 2  Аксессуары  1.0 -2.0 -5.0  0.0  0.0  0.0\n",
       "3                 3  Аксессуары  1.0 -2.0 -5.0  0.0  0.0  0.0\n",
       "4                 4  Аксессуары  1.0 -2.0 -5.0  0.0  0.0  0.0"
      ]
     },
     "execution_count": 49,
     "metadata": {},
     "output_type": "execute_result"
    }
   ],
   "source": [
    "df.head()"
   ]
  },
  {
   "cell_type": "markdown",
   "metadata": {},
   "source": [
    "# shops datasets\n",
    " * same as item_cats datasets \n",
    " * this dataset is just obout the name of each shop\n",
    " * so all we can do with this data is to come up with a new feature \n"
   ]
  },
  {
   "cell_type": "code",
   "execution_count": 50,
   "metadata": {},
   "outputs": [
    {
     "data": {
      "text/plain": [
       "(60, 2)"
      ]
     },
     "execution_count": 50,
     "metadata": {},
     "output_type": "execute_result"
    }
   ],
   "source": [
    "shops.shape"
   ]
  },
  {
   "cell_type": "code",
   "execution_count": 51,
   "metadata": {
    "collapsed": true
   },
   "outputs": [],
   "source": [
    "from sklearn.feature_extraction.text import CountVectorizer"
   ]
  },
  {
   "cell_type": "markdown",
   "metadata": {},
   "source": [
    "#### max_df is used for removing terms that appear too frequently, also known as \"corpus-specific stop words\". For example:\n",
    "\n",
    "* max_df = 0.50 means \"ignore terms that appear in more than 50% of the documents\".\n",
    "* max_df = 25 means \"ignore terms that appear in more than 25 documents\".\n",
    "\n",
    "The default max_df is 1.0, which means \"ignore terms that appear in more than  100% of the documents\". Thus, the default setting does not ignore any terms.\n",
    "\n",
    "#### min_df is used for removing terms that appear too infrequently. For example:\n",
    "\n",
    "* min_df = 0.01 means \"ignore terms that appear in less than 1% of the documents\".\n",
    "* min_df = 5 means \"ignore terms that appear in less than 5 documents\".\n",
    "\n",
    "The default min_df is 1, which means \"ignore terms that appear in less than 1    document\". Thus, the default setting does not ignore any terms.**"
   ]
  },
  {
   "cell_type": "code",
   "execution_count": 52,
   "metadata": {
    "collapsed": true
   },
   "outputs": [],
   "source": [
    "bow_converter = CountVectorizer(min_df=2)"
   ]
  },
  {
   "cell_type": "code",
   "execution_count": 53,
   "metadata": {},
   "outputs": [
    {
     "data": {
      "text/plain": [
       "<60x35 sparse matrix of type '<class 'numpy.int64'>'\n",
       "\twith 135 stored elements in Compressed Sparse Row format>"
      ]
     },
     "execution_count": 53,
     "metadata": {},
     "output_type": "execute_result"
    }
   ],
   "source": [
    "x = bow_converter.fit_transform(shops['shop_name'])\n",
    "x"
   ]
  },
  {
   "cell_type": "code",
   "execution_count": 54,
   "metadata": {},
   "outputs": [
    {
     "data": {
      "text/plain": [
       "35"
      ]
     },
     "execution_count": 54,
     "metadata": {},
     "output_type": "execute_result"
    }
   ],
   "source": [
    "words = bow_converter.get_feature_names()\n",
    "len(words)"
   ]
  },
  {
   "cell_type": "code",
   "execution_count": 55,
   "metadata": {},
   "outputs": [
    {
     "data": {
      "text/plain": [
       "['56',\n",
       " 'ii',\n",
       " 'буденовский',\n",
       " 'век',\n",
       " 'воронеж',\n",
       " 'горизонт',\n",
       " 'жуковский',\n",
       " 'казань',\n",
       " 'красноярск',\n",
       " 'магазин',\n",
       " 'мега',\n",
       " 'мегацентр',\n",
       " 'молл',\n",
       " 'москва',\n",
       " 'новгород',\n",
       " 'новосибирск',\n",
       " 'орджоникидзе',\n",
       " 'пав',\n",
       " 'паркхаус',\n",
       " 'рио',\n",
       " 'ростовнадону',\n",
       " 'самара',\n",
       " 'сити',\n",
       " 'спб',\n",
       " 'тк',\n",
       " 'трк',\n",
       " 'трц',\n",
       " 'тц',\n",
       " 'тюмень',\n",
       " 'ул',\n",
       " 'уфа',\n",
       " 'фран',\n",
       " 'центральный',\n",
       " 'чкалова',\n",
       " 'якутск']"
      ]
     },
     "execution_count": 55,
     "metadata": {},
     "output_type": "execute_result"
    }
   ],
   "source": [
    "words"
   ]
  },
  {
   "cell_type": "code",
   "execution_count": 56,
   "metadata": {
    "collapsed": true
   },
   "outputs": [],
   "source": [
    "for i, col in enumerate(words):\n",
    "    shops[col] = pd.SparseSeries(x[:, i].toarray().ravel(), fill_value=0)"
   ]
  },
  {
   "cell_type": "code",
   "execution_count": 57,
   "metadata": {
    "scrolled": false
   },
   "outputs": [
    {
     "data": {
      "text/html": [
       "<div>\n",
       "<style scoped>\n",
       "    .dataframe tbody tr th:only-of-type {\n",
       "        vertical-align: middle;\n",
       "    }\n",
       "\n",
       "    .dataframe tbody tr th {\n",
       "        vertical-align: top;\n",
       "    }\n",
       "\n",
       "    .dataframe thead th {\n",
       "        text-align: right;\n",
       "    }\n",
       "</style>\n",
       "<table border=\"1\" class=\"dataframe\">\n",
       "  <thead>\n",
       "    <tr style=\"text-align: right;\">\n",
       "      <th></th>\n",
       "      <th>shop_name</th>\n",
       "      <th>shop_id</th>\n",
       "      <th>56</th>\n",
       "      <th>ii</th>\n",
       "      <th>буденовский</th>\n",
       "      <th>век</th>\n",
       "      <th>воронеж</th>\n",
       "      <th>горизонт</th>\n",
       "      <th>жуковский</th>\n",
       "      <th>казань</th>\n",
       "      <th>красноярск</th>\n",
       "      <th>магазин</th>\n",
       "      <th>мега</th>\n",
       "      <th>мегацентр</th>\n",
       "      <th>молл</th>\n",
       "      <th>москва</th>\n",
       "      <th>новгород</th>\n",
       "      <th>новосибирск</th>\n",
       "      <th>орджоникидзе</th>\n",
       "      <th>пав</th>\n",
       "      <th>паркхаус</th>\n",
       "      <th>рио</th>\n",
       "      <th>ростовнадону</th>\n",
       "      <th>самара</th>\n",
       "      <th>сити</th>\n",
       "      <th>спб</th>\n",
       "      <th>тк</th>\n",
       "      <th>трк</th>\n",
       "      <th>трц</th>\n",
       "      <th>тц</th>\n",
       "      <th>тюмень</th>\n",
       "      <th>ул</th>\n",
       "      <th>уфа</th>\n",
       "      <th>фран</th>\n",
       "      <th>центральный</th>\n",
       "      <th>чкалова</th>\n",
       "      <th>якутск</th>\n",
       "    </tr>\n",
       "  </thead>\n",
       "  <tbody>\n",
       "    <tr>\n",
       "      <th>0</th>\n",
       "      <td>!Якутск Орджоникидзе, 56 фран</td>\n",
       "      <td>0</td>\n",
       "      <td>1</td>\n",
       "      <td>0</td>\n",
       "      <td>0</td>\n",
       "      <td>0</td>\n",
       "      <td>0</td>\n",
       "      <td>0</td>\n",
       "      <td>0</td>\n",
       "      <td>0</td>\n",
       "      <td>0</td>\n",
       "      <td>0</td>\n",
       "      <td>0</td>\n",
       "      <td>0</td>\n",
       "      <td>0</td>\n",
       "      <td>0</td>\n",
       "      <td>0</td>\n",
       "      <td>0</td>\n",
       "      <td>1</td>\n",
       "      <td>0</td>\n",
       "      <td>0</td>\n",
       "      <td>0</td>\n",
       "      <td>0</td>\n",
       "      <td>0</td>\n",
       "      <td>0</td>\n",
       "      <td>0</td>\n",
       "      <td>0</td>\n",
       "      <td>0</td>\n",
       "      <td>0</td>\n",
       "      <td>0</td>\n",
       "      <td>0</td>\n",
       "      <td>0</td>\n",
       "      <td>0</td>\n",
       "      <td>1</td>\n",
       "      <td>0</td>\n",
       "      <td>0</td>\n",
       "      <td>1</td>\n",
       "    </tr>\n",
       "    <tr>\n",
       "      <th>1</th>\n",
       "      <td>!Якутск ТЦ \"Центральный\" фран</td>\n",
       "      <td>1</td>\n",
       "      <td>0</td>\n",
       "      <td>0</td>\n",
       "      <td>0</td>\n",
       "      <td>0</td>\n",
       "      <td>0</td>\n",
       "      <td>0</td>\n",
       "      <td>0</td>\n",
       "      <td>0</td>\n",
       "      <td>0</td>\n",
       "      <td>0</td>\n",
       "      <td>0</td>\n",
       "      <td>0</td>\n",
       "      <td>0</td>\n",
       "      <td>0</td>\n",
       "      <td>0</td>\n",
       "      <td>0</td>\n",
       "      <td>0</td>\n",
       "      <td>0</td>\n",
       "      <td>0</td>\n",
       "      <td>0</td>\n",
       "      <td>0</td>\n",
       "      <td>0</td>\n",
       "      <td>0</td>\n",
       "      <td>0</td>\n",
       "      <td>0</td>\n",
       "      <td>0</td>\n",
       "      <td>0</td>\n",
       "      <td>1</td>\n",
       "      <td>0</td>\n",
       "      <td>0</td>\n",
       "      <td>0</td>\n",
       "      <td>1</td>\n",
       "      <td>1</td>\n",
       "      <td>0</td>\n",
       "      <td>1</td>\n",
       "    </tr>\n",
       "    <tr>\n",
       "      <th>2</th>\n",
       "      <td>Адыгея ТЦ \"Мега\"</td>\n",
       "      <td>2</td>\n",
       "      <td>0</td>\n",
       "      <td>0</td>\n",
       "      <td>0</td>\n",
       "      <td>0</td>\n",
       "      <td>0</td>\n",
       "      <td>0</td>\n",
       "      <td>0</td>\n",
       "      <td>0</td>\n",
       "      <td>0</td>\n",
       "      <td>0</td>\n",
       "      <td>1</td>\n",
       "      <td>0</td>\n",
       "      <td>0</td>\n",
       "      <td>0</td>\n",
       "      <td>0</td>\n",
       "      <td>0</td>\n",
       "      <td>0</td>\n",
       "      <td>0</td>\n",
       "      <td>0</td>\n",
       "      <td>0</td>\n",
       "      <td>0</td>\n",
       "      <td>0</td>\n",
       "      <td>0</td>\n",
       "      <td>0</td>\n",
       "      <td>0</td>\n",
       "      <td>0</td>\n",
       "      <td>0</td>\n",
       "      <td>1</td>\n",
       "      <td>0</td>\n",
       "      <td>0</td>\n",
       "      <td>0</td>\n",
       "      <td>0</td>\n",
       "      <td>0</td>\n",
       "      <td>0</td>\n",
       "      <td>0</td>\n",
       "    </tr>\n",
       "    <tr>\n",
       "      <th>3</th>\n",
       "      <td>Балашиха ТРК \"Октябрь-Киномир\"</td>\n",
       "      <td>3</td>\n",
       "      <td>0</td>\n",
       "      <td>0</td>\n",
       "      <td>0</td>\n",
       "      <td>0</td>\n",
       "      <td>0</td>\n",
       "      <td>0</td>\n",
       "      <td>0</td>\n",
       "      <td>0</td>\n",
       "      <td>0</td>\n",
       "      <td>0</td>\n",
       "      <td>0</td>\n",
       "      <td>0</td>\n",
       "      <td>0</td>\n",
       "      <td>0</td>\n",
       "      <td>0</td>\n",
       "      <td>0</td>\n",
       "      <td>0</td>\n",
       "      <td>0</td>\n",
       "      <td>0</td>\n",
       "      <td>0</td>\n",
       "      <td>0</td>\n",
       "      <td>0</td>\n",
       "      <td>0</td>\n",
       "      <td>0</td>\n",
       "      <td>0</td>\n",
       "      <td>1</td>\n",
       "      <td>0</td>\n",
       "      <td>0</td>\n",
       "      <td>0</td>\n",
       "      <td>0</td>\n",
       "      <td>0</td>\n",
       "      <td>0</td>\n",
       "      <td>0</td>\n",
       "      <td>0</td>\n",
       "      <td>0</td>\n",
       "    </tr>\n",
       "    <tr>\n",
       "      <th>4</th>\n",
       "      <td>Волжский ТЦ \"Волга Молл\"</td>\n",
       "      <td>4</td>\n",
       "      <td>0</td>\n",
       "      <td>0</td>\n",
       "      <td>0</td>\n",
       "      <td>0</td>\n",
       "      <td>0</td>\n",
       "      <td>0</td>\n",
       "      <td>0</td>\n",
       "      <td>0</td>\n",
       "      <td>0</td>\n",
       "      <td>0</td>\n",
       "      <td>0</td>\n",
       "      <td>0</td>\n",
       "      <td>1</td>\n",
       "      <td>0</td>\n",
       "      <td>0</td>\n",
       "      <td>0</td>\n",
       "      <td>0</td>\n",
       "      <td>0</td>\n",
       "      <td>0</td>\n",
       "      <td>0</td>\n",
       "      <td>0</td>\n",
       "      <td>0</td>\n",
       "      <td>0</td>\n",
       "      <td>0</td>\n",
       "      <td>0</td>\n",
       "      <td>0</td>\n",
       "      <td>0</td>\n",
       "      <td>1</td>\n",
       "      <td>0</td>\n",
       "      <td>0</td>\n",
       "      <td>0</td>\n",
       "      <td>0</td>\n",
       "      <td>0</td>\n",
       "      <td>0</td>\n",
       "      <td>0</td>\n",
       "    </tr>\n",
       "  </tbody>\n",
       "</table>\n",
       "</div>"
      ],
      "text/plain": [
       "                        shop_name  shop_id  56  ii  буденовский  век  воронеж  \\\n",
       "0   !Якутск Орджоникидзе, 56 фран        0   1   0            0    0        0   \n",
       "1   !Якутск ТЦ \"Центральный\" фран        1   0   0            0    0        0   \n",
       "2                Адыгея ТЦ \"Мега\"        2   0   0            0    0        0   \n",
       "3  Балашиха ТРК \"Октябрь-Киномир\"        3   0   0            0    0        0   \n",
       "4        Волжский ТЦ \"Волга Молл\"        4   0   0            0    0        0   \n",
       "\n",
       "   горизонт  жуковский  казань  красноярск  магазин  мега  мегацентр  молл  \\\n",
       "0         0          0       0           0        0     0          0     0   \n",
       "1         0          0       0           0        0     0          0     0   \n",
       "2         0          0       0           0        0     1          0     0   \n",
       "3         0          0       0           0        0     0          0     0   \n",
       "4         0          0       0           0        0     0          0     1   \n",
       "\n",
       "   москва  новгород  новосибирск  орджоникидзе  пав  паркхаус  рио  \\\n",
       "0       0         0            0             1    0         0    0   \n",
       "1       0         0            0             0    0         0    0   \n",
       "2       0         0            0             0    0         0    0   \n",
       "3       0         0            0             0    0         0    0   \n",
       "4       0         0            0             0    0         0    0   \n",
       "\n",
       "   ростовнадону  самара  сити  спб  тк  трк  трц  тц  тюмень  ул  уфа  фран  \\\n",
       "0             0       0     0    0   0    0    0   0       0   0    0     1   \n",
       "1             0       0     0    0   0    0    0   1       0   0    0     1   \n",
       "2             0       0     0    0   0    0    0   1       0   0    0     0   \n",
       "3             0       0     0    0   0    1    0   0       0   0    0     0   \n",
       "4             0       0     0    0   0    0    0   1       0   0    0     0   \n",
       "\n",
       "   центральный  чкалова  якутск  \n",
       "0            0        0       1  \n",
       "1            1        0       1  \n",
       "2            0        0       0  \n",
       "3            0        0       0  \n",
       "4            0        0       0  "
      ]
     },
     "execution_count": 57,
     "metadata": {},
     "output_type": "execute_result"
    }
   ],
   "source": [
    "shops.head()"
   ]
  },
  {
   "cell_type": "code",
   "execution_count": 58,
   "metadata": {},
   "outputs": [
    {
     "data": {
      "text/html": [
       "<script>requirejs.config({paths: { 'plotly': ['https://cdn.plot.ly/plotly-latest.min']},});if(!window.Plotly) {{require(['plotly'],function(plotly) {window.Plotly=plotly;});}}</script>"
      ],
      "text/vnd.plotly.v1+html": [
       "<script>requirejs.config({paths: { 'plotly': ['https://cdn.plot.ly/plotly-latest.min']},});if(!window.Plotly) {{require(['plotly'],function(plotly) {window.Plotly=plotly;});}}</script>"
      ]
     },
     "metadata": {},
     "output_type": "display_data"
    },
    {
     "data": {
      "application/vnd.plotly.v1+json": {
       "data": [
        {
         "hoverinfo": "text",
         "marker": {
          "color": "rgba(177, 14, 22, 0.5)",
          "line": {
           "color": "rgb(0,0,0)",
           "width": 1.5
          }
         },
         "type": "bar",
         "x": [
          "56",
          "ii",
          "буденовский",
          "век",
          "воронеж",
          "горизонт",
          "жуковский",
          "казань",
          "красноярск",
          "магазин",
          "мега",
          "мегацентр",
          "молл",
          "москва",
          "новгород",
          "новосибирск",
          "орджоникидзе",
          "пав",
          "паркхаус",
          "рио",
          "ростовнадону",
          "самара",
          "сити",
          "спб",
          "тк",
          "трк",
          "трц",
          "тц",
          "тюмень",
          "ул",
          "уфа",
          "фран",
          "центральный",
          "чкалова",
          "якутск"
         ],
         "y": [
          2,
          3,
          2,
          2,
          3,
          2,
          2,
          2,
          2,
          2,
          7,
          2,
          3,
          13,
          2,
          3,
          2,
          2,
          2,
          2,
          3,
          2,
          2,
          2,
          5,
          5,
          11,
          28,
          3,
          2,
          2,
          2,
          3,
          2,
          4
         ]
        }
       ],
       "layout": {
        "title": "sub names appearances"
       }
      },
      "text/html": [
       "<div id=\"46d39702-a749-48dc-afa8-8e5d647f4bf0\" style=\"height: 525px; width: 100%;\" class=\"plotly-graph-div\"></div><script type=\"text/javascript\">require([\"plotly\"], function(Plotly) { window.PLOTLYENV=window.PLOTLYENV || {};window.PLOTLYENV.BASE_URL=\"https://plot.ly\";Plotly.newPlot(\"46d39702-a749-48dc-afa8-8e5d647f4bf0\", [{\"type\": \"bar\", \"x\": [\"56\", \"ii\", \"\\u0431\\u0443\\u0434\\u0435\\u043d\\u043e\\u0432\\u0441\\u043a\\u0438\\u0439\", \"\\u0432\\u0435\\u043a\", \"\\u0432\\u043e\\u0440\\u043e\\u043d\\u0435\\u0436\", \"\\u0433\\u043e\\u0440\\u0438\\u0437\\u043e\\u043d\\u0442\", \"\\u0436\\u0443\\u043a\\u043e\\u0432\\u0441\\u043a\\u0438\\u0439\", \"\\u043a\\u0430\\u0437\\u0430\\u043d\\u044c\", \"\\u043a\\u0440\\u0430\\u0441\\u043d\\u043e\\u044f\\u0440\\u0441\\u043a\", \"\\u043c\\u0430\\u0433\\u0430\\u0437\\u0438\\u043d\", \"\\u043c\\u0435\\u0433\\u0430\", \"\\u043c\\u0435\\u0433\\u0430\\u0446\\u0435\\u043d\\u0442\\u0440\", \"\\u043c\\u043e\\u043b\\u043b\", \"\\u043c\\u043e\\u0441\\u043a\\u0432\\u0430\", \"\\u043d\\u043e\\u0432\\u0433\\u043e\\u0440\\u043e\\u0434\", \"\\u043d\\u043e\\u0432\\u043e\\u0441\\u0438\\u0431\\u0438\\u0440\\u0441\\u043a\", \"\\u043e\\u0440\\u0434\\u0436\\u043e\\u043d\\u0438\\u043a\\u0438\\u0434\\u0437\\u0435\", \"\\u043f\\u0430\\u0432\", \"\\u043f\\u0430\\u0440\\u043a\\u0445\\u0430\\u0443\\u0441\", \"\\u0440\\u0438\\u043e\", \"\\u0440\\u043e\\u0441\\u0442\\u043e\\u0432\\u043d\\u0430\\u0434\\u043e\\u043d\\u0443\", \"\\u0441\\u0430\\u043c\\u0430\\u0440\\u0430\", \"\\u0441\\u0438\\u0442\\u0438\", \"\\u0441\\u043f\\u0431\", \"\\u0442\\u043a\", \"\\u0442\\u0440\\u043a\", \"\\u0442\\u0440\\u0446\", \"\\u0442\\u0446\", \"\\u0442\\u044e\\u043c\\u0435\\u043d\\u044c\", \"\\u0443\\u043b\", \"\\u0443\\u0444\\u0430\", \"\\u0444\\u0440\\u0430\\u043d\", \"\\u0446\\u0435\\u043d\\u0442\\u0440\\u0430\\u043b\\u044c\\u043d\\u044b\\u0439\", \"\\u0447\\u043a\\u0430\\u043b\\u043e\\u0432\\u0430\", \"\\u044f\\u043a\\u0443\\u0442\\u0441\\u043a\"], \"y\": [2, 3, 2, 2, 3, 2, 2, 2, 2, 2, 7, 2, 3, 13, 2, 3, 2, 2, 2, 2, 3, 2, 2, 2, 5, 5, 11, 28, 3, 2, 2, 2, 3, 2, 4], \"hoverinfo\": \"text\", \"marker\": {\"color\": \"rgba(177, 14, 22, 0.5)\", \"line\": {\"color\": \"rgb(0,0,0)\", \"width\": 1.5}}}], {\"title\": \"sub names appearances\"}, {\"showLink\": true, \"linkText\": \"Export to plot.ly\"})});</script>"
      ],
      "text/vnd.plotly.v1+html": [
       "<div id=\"46d39702-a749-48dc-afa8-8e5d647f4bf0\" style=\"height: 525px; width: 100%;\" class=\"plotly-graph-div\"></div><script type=\"text/javascript\">require([\"plotly\"], function(Plotly) { window.PLOTLYENV=window.PLOTLYENV || {};window.PLOTLYENV.BASE_URL=\"https://plot.ly\";Plotly.newPlot(\"46d39702-a749-48dc-afa8-8e5d647f4bf0\", [{\"type\": \"bar\", \"x\": [\"56\", \"ii\", \"\\u0431\\u0443\\u0434\\u0435\\u043d\\u043e\\u0432\\u0441\\u043a\\u0438\\u0439\", \"\\u0432\\u0435\\u043a\", \"\\u0432\\u043e\\u0440\\u043e\\u043d\\u0435\\u0436\", \"\\u0433\\u043e\\u0440\\u0438\\u0437\\u043e\\u043d\\u0442\", \"\\u0436\\u0443\\u043a\\u043e\\u0432\\u0441\\u043a\\u0438\\u0439\", \"\\u043a\\u0430\\u0437\\u0430\\u043d\\u044c\", \"\\u043a\\u0440\\u0430\\u0441\\u043d\\u043e\\u044f\\u0440\\u0441\\u043a\", \"\\u043c\\u0430\\u0433\\u0430\\u0437\\u0438\\u043d\", \"\\u043c\\u0435\\u0433\\u0430\", \"\\u043c\\u0435\\u0433\\u0430\\u0446\\u0435\\u043d\\u0442\\u0440\", \"\\u043c\\u043e\\u043b\\u043b\", \"\\u043c\\u043e\\u0441\\u043a\\u0432\\u0430\", \"\\u043d\\u043e\\u0432\\u0433\\u043e\\u0440\\u043e\\u0434\", \"\\u043d\\u043e\\u0432\\u043e\\u0441\\u0438\\u0431\\u0438\\u0440\\u0441\\u043a\", \"\\u043e\\u0440\\u0434\\u0436\\u043e\\u043d\\u0438\\u043a\\u0438\\u0434\\u0437\\u0435\", \"\\u043f\\u0430\\u0432\", \"\\u043f\\u0430\\u0440\\u043a\\u0445\\u0430\\u0443\\u0441\", \"\\u0440\\u0438\\u043e\", \"\\u0440\\u043e\\u0441\\u0442\\u043e\\u0432\\u043d\\u0430\\u0434\\u043e\\u043d\\u0443\", \"\\u0441\\u0430\\u043c\\u0430\\u0440\\u0430\", \"\\u0441\\u0438\\u0442\\u0438\", \"\\u0441\\u043f\\u0431\", \"\\u0442\\u043a\", \"\\u0442\\u0440\\u043a\", \"\\u0442\\u0440\\u0446\", \"\\u0442\\u0446\", \"\\u0442\\u044e\\u043c\\u0435\\u043d\\u044c\", \"\\u0443\\u043b\", \"\\u0443\\u0444\\u0430\", \"\\u0444\\u0440\\u0430\\u043d\", \"\\u0446\\u0435\\u043d\\u0442\\u0440\\u0430\\u043b\\u044c\\u043d\\u044b\\u0439\", \"\\u0447\\u043a\\u0430\\u043b\\u043e\\u0432\\u0430\", \"\\u044f\\u043a\\u0443\\u0442\\u0441\\u043a\"], \"y\": [2, 3, 2, 2, 3, 2, 2, 2, 2, 2, 7, 2, 3, 13, 2, 3, 2, 2, 2, 2, 3, 2, 2, 2, 5, 5, 11, 28, 3, 2, 2, 2, 3, 2, 4], \"hoverinfo\": \"text\", \"marker\": {\"color\": \"rgba(177, 14, 22, 0.5)\", \"line\": {\"color\": \"rgb(0,0,0)\", \"width\": 1.5}}}], {\"title\": \"sub names appearances\"}, {\"showLink\": true, \"linkText\": \"Export to plot.ly\"})});</script>"
      ]
     },
     "metadata": {},
     "output_type": "display_data"
    }
   ],
   "source": [
    "import plotly.graph_objs as go\n",
    "from plotly.offline import init_notebook_mode, iplot\n",
    "init_notebook_mode(connected=True)\n",
    "\n",
    "data = [go.Bar(\n",
    "            x=shops.columns[2:],\n",
    "            y=[shops[c].sum() for c in shops.columns[2:]],\n",
    "            hoverinfo = 'text',\n",
    "            marker = dict(color = 'rgba(177, 14, 22, 0.5)',\n",
    "                             line=dict(color='rgb(0,0,0)',width=1.5)),\n",
    "    )]\n",
    "\n",
    "layout = dict(\n",
    "    title = 'sub names appearances',\n",
    ")\n",
    "fig = go.Figure(data=data, layout=layout)\n",
    "iplot(fig)"
   ]
  },
  {
   "cell_type": "markdown",
   "metadata": {},
   "source": [
    "* is it better to  eliminate those with just two appearances??"
   ]
  },
  {
   "cell_type": "code",
   "execution_count": 59,
   "metadata": {
    "collapsed": true
   },
   "outputs": [],
   "source": [
    "col_to_drop=[c for c in shops.columns[2:] if shops[c].sum()<=2]\n",
    "shop=shops.drop(col_to_drop, axis=1)"
   ]
  },
  {
   "cell_type": "code",
   "execution_count": 60,
   "metadata": {
    "collapsed": true
   },
   "outputs": [],
   "source": [
    "l=[\"shop\" for i in range(len(shops))]\n",
    "for c in shop.columns[2:]:\n",
    "    for i, x in enumerate(shops[c]):\n",
    "        if x!=0:\n",
    "            l[i]=l[i]+\" \"+c"
   ]
  },
  {
   "cell_type": "code",
   "execution_count": 77,
   "metadata": {},
   "outputs": [],
   "source": [
    "from sklearn.feature_extraction import FeatureHasher\n",
    "fh = FeatureHasher(n_features=6, input_type='string')\n",
    "hashed_features = fh.fit_transform(l)\n",
    "hashed_features = hashed_features.toarray()\n",
    "df=pd.concat([shops[['shop_id']], pd.DataFrame(hashed_features ,columns=[\"shop_name_\"+ str(i) for i in range (6)])], \n",
    "          axis=1)"
   ]
  },
  {
   "cell_type": "code",
   "execution_count": 78,
   "metadata": {},
   "outputs": [
    {
     "data": {
      "text/html": [
       "<div>\n",
       "<style scoped>\n",
       "    .dataframe tbody tr th:only-of-type {\n",
       "        vertical-align: middle;\n",
       "    }\n",
       "\n",
       "    .dataframe tbody tr th {\n",
       "        vertical-align: top;\n",
       "    }\n",
       "\n",
       "    .dataframe thead th {\n",
       "        text-align: right;\n",
       "    }\n",
       "</style>\n",
       "<table border=\"1\" class=\"dataframe\">\n",
       "  <thead>\n",
       "    <tr style=\"text-align: right;\">\n",
       "      <th></th>\n",
       "      <th>shop_id</th>\n",
       "      <th>shop_name_0</th>\n",
       "      <th>shop_name_1</th>\n",
       "      <th>shop_name_2</th>\n",
       "      <th>shop_name_3</th>\n",
       "      <th>shop_name_4</th>\n",
       "      <th>shop_name_5</th>\n",
       "    </tr>\n",
       "  </thead>\n",
       "  <tbody>\n",
       "    <tr>\n",
       "      <th>0</th>\n",
       "      <td>0</td>\n",
       "      <td>-1.0</td>\n",
       "      <td>-2.0</td>\n",
       "      <td>0.0</td>\n",
       "      <td>-1.0</td>\n",
       "      <td>-2.0</td>\n",
       "      <td>-1.0</td>\n",
       "    </tr>\n",
       "    <tr>\n",
       "      <th>1</th>\n",
       "      <td>1</td>\n",
       "      <td>0.0</td>\n",
       "      <td>-5.0</td>\n",
       "      <td>2.0</td>\n",
       "      <td>0.0</td>\n",
       "      <td>-2.0</td>\n",
       "      <td>-1.0</td>\n",
       "    </tr>\n",
       "    <tr>\n",
       "      <th>2</th>\n",
       "      <td>2</td>\n",
       "      <td>-1.0</td>\n",
       "      <td>0.0</td>\n",
       "      <td>2.0</td>\n",
       "      <td>0.0</td>\n",
       "      <td>2.0</td>\n",
       "      <td>-1.0</td>\n",
       "    </tr>\n",
       "    <tr>\n",
       "      <th>3</th>\n",
       "      <td>3</td>\n",
       "      <td>-1.0</td>\n",
       "      <td>-1.0</td>\n",
       "      <td>1.0</td>\n",
       "      <td>-1.0</td>\n",
       "      <td>-1.0</td>\n",
       "      <td>-1.0</td>\n",
       "    </tr>\n",
       "    <tr>\n",
       "      <th>4</th>\n",
       "      <td>4</td>\n",
       "      <td>2.0</td>\n",
       "      <td>0.0</td>\n",
       "      <td>2.0</td>\n",
       "      <td>0.0</td>\n",
       "      <td>1.0</td>\n",
       "      <td>-1.0</td>\n",
       "    </tr>\n",
       "  </tbody>\n",
       "</table>\n",
       "</div>"
      ],
      "text/plain": [
       "   shop_id  shop_name_0  shop_name_1  shop_name_2  shop_name_3  shop_name_4  \\\n",
       "0        0         -1.0         -2.0          0.0         -1.0         -2.0   \n",
       "1        1          0.0         -5.0          2.0          0.0         -2.0   \n",
       "2        2         -1.0          0.0          2.0          0.0          2.0   \n",
       "3        3         -1.0         -1.0          1.0         -1.0         -1.0   \n",
       "4        4          2.0          0.0          2.0          0.0          1.0   \n",
       "\n",
       "   shop_name_5  \n",
       "0         -1.0  \n",
       "1         -1.0  \n",
       "2         -1.0  \n",
       "3         -1.0  \n",
       "4         -1.0  "
      ]
     },
     "execution_count": 78,
     "metadata": {},
     "output_type": "execute_result"
    }
   ],
   "source": [
    "df.head()"
   ]
  },
  {
   "cell_type": "markdown",
   "metadata": {},
   "source": [
    "* i guess its save not to drop them\n",
    "#### now lets merge all the datasets with the sales data"
   ]
  },
  {
   "cell_type": "code",
   "execution_count": 144,
   "metadata": {
    "collapsed": true
   },
   "outputs": [],
   "source": [
    "sales = pd.merge(sales,item_to_cat_df, how='inner', on=\"item_id\")"
   ]
  },
  {
   "cell_type": "code",
   "execution_count": 147,
   "metadata": {
    "collapsed": true
   },
   "outputs": [],
   "source": [
    "sales=pd.merge(sales,shops, how='inner', on=\"shop_id\")"
   ]
  },
  {
   "cell_type": "code",
   "execution_count": 148,
   "metadata": {},
   "outputs": [
    {
     "name": "stdout",
     "output_type": "stream",
     "text": [
      "<class 'pandas.core.frame.DataFrame'>\n",
      "Int64Index: 2935849 entries, 0 to 2935848\n",
      "Data columns (total 23 columns):\n",
      "date                object\n",
      "date_block_num      int64\n",
      "shop_id             int64\n",
      "item_id             int64\n",
      "item_price          float64\n",
      "item_cnt_day        float64\n",
      "item_category_id    int64\n",
      "cats                object\n",
      "shop_name           object\n",
      "ii                  int64\n",
      "воронеж             int64\n",
      "мега                int64\n",
      "молл                int64\n",
      "москва              int64\n",
      "новосибирск         int64\n",
      "ростовнадону        int64\n",
      "тк                  int64\n",
      "трк                 int64\n",
      "трц                 int64\n",
      "тц                  int64\n",
      "тюмень              int64\n",
      "центральный         int64\n",
      "якутск              int64\n",
      "dtypes: float64(2), int64(18), object(3)\n",
      "memory usage: 537.6+ MB\n"
     ]
    }
   ],
   "source": [
    "sales.info()"
   ]
  },
  {
   "cell_type": "markdown",
   "metadata": {},
   "source": [
    "### it looks like we have outliers on item_cnt_day and item_price"
   ]
  }
 ],
 "metadata": {
  "kernelspec": {
   "display_name": "Python 3",
   "language": "python",
   "name": "python3"
  },
  "language_info": {
   "codemirror_mode": {
    "name": "ipython",
    "version": 3
   },
   "file_extension": ".py",
   "mimetype": "text/x-python",
   "name": "python",
   "nbconvert_exporter": "python",
   "pygments_lexer": "ipython3",
   "version": "3.6.3"
  }
 },
 "nbformat": 4,
 "nbformat_minor": 2
}
